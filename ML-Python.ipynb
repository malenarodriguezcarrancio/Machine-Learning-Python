{
 "cells": [
  {
   "cell_type": "markdown",
   "metadata": {},
   "source": [
    "Antes de comenzar es necesario importar las librerías que nos van a hacer falta."
   ]
  },
  {
   "cell_type": "code",
   "execution_count": 1,
   "metadata": {},
   "outputs": [],
   "source": [
    "import pandas as pd\n",
    "import numpy as np\n",
    "import matplotlib.pyplot as plt\n",
    "import seaborn as sns\n",
    "from sklearn.preprocessing import LabelEncoder, OneHotEncoder\n",
    "#from sklearn.linear_model.logistic import LogisticRegression\n",
    "from sklearn.ensemble import RandomForestClassifier\n",
    "from xgboost import XGBClassifier\n",
    "from sklearn.model_selection import train_test_split\n",
    "from pandas.plotting import scatter_matrix\n",
    "from sklearn.feature_selection import VarianceThreshold\n",
    "from sklearn.metrics import accuracy_score, auc, confusion_matrix, f1_score, precision_score, recall_score, roc_curve\n",
    "from sklearn.feature_selection import SelectKBest\n",
    "from sklearn.feature_selection import f_regression \n",
    "from sklearn.feature_selection import chi2 \n",
    "from sklearn.model_selection import GridSearchCV\n",
    "from sklearn.metrics import classification_report\n",
    "from sklearn.model_selection import cross_val_score\n",
    "\n",
    "#Web scrapping\n",
    "import requests\n",
    "from bs4 import BeautifulSoup\n",
    "\n",
    "# Fecha\n",
    "from datetime import datetime, timedelta\n",
    "from pandas import DataFrame\n",
    "\n",
    "#Balanceo\n",
    "from imblearn.over_sampling import SMOTE"
   ]
  },
  {
   "cell_type": "markdown",
   "metadata": {},
   "source": [
    "## 1. Cargamos los ficheros"
   ]
  },
  {
   "cell_type": "markdown",
   "metadata": {},
   "source": [
    "Cargamos los ficheros de enero y de diciembre y les mergeamos respectivamente en dos dataframes."
   ]
  },
  {
   "cell_type": "markdown",
   "metadata": {},
   "source": [
    "**DICIEMBRE**"
   ]
  },
  {
   "cell_type": "code",
   "execution_count": 2,
   "metadata": {},
   "outputs": [],
   "source": [
    "# DICIEMBRE\n",
    "df_clientes=pd.read_csv('clientes_diciembre.csv', sep='|')\n",
    "df_consumos=pd.read_csv('consumos_diciembre.csv', sep='|')\n",
    "df_finan=pd.read_csv('financiacion_diciembre.csv', sep='|')\n",
    "df_prod=pd.read_csv('productos_diciembre.csv', sep='|')"
   ]
  },
  {
   "cell_type": "code",
   "execution_count": 3,
   "metadata": {},
   "outputs": [
    {
     "data": {
      "text/plain": [
       "(95467, 8)"
      ]
     },
     "execution_count": 3,
     "metadata": {},
     "output_type": "execute_result"
    }
   ],
   "source": [
    "df_clientes.shape"
   ]
  },
  {
   "cell_type": "code",
   "execution_count": 4,
   "metadata": {},
   "outputs": [
    {
     "data": {
      "text/plain": [
       "(95467, 6)"
      ]
     },
     "execution_count": 4,
     "metadata": {},
     "output_type": "execute_result"
    }
   ],
   "source": [
    "df_consumos.shape"
   ]
  },
  {
   "cell_type": "code",
   "execution_count": 5,
   "metadata": {},
   "outputs": [
    {
     "data": {
      "text/plain": [
       "(24198, 4)"
      ]
     },
     "execution_count": 5,
     "metadata": {},
     "output_type": "execute_result"
    }
   ],
   "source": [
    "df_finan.shape"
   ]
  },
  {
   "cell_type": "code",
   "execution_count": 6,
   "metadata": {},
   "outputs": [
    {
     "data": {
      "text/plain": [
       "(95467, 4)"
      ]
     },
     "execution_count": 6,
     "metadata": {},
     "output_type": "execute_result"
    }
   ],
   "source": [
    "df_prod.shape"
   ]
  },
  {
   "cell_type": "markdown",
   "metadata": {},
   "source": [
    "Vemos que clientes, consumos y productos tienen el mismo número de filas por lo que podemos mergearles. En cuanto a financiación, primero comprobamos que los id están incluídos dentro de clientes o de cualquiera de los otros dos."
   ]
  },
  {
   "cell_type": "code",
   "execution_count": 7,
   "metadata": {},
   "outputs": [
    {
     "data": {
      "text/plain": [
       "24198"
      ]
     },
     "execution_count": 7,
     "metadata": {},
     "output_type": "execute_result"
    }
   ],
   "source": [
    "sum(df_finan['id'].isin(df_clientes['id']))"
   ]
  },
  {
   "cell_type": "markdown",
   "metadata": {},
   "source": [
    "Acabamos de comprobar que coincide, por tanto podemos pasar a mergearlos. "
   ]
  },
  {
   "cell_type": "code",
   "execution_count": 8,
   "metadata": {},
   "outputs": [],
   "source": [
    "# Mergeamos\n",
    "diciembre = pd.merge(df_clientes,df_consumos, on='id', how = 'left' )\n",
    "diciembre = pd.merge(diciembre,df_finan, on='id', how = 'left' )"
   ]
  },
  {
   "cell_type": "code",
   "execution_count": 9,
   "metadata": {},
   "outputs": [
    {
     "data": {
      "text/html": [
       "<div>\n",
       "<style scoped>\n",
       "    .dataframe tbody tr th:only-of-type {\n",
       "        vertical-align: middle;\n",
       "    }\n",
       "\n",
       "    .dataframe tbody tr th {\n",
       "        vertical-align: top;\n",
       "    }\n",
       "\n",
       "    .dataframe thead th {\n",
       "        text-align: right;\n",
       "    }\n",
       "</style>\n",
       "<table border=\"1\" class=\"dataframe\">\n",
       "  <thead>\n",
       "    <tr style=\"text-align: right;\">\n",
       "      <th></th>\n",
       "      <th>id</th>\n",
       "      <th>edad</th>\n",
       "      <th>facturacion</th>\n",
       "      <th>antiguedad</th>\n",
       "      <th>provincia</th>\n",
       "      <th>num_lineas</th>\n",
       "      <th>num_dt</th>\n",
       "      <th>incidencia</th>\n",
       "      <th>num_llamad_ent</th>\n",
       "      <th>num_llamad_sal</th>\n",
       "      <th>mb_datos</th>\n",
       "      <th>seg_llamad_ent</th>\n",
       "      <th>seg_llamad_sal</th>\n",
       "      <th>financiacion</th>\n",
       "      <th>imp_financ</th>\n",
       "      <th>descuentos</th>\n",
       "      <th>conexion</th>\n",
       "      <th>vel_conexion</th>\n",
       "      <th>TV</th>\n",
       "    </tr>\n",
       "  </thead>\n",
       "  <tbody>\n",
       "    <tr>\n",
       "      <th>0</th>\n",
       "      <td>1</td>\n",
       "      <td>63</td>\n",
       "      <td>216.028109</td>\n",
       "      <td>2018-11-23 08:48:00</td>\n",
       "      <td>La Rioja</td>\n",
       "      <td>5</td>\n",
       "      <td>NaN</td>\n",
       "      <td>NaN</td>\n",
       "      <td>110</td>\n",
       "      <td>79</td>\n",
       "      <td>10897</td>\n",
       "      <td>12806</td>\n",
       "      <td>13751</td>\n",
       "      <td>NaN</td>\n",
       "      <td>NaN</td>\n",
       "      <td>NaN</td>\n",
       "      <td>FIBRA</td>\n",
       "      <td>50MB</td>\n",
       "      <td>tv-futbol</td>\n",
       "    </tr>\n",
       "    <tr>\n",
       "      <th>1</th>\n",
       "      <td>2</td>\n",
       "      <td>84</td>\n",
       "      <td>255.830842</td>\n",
       "      <td>2017-08-22 03:19:00</td>\n",
       "      <td>Vizcaya</td>\n",
       "      <td>3</td>\n",
       "      <td>NaN</td>\n",
       "      <td>NaN</td>\n",
       "      <td>189</td>\n",
       "      <td>89</td>\n",
       "      <td>18657</td>\n",
       "      <td>6499</td>\n",
       "      <td>10862</td>\n",
       "      <td>NaN</td>\n",
       "      <td>NaN</td>\n",
       "      <td>SI</td>\n",
       "      <td>FIBRA</td>\n",
       "      <td>600MB</td>\n",
       "      <td>tv-futbol</td>\n",
       "    </tr>\n",
       "    <tr>\n",
       "      <th>2</th>\n",
       "      <td>3</td>\n",
       "      <td>66</td>\n",
       "      <td>135.768153</td>\n",
       "      <td>2001-12-27 13:50:00</td>\n",
       "      <td>Albacete</td>\n",
       "      <td>4</td>\n",
       "      <td>NaN</td>\n",
       "      <td>NaN</td>\n",
       "      <td>129</td>\n",
       "      <td>30</td>\n",
       "      <td>15511</td>\n",
       "      <td>17013</td>\n",
       "      <td>16743</td>\n",
       "      <td>NaN</td>\n",
       "      <td>NaN</td>\n",
       "      <td>SI</td>\n",
       "      <td>ADSL</td>\n",
       "      <td>35MB</td>\n",
       "      <td>tv-futbol</td>\n",
       "    </tr>\n",
       "    <tr>\n",
       "      <th>3</th>\n",
       "      <td>4</td>\n",
       "      <td>69</td>\n",
       "      <td>255.658527</td>\n",
       "      <td>2015-08-08 10:53:00</td>\n",
       "      <td>Lugo</td>\n",
       "      <td>4</td>\n",
       "      <td>NaN</td>\n",
       "      <td>NaN</td>\n",
       "      <td>51</td>\n",
       "      <td>52</td>\n",
       "      <td>12670</td>\n",
       "      <td>3393</td>\n",
       "      <td>6771</td>\n",
       "      <td>NaN</td>\n",
       "      <td>NaN</td>\n",
       "      <td>NaN</td>\n",
       "      <td>FIBRA</td>\n",
       "      <td>200MB</td>\n",
       "      <td>tv-familiar</td>\n",
       "    </tr>\n",
       "    <tr>\n",
       "      <th>4</th>\n",
       "      <td>5</td>\n",
       "      <td>30</td>\n",
       "      <td>22.302845</td>\n",
       "      <td>1997-08-29 02:19:00</td>\n",
       "      <td>Tarragona</td>\n",
       "      <td>2</td>\n",
       "      <td>2.0</td>\n",
       "      <td>NaN</td>\n",
       "      <td>183</td>\n",
       "      <td>3</td>\n",
       "      <td>23756</td>\n",
       "      <td>18436</td>\n",
       "      <td>4485</td>\n",
       "      <td>NaN</td>\n",
       "      <td>NaN</td>\n",
       "      <td>NaN</td>\n",
       "      <td>ADSL</td>\n",
       "      <td>10MB</td>\n",
       "      <td>tv-futbol</td>\n",
       "    </tr>\n",
       "  </tbody>\n",
       "</table>\n",
       "</div>"
      ],
      "text/plain": [
       "   id  edad  facturacion           antiguedad  provincia  num_lineas  num_dt  \\\n",
       "0   1    63   216.028109  2018-11-23 08:48:00   La Rioja           5     NaN   \n",
       "1   2    84   255.830842  2017-08-22 03:19:00    Vizcaya           3     NaN   \n",
       "2   3    66   135.768153  2001-12-27 13:50:00   Albacete           4     NaN   \n",
       "3   4    69   255.658527  2015-08-08 10:53:00       Lugo           4     NaN   \n",
       "4   5    30    22.302845  1997-08-29 02:19:00  Tarragona           2     2.0   \n",
       "\n",
       "  incidencia  num_llamad_ent  num_llamad_sal  mb_datos  seg_llamad_ent  \\\n",
       "0        NaN             110              79     10897           12806   \n",
       "1        NaN             189              89     18657            6499   \n",
       "2        NaN             129              30     15511           17013   \n",
       "3        NaN              51              52     12670            3393   \n",
       "4        NaN             183               3     23756           18436   \n",
       "\n",
       "   seg_llamad_sal financiacion  imp_financ descuentos conexion vel_conexion  \\\n",
       "0           13751          NaN         NaN        NaN    FIBRA         50MB   \n",
       "1           10862          NaN         NaN         SI    FIBRA        600MB   \n",
       "2           16743          NaN         NaN         SI     ADSL         35MB   \n",
       "3            6771          NaN         NaN        NaN    FIBRA        200MB   \n",
       "4            4485          NaN         NaN        NaN     ADSL         10MB   \n",
       "\n",
       "            TV  \n",
       "0    tv-futbol  \n",
       "1    tv-futbol  \n",
       "2    tv-futbol  \n",
       "3  tv-familiar  \n",
       "4    tv-futbol  "
      ]
     },
     "execution_count": 9,
     "metadata": {},
     "output_type": "execute_result"
    }
   ],
   "source": [
    "diciembre = pd.merge(diciembre,df_prod, on='id', how = 'left' )\n",
    "diciembre.head()"
   ]
  },
  {
   "cell_type": "markdown",
   "metadata": {},
   "source": [
    "**ENERO**"
   ]
  },
  {
   "cell_type": "code",
   "execution_count": 10,
   "metadata": {},
   "outputs": [],
   "source": [
    "# Enero\n",
    "df_clientes_en=pd.read_csv('clientes_enero.csv', sep='|')\n",
    "df_consumos_en=pd.read_csv('consumos_enero.csv', sep='|')\n",
    "df_finan_en=pd.read_csv('financiacion_enero.csv', sep='|')\n",
    "df_prod_en=pd.read_csv('productos_enero.csv', sep='|')"
   ]
  },
  {
   "cell_type": "code",
   "execution_count": 11,
   "metadata": {},
   "outputs": [
    {
     "data": {
      "text/plain": [
       "(92711, 8)"
      ]
     },
     "execution_count": 11,
     "metadata": {},
     "output_type": "execute_result"
    }
   ],
   "source": [
    "df_clientes_en.shape"
   ]
  },
  {
   "cell_type": "code",
   "execution_count": 12,
   "metadata": {},
   "outputs": [
    {
     "data": {
      "text/plain": [
       "(92711, 6)"
      ]
     },
     "execution_count": 12,
     "metadata": {},
     "output_type": "execute_result"
    }
   ],
   "source": [
    "df_consumos_en.shape"
   ]
  },
  {
   "cell_type": "code",
   "execution_count": 13,
   "metadata": {},
   "outputs": [
    {
     "data": {
      "text/plain": [
       "(25332, 4)"
      ]
     },
     "execution_count": 13,
     "metadata": {},
     "output_type": "execute_result"
    }
   ],
   "source": [
    "df_finan_en.shape"
   ]
  },
  {
   "cell_type": "code",
   "execution_count": 14,
   "metadata": {},
   "outputs": [
    {
     "data": {
      "text/plain": [
       "(92711, 4)"
      ]
     },
     "execution_count": 14,
     "metadata": {},
     "output_type": "execute_result"
    }
   ],
   "source": [
    "df_prod_en.shape"
   ]
  },
  {
   "cell_type": "code",
   "execution_count": 15,
   "metadata": {},
   "outputs": [
    {
     "data": {
      "text/plain": [
       "25332"
      ]
     },
     "execution_count": 15,
     "metadata": {},
     "output_type": "execute_result"
    }
   ],
   "source": [
    "sum(df_finan_en['id'].isin(df_clientes_en['id']))"
   ]
  },
  {
   "cell_type": "markdown",
   "metadata": {},
   "source": [
    "Como vemos, podemos mergear porque ocurre lo mismo que en diciembre."
   ]
  },
  {
   "cell_type": "code",
   "execution_count": 16,
   "metadata": {},
   "outputs": [],
   "source": [
    "# Mergeamos\n",
    "enero = pd.merge(df_clientes_en,df_consumos_en, on='id', how = 'left' )\n",
    "enero = pd.merge(enero,df_finan_en, on='id', how = 'left' )"
   ]
  },
  {
   "cell_type": "code",
   "execution_count": 17,
   "metadata": {},
   "outputs": [
    {
     "data": {
      "text/html": [
       "<div>\n",
       "<style scoped>\n",
       "    .dataframe tbody tr th:only-of-type {\n",
       "        vertical-align: middle;\n",
       "    }\n",
       "\n",
       "    .dataframe tbody tr th {\n",
       "        vertical-align: top;\n",
       "    }\n",
       "\n",
       "    .dataframe thead th {\n",
       "        text-align: right;\n",
       "    }\n",
       "</style>\n",
       "<table border=\"1\" class=\"dataframe\">\n",
       "  <thead>\n",
       "    <tr style=\"text-align: right;\">\n",
       "      <th></th>\n",
       "      <th>id</th>\n",
       "      <th>edad</th>\n",
       "      <th>facturacion</th>\n",
       "      <th>antiguedad</th>\n",
       "      <th>provincia</th>\n",
       "      <th>num_lineas</th>\n",
       "      <th>num_dt</th>\n",
       "      <th>incidencia</th>\n",
       "      <th>num_llamad_ent</th>\n",
       "      <th>num_llamad_sal</th>\n",
       "      <th>mb_datos</th>\n",
       "      <th>seg_llamad_ent</th>\n",
       "      <th>seg_llamad_sal</th>\n",
       "      <th>financiacion</th>\n",
       "      <th>imp_financ</th>\n",
       "      <th>descuentos</th>\n",
       "      <th>conexion</th>\n",
       "      <th>vel_conexion</th>\n",
       "      <th>TV</th>\n",
       "    </tr>\n",
       "  </thead>\n",
       "  <tbody>\n",
       "    <tr>\n",
       "      <th>0</th>\n",
       "      <td>1</td>\n",
       "      <td>63</td>\n",
       "      <td>216.028109</td>\n",
       "      <td>11/23/2018 08:48 AM</td>\n",
       "      <td>La Rioja</td>\n",
       "      <td>5</td>\n",
       "      <td>NaN</td>\n",
       "      <td>NaN</td>\n",
       "      <td>95</td>\n",
       "      <td>19</td>\n",
       "      <td>6525</td>\n",
       "      <td>7634</td>\n",
       "      <td>18520</td>\n",
       "      <td>NaN</td>\n",
       "      <td>NaN</td>\n",
       "      <td>NaN</td>\n",
       "      <td>FIBRA</td>\n",
       "      <td>50MB</td>\n",
       "      <td>tv-futbol</td>\n",
       "    </tr>\n",
       "    <tr>\n",
       "      <th>1</th>\n",
       "      <td>2</td>\n",
       "      <td>84</td>\n",
       "      <td>255.830842</td>\n",
       "      <td>08/22/2017 03:19 AM</td>\n",
       "      <td>Vizcaya</td>\n",
       "      <td>3</td>\n",
       "      <td>NaN</td>\n",
       "      <td>NaN</td>\n",
       "      <td>44</td>\n",
       "      <td>36</td>\n",
       "      <td>14471</td>\n",
       "      <td>14541</td>\n",
       "      <td>8016</td>\n",
       "      <td>NaN</td>\n",
       "      <td>NaN</td>\n",
       "      <td>SI</td>\n",
       "      <td>FIBRA</td>\n",
       "      <td>600MB</td>\n",
       "      <td>tv-futbol</td>\n",
       "    </tr>\n",
       "    <tr>\n",
       "      <th>2</th>\n",
       "      <td>3</td>\n",
       "      <td>66</td>\n",
       "      <td>135.768153</td>\n",
       "      <td>12/27/2001 01:50 PM</td>\n",
       "      <td>Albacete</td>\n",
       "      <td>4</td>\n",
       "      <td>NaN</td>\n",
       "      <td>NaN</td>\n",
       "      <td>94</td>\n",
       "      <td>27</td>\n",
       "      <td>1428</td>\n",
       "      <td>5248</td>\n",
       "      <td>7106</td>\n",
       "      <td>NaN</td>\n",
       "      <td>NaN</td>\n",
       "      <td>SI</td>\n",
       "      <td>ADSL</td>\n",
       "      <td>35MB</td>\n",
       "      <td>tv-futbol</td>\n",
       "    </tr>\n",
       "    <tr>\n",
       "      <th>3</th>\n",
       "      <td>4</td>\n",
       "      <td>69</td>\n",
       "      <td>255.658527</td>\n",
       "      <td>08/08/2015 10:53 AM</td>\n",
       "      <td>Lugo</td>\n",
       "      <td>4</td>\n",
       "      <td>NaN</td>\n",
       "      <td>NaN</td>\n",
       "      <td>186</td>\n",
       "      <td>20</td>\n",
       "      <td>20083</td>\n",
       "      <td>7372</td>\n",
       "      <td>5052</td>\n",
       "      <td>NaN</td>\n",
       "      <td>NaN</td>\n",
       "      <td>NaN</td>\n",
       "      <td>FIBRA</td>\n",
       "      <td>200MB</td>\n",
       "      <td>tv-familiar</td>\n",
       "    </tr>\n",
       "    <tr>\n",
       "      <th>4</th>\n",
       "      <td>6</td>\n",
       "      <td>51</td>\n",
       "      <td>99.348645</td>\n",
       "      <td>11/04/1997 11:43 AM</td>\n",
       "      <td>Huelva</td>\n",
       "      <td>4</td>\n",
       "      <td>NaN</td>\n",
       "      <td>NaN</td>\n",
       "      <td>37</td>\n",
       "      <td>32</td>\n",
       "      <td>19078</td>\n",
       "      <td>5009</td>\n",
       "      <td>8686</td>\n",
       "      <td>NaN</td>\n",
       "      <td>NaN</td>\n",
       "      <td>NaN</td>\n",
       "      <td>FIBRA</td>\n",
       "      <td>200MB</td>\n",
       "      <td>tv-futbol</td>\n",
       "    </tr>\n",
       "  </tbody>\n",
       "</table>\n",
       "</div>"
      ],
      "text/plain": [
       "   id  edad  facturacion           antiguedad provincia  num_lineas  num_dt  \\\n",
       "0   1    63   216.028109  11/23/2018 08:48 AM  La Rioja           5     NaN   \n",
       "1   2    84   255.830842  08/22/2017 03:19 AM   Vizcaya           3     NaN   \n",
       "2   3    66   135.768153  12/27/2001 01:50 PM  Albacete           4     NaN   \n",
       "3   4    69   255.658527  08/08/2015 10:53 AM      Lugo           4     NaN   \n",
       "4   6    51    99.348645  11/04/1997 11:43 AM    Huelva           4     NaN   \n",
       "\n",
       "  incidencia  num_llamad_ent  num_llamad_sal  mb_datos  seg_llamad_ent  \\\n",
       "0        NaN              95              19      6525            7634   \n",
       "1        NaN              44              36     14471           14541   \n",
       "2        NaN              94              27      1428            5248   \n",
       "3        NaN             186              20     20083            7372   \n",
       "4        NaN              37              32     19078            5009   \n",
       "\n",
       "   seg_llamad_sal financiacion  imp_financ descuentos conexion vel_conexion  \\\n",
       "0           18520          NaN         NaN        NaN    FIBRA         50MB   \n",
       "1            8016          NaN         NaN         SI    FIBRA        600MB   \n",
       "2            7106          NaN         NaN         SI     ADSL         35MB   \n",
       "3            5052          NaN         NaN        NaN    FIBRA        200MB   \n",
       "4            8686          NaN         NaN        NaN    FIBRA        200MB   \n",
       "\n",
       "            TV  \n",
       "0    tv-futbol  \n",
       "1    tv-futbol  \n",
       "2    tv-futbol  \n",
       "3  tv-familiar  \n",
       "4    tv-futbol  "
      ]
     },
     "execution_count": 17,
     "metadata": {},
     "output_type": "execute_result"
    }
   ],
   "source": [
    "enero = pd.merge(enero,df_prod_en, on='id', how = 'left' )\n",
    "enero.head()"
   ]
  },
  {
   "cell_type": "markdown",
   "metadata": {},
   "source": [
    "--------------------------------------------------------------"
   ]
  },
  {
   "cell_type": "markdown",
   "metadata": {},
   "source": [
    "## 2. Preprocesado y limpieza de datos"
   ]
  },
  {
   "cell_type": "markdown",
   "metadata": {},
   "source": [
    "Vamos a imputar los NaN de num_dt, incidencia, financiacion, imp_financ y descuentos. Después de ello juntamos diciembre y enero."
   ]
  },
  {
   "cell_type": "code",
   "execution_count": 18,
   "metadata": {},
   "outputs": [
    {
     "data": {
      "text/html": [
       "<div>\n",
       "<style scoped>\n",
       "    .dataframe tbody tr th:only-of-type {\n",
       "        vertical-align: middle;\n",
       "    }\n",
       "\n",
       "    .dataframe tbody tr th {\n",
       "        vertical-align: top;\n",
       "    }\n",
       "\n",
       "    .dataframe thead th {\n",
       "        text-align: right;\n",
       "    }\n",
       "</style>\n",
       "<table border=\"1\" class=\"dataframe\">\n",
       "  <thead>\n",
       "    <tr style=\"text-align: right;\">\n",
       "      <th></th>\n",
       "      <th>id</th>\n",
       "      <th>edad</th>\n",
       "      <th>facturacion</th>\n",
       "      <th>antiguedad</th>\n",
       "      <th>provincia</th>\n",
       "      <th>num_lineas</th>\n",
       "      <th>num_dt</th>\n",
       "      <th>incidencia</th>\n",
       "      <th>num_llamad_ent</th>\n",
       "      <th>num_llamad_sal</th>\n",
       "      <th>mb_datos</th>\n",
       "      <th>seg_llamad_ent</th>\n",
       "      <th>seg_llamad_sal</th>\n",
       "      <th>financiacion</th>\n",
       "      <th>imp_financ</th>\n",
       "      <th>descuentos</th>\n",
       "      <th>conexion</th>\n",
       "      <th>vel_conexion</th>\n",
       "      <th>TV</th>\n",
       "    </tr>\n",
       "  </thead>\n",
       "  <tbody>\n",
       "    <tr>\n",
       "      <th>0</th>\n",
       "      <td>1</td>\n",
       "      <td>63</td>\n",
       "      <td>216.028109</td>\n",
       "      <td>2018-11-23 08:48:00</td>\n",
       "      <td>La Rioja</td>\n",
       "      <td>5</td>\n",
       "      <td>0.0</td>\n",
       "      <td>NO</td>\n",
       "      <td>110</td>\n",
       "      <td>79</td>\n",
       "      <td>10897</td>\n",
       "      <td>12806</td>\n",
       "      <td>13751</td>\n",
       "      <td>NO</td>\n",
       "      <td>0.0</td>\n",
       "      <td>NO</td>\n",
       "      <td>FIBRA</td>\n",
       "      <td>50MB</td>\n",
       "      <td>tv-futbol</td>\n",
       "    </tr>\n",
       "    <tr>\n",
       "      <th>1</th>\n",
       "      <td>2</td>\n",
       "      <td>84</td>\n",
       "      <td>255.830842</td>\n",
       "      <td>2017-08-22 03:19:00</td>\n",
       "      <td>Vizcaya</td>\n",
       "      <td>3</td>\n",
       "      <td>0.0</td>\n",
       "      <td>NO</td>\n",
       "      <td>189</td>\n",
       "      <td>89</td>\n",
       "      <td>18657</td>\n",
       "      <td>6499</td>\n",
       "      <td>10862</td>\n",
       "      <td>NO</td>\n",
       "      <td>0.0</td>\n",
       "      <td>SI</td>\n",
       "      <td>FIBRA</td>\n",
       "      <td>600MB</td>\n",
       "      <td>tv-futbol</td>\n",
       "    </tr>\n",
       "    <tr>\n",
       "      <th>2</th>\n",
       "      <td>3</td>\n",
       "      <td>66</td>\n",
       "      <td>135.768153</td>\n",
       "      <td>2001-12-27 13:50:00</td>\n",
       "      <td>Albacete</td>\n",
       "      <td>4</td>\n",
       "      <td>0.0</td>\n",
       "      <td>NO</td>\n",
       "      <td>129</td>\n",
       "      <td>30</td>\n",
       "      <td>15511</td>\n",
       "      <td>17013</td>\n",
       "      <td>16743</td>\n",
       "      <td>NO</td>\n",
       "      <td>0.0</td>\n",
       "      <td>SI</td>\n",
       "      <td>ADSL</td>\n",
       "      <td>35MB</td>\n",
       "      <td>tv-futbol</td>\n",
       "    </tr>\n",
       "    <tr>\n",
       "      <th>3</th>\n",
       "      <td>4</td>\n",
       "      <td>69</td>\n",
       "      <td>255.658527</td>\n",
       "      <td>2015-08-08 10:53:00</td>\n",
       "      <td>Lugo</td>\n",
       "      <td>4</td>\n",
       "      <td>0.0</td>\n",
       "      <td>NO</td>\n",
       "      <td>51</td>\n",
       "      <td>52</td>\n",
       "      <td>12670</td>\n",
       "      <td>3393</td>\n",
       "      <td>6771</td>\n",
       "      <td>NO</td>\n",
       "      <td>0.0</td>\n",
       "      <td>NO</td>\n",
       "      <td>FIBRA</td>\n",
       "      <td>200MB</td>\n",
       "      <td>tv-familiar</td>\n",
       "    </tr>\n",
       "    <tr>\n",
       "      <th>4</th>\n",
       "      <td>5</td>\n",
       "      <td>30</td>\n",
       "      <td>22.302845</td>\n",
       "      <td>1997-08-29 02:19:00</td>\n",
       "      <td>Tarragona</td>\n",
       "      <td>2</td>\n",
       "      <td>2.0</td>\n",
       "      <td>NO</td>\n",
       "      <td>183</td>\n",
       "      <td>3</td>\n",
       "      <td>23756</td>\n",
       "      <td>18436</td>\n",
       "      <td>4485</td>\n",
       "      <td>NO</td>\n",
       "      <td>0.0</td>\n",
       "      <td>NO</td>\n",
       "      <td>ADSL</td>\n",
       "      <td>10MB</td>\n",
       "      <td>tv-futbol</td>\n",
       "    </tr>\n",
       "  </tbody>\n",
       "</table>\n",
       "</div>"
      ],
      "text/plain": [
       "   id  edad  facturacion           antiguedad  provincia  num_lineas  num_dt  \\\n",
       "0   1    63   216.028109  2018-11-23 08:48:00   La Rioja           5     0.0   \n",
       "1   2    84   255.830842  2017-08-22 03:19:00    Vizcaya           3     0.0   \n",
       "2   3    66   135.768153  2001-12-27 13:50:00   Albacete           4     0.0   \n",
       "3   4    69   255.658527  2015-08-08 10:53:00       Lugo           4     0.0   \n",
       "4   5    30    22.302845  1997-08-29 02:19:00  Tarragona           2     2.0   \n",
       "\n",
       "  incidencia  num_llamad_ent  num_llamad_sal  mb_datos  seg_llamad_ent  \\\n",
       "0         NO             110              79     10897           12806   \n",
       "1         NO             189              89     18657            6499   \n",
       "2         NO             129              30     15511           17013   \n",
       "3         NO              51              52     12670            3393   \n",
       "4         NO             183               3     23756           18436   \n",
       "\n",
       "   seg_llamad_sal financiacion  imp_financ descuentos conexion vel_conexion  \\\n",
       "0           13751           NO         0.0         NO    FIBRA         50MB   \n",
       "1           10862           NO         0.0         SI    FIBRA        600MB   \n",
       "2           16743           NO         0.0         SI     ADSL         35MB   \n",
       "3            6771           NO         0.0         NO    FIBRA        200MB   \n",
       "4            4485           NO         0.0         NO     ADSL         10MB   \n",
       "\n",
       "            TV  \n",
       "0    tv-futbol  \n",
       "1    tv-futbol  \n",
       "2    tv-futbol  \n",
       "3  tv-familiar  \n",
       "4    tv-futbol  "
      ]
     },
     "execution_count": 18,
     "metadata": {},
     "output_type": "execute_result"
    }
   ],
   "source": [
    "diciembre.num_dt.fillna(0, inplace = True)\n",
    "diciembre.incidencia.fillna('NO', inplace = True)\n",
    "diciembre.financiacion.fillna('NO', inplace = True)\n",
    "diciembre.imp_financ.fillna(0, inplace = True)\n",
    "diciembre.descuentos.fillna('NO', inplace = True)\n",
    "diciembre.head()"
   ]
  },
  {
   "cell_type": "code",
   "execution_count": 19,
   "metadata": {
    "scrolled": true
   },
   "outputs": [
    {
     "data": {
      "text/html": [
       "<div>\n",
       "<style scoped>\n",
       "    .dataframe tbody tr th:only-of-type {\n",
       "        vertical-align: middle;\n",
       "    }\n",
       "\n",
       "    .dataframe tbody tr th {\n",
       "        vertical-align: top;\n",
       "    }\n",
       "\n",
       "    .dataframe thead th {\n",
       "        text-align: right;\n",
       "    }\n",
       "</style>\n",
       "<table border=\"1\" class=\"dataframe\">\n",
       "  <thead>\n",
       "    <tr style=\"text-align: right;\">\n",
       "      <th></th>\n",
       "      <th>id</th>\n",
       "      <th>edad</th>\n",
       "      <th>facturacion</th>\n",
       "      <th>antiguedad</th>\n",
       "      <th>provincia</th>\n",
       "      <th>num_lineas</th>\n",
       "      <th>num_dt</th>\n",
       "      <th>incidencia</th>\n",
       "      <th>num_llamad_ent</th>\n",
       "      <th>num_llamad_sal</th>\n",
       "      <th>mb_datos</th>\n",
       "      <th>seg_llamad_ent</th>\n",
       "      <th>seg_llamad_sal</th>\n",
       "      <th>financiacion</th>\n",
       "      <th>imp_financ</th>\n",
       "      <th>descuentos</th>\n",
       "      <th>conexion</th>\n",
       "      <th>vel_conexion</th>\n",
       "      <th>TV</th>\n",
       "    </tr>\n",
       "  </thead>\n",
       "  <tbody>\n",
       "    <tr>\n",
       "      <th>0</th>\n",
       "      <td>1</td>\n",
       "      <td>63</td>\n",
       "      <td>216.028109</td>\n",
       "      <td>11/23/2018 08:48 AM</td>\n",
       "      <td>La Rioja</td>\n",
       "      <td>5</td>\n",
       "      <td>0.0</td>\n",
       "      <td>NO</td>\n",
       "      <td>95</td>\n",
       "      <td>19</td>\n",
       "      <td>6525</td>\n",
       "      <td>7634</td>\n",
       "      <td>18520</td>\n",
       "      <td>NO</td>\n",
       "      <td>0.0</td>\n",
       "      <td>NO</td>\n",
       "      <td>FIBRA</td>\n",
       "      <td>50MB</td>\n",
       "      <td>tv-futbol</td>\n",
       "    </tr>\n",
       "    <tr>\n",
       "      <th>1</th>\n",
       "      <td>2</td>\n",
       "      <td>84</td>\n",
       "      <td>255.830842</td>\n",
       "      <td>08/22/2017 03:19 AM</td>\n",
       "      <td>Vizcaya</td>\n",
       "      <td>3</td>\n",
       "      <td>0.0</td>\n",
       "      <td>NO</td>\n",
       "      <td>44</td>\n",
       "      <td>36</td>\n",
       "      <td>14471</td>\n",
       "      <td>14541</td>\n",
       "      <td>8016</td>\n",
       "      <td>NO</td>\n",
       "      <td>0.0</td>\n",
       "      <td>SI</td>\n",
       "      <td>FIBRA</td>\n",
       "      <td>600MB</td>\n",
       "      <td>tv-futbol</td>\n",
       "    </tr>\n",
       "    <tr>\n",
       "      <th>2</th>\n",
       "      <td>3</td>\n",
       "      <td>66</td>\n",
       "      <td>135.768153</td>\n",
       "      <td>12/27/2001 01:50 PM</td>\n",
       "      <td>Albacete</td>\n",
       "      <td>4</td>\n",
       "      <td>0.0</td>\n",
       "      <td>NO</td>\n",
       "      <td>94</td>\n",
       "      <td>27</td>\n",
       "      <td>1428</td>\n",
       "      <td>5248</td>\n",
       "      <td>7106</td>\n",
       "      <td>NO</td>\n",
       "      <td>0.0</td>\n",
       "      <td>SI</td>\n",
       "      <td>ADSL</td>\n",
       "      <td>35MB</td>\n",
       "      <td>tv-futbol</td>\n",
       "    </tr>\n",
       "    <tr>\n",
       "      <th>3</th>\n",
       "      <td>4</td>\n",
       "      <td>69</td>\n",
       "      <td>255.658527</td>\n",
       "      <td>08/08/2015 10:53 AM</td>\n",
       "      <td>Lugo</td>\n",
       "      <td>4</td>\n",
       "      <td>0.0</td>\n",
       "      <td>NO</td>\n",
       "      <td>186</td>\n",
       "      <td>20</td>\n",
       "      <td>20083</td>\n",
       "      <td>7372</td>\n",
       "      <td>5052</td>\n",
       "      <td>NO</td>\n",
       "      <td>0.0</td>\n",
       "      <td>NO</td>\n",
       "      <td>FIBRA</td>\n",
       "      <td>200MB</td>\n",
       "      <td>tv-familiar</td>\n",
       "    </tr>\n",
       "    <tr>\n",
       "      <th>4</th>\n",
       "      <td>6</td>\n",
       "      <td>51</td>\n",
       "      <td>99.348645</td>\n",
       "      <td>11/04/1997 11:43 AM</td>\n",
       "      <td>Huelva</td>\n",
       "      <td>4</td>\n",
       "      <td>0.0</td>\n",
       "      <td>NO</td>\n",
       "      <td>37</td>\n",
       "      <td>32</td>\n",
       "      <td>19078</td>\n",
       "      <td>5009</td>\n",
       "      <td>8686</td>\n",
       "      <td>NO</td>\n",
       "      <td>0.0</td>\n",
       "      <td>NO</td>\n",
       "      <td>FIBRA</td>\n",
       "      <td>200MB</td>\n",
       "      <td>tv-futbol</td>\n",
       "    </tr>\n",
       "  </tbody>\n",
       "</table>\n",
       "</div>"
      ],
      "text/plain": [
       "   id  edad  facturacion           antiguedad provincia  num_lineas  num_dt  \\\n",
       "0   1    63   216.028109  11/23/2018 08:48 AM  La Rioja           5     0.0   \n",
       "1   2    84   255.830842  08/22/2017 03:19 AM   Vizcaya           3     0.0   \n",
       "2   3    66   135.768153  12/27/2001 01:50 PM  Albacete           4     0.0   \n",
       "3   4    69   255.658527  08/08/2015 10:53 AM      Lugo           4     0.0   \n",
       "4   6    51    99.348645  11/04/1997 11:43 AM    Huelva           4     0.0   \n",
       "\n",
       "  incidencia  num_llamad_ent  num_llamad_sal  mb_datos  seg_llamad_ent  \\\n",
       "0         NO              95              19      6525            7634   \n",
       "1         NO              44              36     14471           14541   \n",
       "2         NO              94              27      1428            5248   \n",
       "3         NO             186              20     20083            7372   \n",
       "4         NO              37              32     19078            5009   \n",
       "\n",
       "   seg_llamad_sal financiacion  imp_financ descuentos conexion vel_conexion  \\\n",
       "0           18520           NO         0.0         NO    FIBRA         50MB   \n",
       "1            8016           NO         0.0         SI    FIBRA        600MB   \n",
       "2            7106           NO         0.0         SI     ADSL         35MB   \n",
       "3            5052           NO         0.0         NO    FIBRA        200MB   \n",
       "4            8686           NO         0.0         NO    FIBRA        200MB   \n",
       "\n",
       "            TV  \n",
       "0    tv-futbol  \n",
       "1    tv-futbol  \n",
       "2    tv-futbol  \n",
       "3  tv-familiar  \n",
       "4    tv-futbol  "
      ]
     },
     "execution_count": 19,
     "metadata": {},
     "output_type": "execute_result"
    }
   ],
   "source": [
    "enero.num_dt.fillna(0, inplace = True)\n",
    "enero.incidencia.fillna('NO', inplace = True)\n",
    "enero.financiacion.fillna('NO', inplace = True)\n",
    "enero.imp_financ.fillna(0, inplace = True)\n",
    "enero.descuentos.fillna('NO', inplace = True)\n",
    "enero.head()"
   ]
  },
  {
   "cell_type": "code",
   "execution_count": 20,
   "metadata": {},
   "outputs": [],
   "source": [
    "# Creamos una nueva variable para después poder separlos facilmente\n",
    "diciembre['mes'] = 1\n",
    "enero['mes'] = 0"
   ]
  },
  {
   "cell_type": "code",
   "execution_count": 21,
   "metadata": {},
   "outputs": [
    {
     "data": {
      "text/html": [
       "<div>\n",
       "<style scoped>\n",
       "    .dataframe tbody tr th:only-of-type {\n",
       "        vertical-align: middle;\n",
       "    }\n",
       "\n",
       "    .dataframe tbody tr th {\n",
       "        vertical-align: top;\n",
       "    }\n",
       "\n",
       "    .dataframe thead th {\n",
       "        text-align: right;\n",
       "    }\n",
       "</style>\n",
       "<table border=\"1\" class=\"dataframe\">\n",
       "  <thead>\n",
       "    <tr style=\"text-align: right;\">\n",
       "      <th></th>\n",
       "      <th>id</th>\n",
       "      <th>edad</th>\n",
       "      <th>facturacion</th>\n",
       "      <th>antiguedad</th>\n",
       "      <th>provincia</th>\n",
       "      <th>num_lineas</th>\n",
       "      <th>num_dt</th>\n",
       "      <th>incidencia</th>\n",
       "      <th>num_llamad_ent</th>\n",
       "      <th>num_llamad_sal</th>\n",
       "      <th>mb_datos</th>\n",
       "      <th>seg_llamad_ent</th>\n",
       "      <th>seg_llamad_sal</th>\n",
       "      <th>financiacion</th>\n",
       "      <th>imp_financ</th>\n",
       "      <th>descuentos</th>\n",
       "      <th>conexion</th>\n",
       "      <th>vel_conexion</th>\n",
       "      <th>TV</th>\n",
       "      <th>mes</th>\n",
       "    </tr>\n",
       "  </thead>\n",
       "  <tbody>\n",
       "    <tr>\n",
       "      <th>0</th>\n",
       "      <td>1</td>\n",
       "      <td>63</td>\n",
       "      <td>216.028109</td>\n",
       "      <td>2018-11-23 08:48:00</td>\n",
       "      <td>La Rioja</td>\n",
       "      <td>5</td>\n",
       "      <td>0.0</td>\n",
       "      <td>NO</td>\n",
       "      <td>110</td>\n",
       "      <td>79</td>\n",
       "      <td>10897</td>\n",
       "      <td>12806</td>\n",
       "      <td>13751</td>\n",
       "      <td>NO</td>\n",
       "      <td>0.0</td>\n",
       "      <td>NO</td>\n",
       "      <td>FIBRA</td>\n",
       "      <td>50MB</td>\n",
       "      <td>tv-futbol</td>\n",
       "      <td>1</td>\n",
       "    </tr>\n",
       "    <tr>\n",
       "      <th>1</th>\n",
       "      <td>2</td>\n",
       "      <td>84</td>\n",
       "      <td>255.830842</td>\n",
       "      <td>2017-08-22 03:19:00</td>\n",
       "      <td>Vizcaya</td>\n",
       "      <td>3</td>\n",
       "      <td>0.0</td>\n",
       "      <td>NO</td>\n",
       "      <td>189</td>\n",
       "      <td>89</td>\n",
       "      <td>18657</td>\n",
       "      <td>6499</td>\n",
       "      <td>10862</td>\n",
       "      <td>NO</td>\n",
       "      <td>0.0</td>\n",
       "      <td>SI</td>\n",
       "      <td>FIBRA</td>\n",
       "      <td>600MB</td>\n",
       "      <td>tv-futbol</td>\n",
       "      <td>1</td>\n",
       "    </tr>\n",
       "    <tr>\n",
       "      <th>2</th>\n",
       "      <td>3</td>\n",
       "      <td>66</td>\n",
       "      <td>135.768153</td>\n",
       "      <td>2001-12-27 13:50:00</td>\n",
       "      <td>Albacete</td>\n",
       "      <td>4</td>\n",
       "      <td>0.0</td>\n",
       "      <td>NO</td>\n",
       "      <td>129</td>\n",
       "      <td>30</td>\n",
       "      <td>15511</td>\n",
       "      <td>17013</td>\n",
       "      <td>16743</td>\n",
       "      <td>NO</td>\n",
       "      <td>0.0</td>\n",
       "      <td>SI</td>\n",
       "      <td>ADSL</td>\n",
       "      <td>35MB</td>\n",
       "      <td>tv-futbol</td>\n",
       "      <td>1</td>\n",
       "    </tr>\n",
       "    <tr>\n",
       "      <th>3</th>\n",
       "      <td>4</td>\n",
       "      <td>69</td>\n",
       "      <td>255.658527</td>\n",
       "      <td>2015-08-08 10:53:00</td>\n",
       "      <td>Lugo</td>\n",
       "      <td>4</td>\n",
       "      <td>0.0</td>\n",
       "      <td>NO</td>\n",
       "      <td>51</td>\n",
       "      <td>52</td>\n",
       "      <td>12670</td>\n",
       "      <td>3393</td>\n",
       "      <td>6771</td>\n",
       "      <td>NO</td>\n",
       "      <td>0.0</td>\n",
       "      <td>NO</td>\n",
       "      <td>FIBRA</td>\n",
       "      <td>200MB</td>\n",
       "      <td>tv-familiar</td>\n",
       "      <td>1</td>\n",
       "    </tr>\n",
       "    <tr>\n",
       "      <th>4</th>\n",
       "      <td>5</td>\n",
       "      <td>30</td>\n",
       "      <td>22.302845</td>\n",
       "      <td>1997-08-29 02:19:00</td>\n",
       "      <td>Tarragona</td>\n",
       "      <td>2</td>\n",
       "      <td>2.0</td>\n",
       "      <td>NO</td>\n",
       "      <td>183</td>\n",
       "      <td>3</td>\n",
       "      <td>23756</td>\n",
       "      <td>18436</td>\n",
       "      <td>4485</td>\n",
       "      <td>NO</td>\n",
       "      <td>0.0</td>\n",
       "      <td>NO</td>\n",
       "      <td>ADSL</td>\n",
       "      <td>10MB</td>\n",
       "      <td>tv-futbol</td>\n",
       "      <td>1</td>\n",
       "    </tr>\n",
       "  </tbody>\n",
       "</table>\n",
       "</div>"
      ],
      "text/plain": [
       "   id  edad  facturacion           antiguedad  provincia  num_lineas  num_dt  \\\n",
       "0   1    63   216.028109  2018-11-23 08:48:00   La Rioja           5     0.0   \n",
       "1   2    84   255.830842  2017-08-22 03:19:00    Vizcaya           3     0.0   \n",
       "2   3    66   135.768153  2001-12-27 13:50:00   Albacete           4     0.0   \n",
       "3   4    69   255.658527  2015-08-08 10:53:00       Lugo           4     0.0   \n",
       "4   5    30    22.302845  1997-08-29 02:19:00  Tarragona           2     2.0   \n",
       "\n",
       "  incidencia  num_llamad_ent  num_llamad_sal  mb_datos  seg_llamad_ent  \\\n",
       "0         NO             110              79     10897           12806   \n",
       "1         NO             189              89     18657            6499   \n",
       "2         NO             129              30     15511           17013   \n",
       "3         NO              51              52     12670            3393   \n",
       "4         NO             183               3     23756           18436   \n",
       "\n",
       "   seg_llamad_sal financiacion  imp_financ descuentos conexion vel_conexion  \\\n",
       "0           13751           NO         0.0         NO    FIBRA         50MB   \n",
       "1           10862           NO         0.0         SI    FIBRA        600MB   \n",
       "2           16743           NO         0.0         SI     ADSL         35MB   \n",
       "3            6771           NO         0.0         NO    FIBRA        200MB   \n",
       "4            4485           NO         0.0         NO     ADSL         10MB   \n",
       "\n",
       "            TV  mes  \n",
       "0    tv-futbol    1  \n",
       "1    tv-futbol    1  \n",
       "2    tv-futbol    1  \n",
       "3  tv-familiar    1  \n",
       "4    tv-futbol    1  "
      ]
     },
     "execution_count": 21,
     "metadata": {},
     "output_type": "execute_result"
    }
   ],
   "source": [
    "result = pd.concat([diciembre,enero])\n",
    "result.head()"
   ]
  },
  {
   "cell_type": "code",
   "execution_count": 22,
   "metadata": {},
   "outputs": [
    {
     "data": {
      "text/plain": [
       "id                0\n",
       "edad              0\n",
       "facturacion       0\n",
       "antiguedad        0\n",
       "provincia         0\n",
       "num_lineas        0\n",
       "num_dt            0\n",
       "incidencia        0\n",
       "num_llamad_ent    0\n",
       "num_llamad_sal    0\n",
       "mb_datos          0\n",
       "seg_llamad_ent    0\n",
       "seg_llamad_sal    0\n",
       "financiacion      0\n",
       "imp_financ        0\n",
       "descuentos        0\n",
       "conexion          2\n",
       "vel_conexion      6\n",
       "TV                0\n",
       "mes               0\n",
       "dtype: int64"
      ]
     },
     "execution_count": 22,
     "metadata": {},
     "output_type": "execute_result"
    }
   ],
   "source": [
    "result.isnull().sum()"
   ]
  },
  {
   "cell_type": "markdown",
   "metadata": {},
   "source": [
    "*Conexión*"
   ]
  },
  {
   "cell_type": "code",
   "execution_count": 23,
   "metadata": {},
   "outputs": [
    {
     "data": {
      "text/plain": [
       "ADSL     95220\n",
       "FIBRA    92956\n",
       "Name: conexion, dtype: int64"
      ]
     },
     "execution_count": 23,
     "metadata": {},
     "output_type": "execute_result"
    }
   ],
   "source": [
    "result.conexion.value_counts()"
   ]
  },
  {
   "cell_type": "code",
   "execution_count": 24,
   "metadata": {},
   "outputs": [],
   "source": [
    "# Imputamos el conexion por la moda\n",
    "result['conexion'] = result['conexion'].fillna(result['conexion'].mode()[0])"
   ]
  },
  {
   "cell_type": "markdown",
   "metadata": {},
   "source": [
    "*Vel_conexion*"
   ]
  },
  {
   "cell_type": "code",
   "execution_count": 25,
   "metadata": {},
   "outputs": [
    {
     "data": {
      "text/plain": [
       "200MB    19017\n",
       "600MB    18921\n",
       "300MB    18672\n",
       "50MB     18641\n",
       "100MB    18431\n",
       "20MB     15995\n",
       "25MB     15952\n",
       "10MB     15776\n",
       "30MB     15709\n",
       "35MB     15619\n",
       "15MB     15436\n",
       "16598        1\n",
       "1            1\n",
       "?            1\n",
       "Name: vel_conexion, dtype: int64"
      ]
     },
     "execution_count": 25,
     "metadata": {},
     "output_type": "execute_result"
    }
   ],
   "source": [
    "result.vel_conexion.value_counts()"
   ]
  },
  {
   "cell_type": "code",
   "execution_count": 26,
   "metadata": {},
   "outputs": [],
   "source": [
    "result['vel_conexion'] = result['vel_conexion'].fillna(result['vel_conexion'].mode()[0])"
   ]
  },
  {
   "cell_type": "markdown",
   "metadata": {},
   "source": [
    "Parece que en esta variable hay errores como 1, ? y 16598. Al igual que con conexion, les imputamos por la moda que en este caso es 200MB."
   ]
  },
  {
   "cell_type": "code",
   "execution_count": 27,
   "metadata": {
    "scrolled": true
   },
   "outputs": [],
   "source": [
    "result.vel_conexion =  result['vel_conexion'].replace('1', '200MB')\n",
    "result.vel_conexion =  result['vel_conexion'].replace('16598', '200MB')\n",
    "result.vel_conexion =  result['vel_conexion'].replace('?', '200MB')"
   ]
  },
  {
   "cell_type": "markdown",
   "metadata": {},
   "source": [
    "------------------------------------------"
   ]
  },
  {
   "cell_type": "markdown",
   "metadata": {},
   "source": [
    "## 3. Transformar categóricas a numéricas\n"
   ]
  },
  {
   "cell_type": "code",
   "execution_count": 28,
   "metadata": {},
   "outputs": [
    {
     "data": {
      "text/plain": [
       "id                  int64\n",
       "edad                int64\n",
       "facturacion       float64\n",
       "antiguedad         object\n",
       "provincia          object\n",
       "num_lineas          int64\n",
       "num_dt            float64\n",
       "incidencia         object\n",
       "num_llamad_ent      int64\n",
       "num_llamad_sal      int64\n",
       "mb_datos            int64\n",
       "seg_llamad_ent      int64\n",
       "seg_llamad_sal      int64\n",
       "financiacion       object\n",
       "imp_financ        float64\n",
       "descuentos         object\n",
       "conexion           object\n",
       "vel_conexion       object\n",
       "TV                 object\n",
       "mes                 int64\n",
       "dtype: object"
      ]
     },
     "execution_count": 28,
     "metadata": {},
     "output_type": "execute_result"
    }
   ],
   "source": [
    "result.dtypes"
   ]
  },
  {
   "cell_type": "markdown",
   "metadata": {},
   "source": [
    "**DUMMIES**"
   ]
  },
  {
   "cell_type": "code",
   "execution_count": 29,
   "metadata": {},
   "outputs": [],
   "source": [
    "## Cambiamos las variables si/no a binarias\n",
    "categoricas_binarias = ['incidencia','financiacion','descuentos']\n",
    "for j in categoricas_binarias:\n",
    "    result[j] = [0 if x == 'NO' else 1 for x in result[j]]"
   ]
  },
  {
   "cell_type": "code",
   "execution_count": 30,
   "metadata": {},
   "outputs": [],
   "source": [
    "categoricas_binarias = ['conexion']\n",
    "for j in categoricas_binarias:\n",
    "    result[j] = [0 if x == 'FIBRA' else 1 for x in result[j]]\n",
    "    \n",
    "    #FIBRA -> 0\n",
    "    #ADSL -> 1"
   ]
  },
  {
   "cell_type": "markdown",
   "metadata": {},
   "source": [
    "**NUMÉRICAS**"
   ]
  },
  {
   "cell_type": "markdown",
   "metadata": {},
   "source": [
    "*VEL_CONEXIÓN Y TV*"
   ]
  },
  {
   "cell_type": "code",
   "execution_count": 31,
   "metadata": {},
   "outputs": [
    {
     "data": {
      "text/plain": [
       "200MB    19026\n",
       "600MB    18921\n",
       "300MB    18672\n",
       "50MB     18641\n",
       "100MB    18431\n",
       "20MB     15995\n",
       "25MB     15952\n",
       "10MB     15776\n",
       "30MB     15709\n",
       "35MB     15619\n",
       "15MB     15436\n",
       "Name: vel_conexion, dtype: int64"
      ]
     },
     "execution_count": 31,
     "metadata": {},
     "output_type": "execute_result"
    }
   ],
   "source": [
    "result.vel_conexion.value_counts()"
   ]
  },
  {
   "cell_type": "code",
   "execution_count": 32,
   "metadata": {},
   "outputs": [
    {
     "data": {
      "text/plain": [
       "tv-futbol      95825\n",
       "tv-familiar    65568\n",
       "tv-total       26785\n",
       "Name: TV, dtype: int64"
      ]
     },
     "execution_count": 32,
     "metadata": {},
     "output_type": "execute_result"
    }
   ],
   "source": [
    "result.TV.value_counts()"
   ]
  },
  {
   "cell_type": "code",
   "execution_count": 33,
   "metadata": {},
   "outputs": [],
   "source": [
    "# Pasar a numéricas: vel_conexion, TV\n",
    "## También a numéricas\n",
    "result.vel_conexion.replace(('10MB','15MB','20MB','25MB','30MB','35MB','50MB','100MB','200MB','300MB','600MB'),\n",
    "                            (1,2,3,4,5,6,7,8,9,10,11),inplace=True)\n",
    "result.TV.replace(('tv-futbol','tv-familiar','tv-total'),\n",
    "                      (1,2,3),inplace=True)"
   ]
  },
  {
   "cell_type": "markdown",
   "metadata": {},
   "source": [
    "*PROVINCIA*"
   ]
  },
  {
   "cell_type": "markdown",
   "metadata": {},
   "source": [
    "A partir de la variable provincia y mediante un web scrapping de wikipedia, se genera una nueva que recoja la Comunidad Autónoma de cada una de las provincias. Además, nos quedaremos con la variable provincia original. Ambas se trasnforman a numéricas mediante Label Encoder."
   ]
  },
  {
   "cell_type": "code",
   "execution_count": 34,
   "metadata": {},
   "outputs": [],
   "source": [
    "url = 'https://es.wikipedia.org/wiki/Anexo:Provincias_y_ciudades_aut%C3%B3nomas_de_Espa%C3%B1a'\n",
    "#Queremos quedarnos con la tabla de índice de esta página"
   ]
  },
  {
   "cell_type": "code",
   "execution_count": 35,
   "metadata": {},
   "outputs": [],
   "source": [
    "peticion = requests.get(url)\n",
    "scraping = BeautifulSoup(peticion.text, \"lxml\")"
   ]
  },
  {
   "cell_type": "code",
   "execution_count": 36,
   "metadata": {},
   "outputs": [],
   "source": [
    "table = scraping.find_all('table')[0] #De todos donde salga table, quiero quedarme con el primero de todos que es la tabla que quiero analizar\n",
    "df = pd.read_html(str(table))#Pasamos la tabla seleccionada a dataframe"
   ]
  },
  {
   "cell_type": "code",
   "execution_count": 37,
   "metadata": {},
   "outputs": [],
   "source": [
    "df = pd.DataFrame(df[0])"
   ]
  },
  {
   "cell_type": "code",
   "execution_count": 38,
   "metadata": {},
   "outputs": [
    {
     "data": {
      "text/html": [
       "<div>\n",
       "<style scoped>\n",
       "    .dataframe tbody tr th:only-of-type {\n",
       "        vertical-align: middle;\n",
       "    }\n",
       "\n",
       "    .dataframe tbody tr th {\n",
       "        vertical-align: top;\n",
       "    }\n",
       "\n",
       "    .dataframe thead th {\n",
       "        text-align: right;\n",
       "    }\n",
       "</style>\n",
       "<table border=\"1\" class=\"dataframe\">\n",
       "  <thead>\n",
       "    <tr style=\"text-align: right;\">\n",
       "      <th></th>\n",
       "      <th>Puesto</th>\n",
       "      <th>Escudo</th>\n",
       "      <th>Nombre</th>\n",
       "      <th>Población</th>\n",
       "      <th>Porcentajepoblación</th>\n",
       "      <th>Densidad(hab./km²)</th>\n",
       "      <th>Superficie(km²)</th>\n",
       "      <th>Porcentajesuperficie</th>\n",
       "      <th>Mapa</th>\n",
       "      <th>Comunidad autónoma</th>\n",
       "    </tr>\n",
       "  </thead>\n",
       "  <tbody>\n",
       "    <tr>\n",
       "      <th>0</th>\n",
       "      <td>1</td>\n",
       "      <td>NaN</td>\n",
       "      <td>Madrid</td>\n",
       "      <td>6 779 888</td>\n",
       "      <td>14,41 %</td>\n",
       "      <td>83386</td>\n",
       "      <td>NaN</td>\n",
       "      <td>1.59 %</td>\n",
       "      <td>NaN</td>\n",
       "      <td>Comunidad de Madrid</td>\n",
       "    </tr>\n",
       "    <tr>\n",
       "      <th>1</th>\n",
       "      <td>2</td>\n",
       "      <td>NaN</td>\n",
       "      <td>Barcelona</td>\n",
       "      <td>5 743 402</td>\n",
       "      <td>12,21 %</td>\n",
       "      <td>73252</td>\n",
       "      <td>NaN</td>\n",
       "      <td>1.53 %</td>\n",
       "      <td>NaN</td>\n",
       "      <td>Cataluña</td>\n",
       "    </tr>\n",
       "    <tr>\n",
       "      <th>2</th>\n",
       "      <td>3</td>\n",
       "      <td>NaN</td>\n",
       "      <td>Valencia</td>\n",
       "      <td>2 591 875</td>\n",
       "      <td>5,51 %</td>\n",
       "      <td>23736</td>\n",
       "      <td>NaN</td>\n",
       "      <td>2.14 %</td>\n",
       "      <td>NaN</td>\n",
       "      <td>Comunidad Valenciana</td>\n",
       "    </tr>\n",
       "    <tr>\n",
       "      <th>3</th>\n",
       "      <td>4</td>\n",
       "      <td>NaN</td>\n",
       "      <td>Sevilla</td>\n",
       "      <td>1 950 219</td>\n",
       "      <td>4,14 %</td>\n",
       "      <td>13839</td>\n",
       "      <td>NaN</td>\n",
       "      <td>2.77 %</td>\n",
       "      <td>NaN</td>\n",
       "      <td>Andalucía</td>\n",
       "    </tr>\n",
       "    <tr>\n",
       "      <th>4</th>\n",
       "      <td>5</td>\n",
       "      <td>NaN</td>\n",
       "      <td>Alicante</td>\n",
       "      <td>1 879 888</td>\n",
       "      <td>4,00 %</td>\n",
       "      <td>31953</td>\n",
       "      <td>NaN</td>\n",
       "      <td>1.15 %</td>\n",
       "      <td>NaN</td>\n",
       "      <td>Comunidad Valenciana</td>\n",
       "    </tr>\n",
       "  </tbody>\n",
       "</table>\n",
       "</div>"
      ],
      "text/plain": [
       "  Puesto Escudo     Nombre  Población Porcentajepoblación Densidad(hab./km²)  \\\n",
       "0      1    NaN     Madrid  6 779 888             14,41 %              83386   \n",
       "1      2    NaN  Barcelona  5 743 402             12,21 %              73252   \n",
       "2      3    NaN   Valencia  2 591 875              5,51 %              23736   \n",
       "3      4    NaN    Sevilla  1 950 219              4,14 %              13839   \n",
       "4      5    NaN   Alicante  1 879 888              4,00 %              31953   \n",
       "\n",
       "  Superficie(km²) Porcentajesuperficie  Mapa    Comunidad autónoma  \n",
       "0             NaN               1.59 %   NaN   Comunidad de Madrid  \n",
       "1             NaN               1.53 %   NaN              Cataluña  \n",
       "2             NaN               2.14 %   NaN  Comunidad Valenciana  \n",
       "3             NaN               2.77 %   NaN             Andalucía  \n",
       "4             NaN               1.15 %   NaN  Comunidad Valenciana  "
      ]
     },
     "execution_count": 38,
     "metadata": {},
     "output_type": "execute_result"
    }
   ],
   "source": [
    "df.head()"
   ]
  },
  {
   "cell_type": "code",
   "execution_count": 39,
   "metadata": {},
   "outputs": [],
   "source": [
    "df.drop(['Puesto', 'Escudo', 'Población', 'Porcentajepoblación', 'Densidad(hab./km²)', 'Superficie(km²)', 'Porcentajesuperficie', 'Mapa'], axis = 'columns', inplace=True)\n",
    "# Eliminamos las columnas que no nos interesan del df"
   ]
  },
  {
   "cell_type": "code",
   "execution_count": 40,
   "metadata": {},
   "outputs": [],
   "source": [
    "# Añadimos una nueva columna al dataframe que se llame provincias\n",
    "result.loc[:,'provincias'] = result.provincia             "
   ]
  },
  {
   "cell_type": "markdown",
   "metadata": {},
   "source": [
    "Antes de mergear los df es necesario limpiar las columnas con las provincias para que coincidan los nombres. Para ello pasaremos todos los nombres a minúsculas y comprobaremos que todos coinciden. Además, de la tabla extraída de Wikipedia, tenemos que eliminar la fila 52 que recogía el total."
   ]
  },
  {
   "cell_type": "code",
   "execution_count": 41,
   "metadata": {},
   "outputs": [
    {
     "data": {
      "text/html": [
       "<div>\n",
       "<style scoped>\n",
       "    .dataframe tbody tr th:only-of-type {\n",
       "        vertical-align: middle;\n",
       "    }\n",
       "\n",
       "    .dataframe tbody tr th {\n",
       "        vertical-align: top;\n",
       "    }\n",
       "\n",
       "    .dataframe thead th {\n",
       "        text-align: right;\n",
       "    }\n",
       "</style>\n",
       "<table border=\"1\" class=\"dataframe\">\n",
       "  <thead>\n",
       "    <tr style=\"text-align: right;\">\n",
       "      <th></th>\n",
       "      <th>Nombre</th>\n",
       "      <th>Comunidad autónoma</th>\n",
       "    </tr>\n",
       "  </thead>\n",
       "  <tbody>\n",
       "    <tr>\n",
       "      <th>0</th>\n",
       "      <td>Madrid</td>\n",
       "      <td>Comunidad de Madrid</td>\n",
       "    </tr>\n",
       "    <tr>\n",
       "      <th>1</th>\n",
       "      <td>Barcelona</td>\n",
       "      <td>Cataluña</td>\n",
       "    </tr>\n",
       "    <tr>\n",
       "      <th>2</th>\n",
       "      <td>Valencia</td>\n",
       "      <td>Comunidad Valenciana</td>\n",
       "    </tr>\n",
       "    <tr>\n",
       "      <th>3</th>\n",
       "      <td>Sevilla</td>\n",
       "      <td>Andalucía</td>\n",
       "    </tr>\n",
       "    <tr>\n",
       "      <th>4</th>\n",
       "      <td>Alicante</td>\n",
       "      <td>Comunidad Valenciana</td>\n",
       "    </tr>\n",
       "    <tr>\n",
       "      <th>5</th>\n",
       "      <td>Málaga</td>\n",
       "      <td>Andalucía</td>\n",
       "    </tr>\n",
       "    <tr>\n",
       "      <th>6</th>\n",
       "      <td>Murcia</td>\n",
       "      <td>Región de Murcia</td>\n",
       "    </tr>\n",
       "    <tr>\n",
       "      <th>7</th>\n",
       "      <td>Cádiz</td>\n",
       "      <td>Andalucía</td>\n",
       "    </tr>\n",
       "    <tr>\n",
       "      <th>8</th>\n",
       "      <td>Baleares</td>\n",
       "      <td>Islas Baleares</td>\n",
       "    </tr>\n",
       "    <tr>\n",
       "      <th>9</th>\n",
       "      <td>Vizcaya</td>\n",
       "      <td>País Vasco</td>\n",
       "    </tr>\n",
       "    <tr>\n",
       "      <th>10</th>\n",
       "      <td>Las Palmas</td>\n",
       "      <td>Canarias</td>\n",
       "    </tr>\n",
       "    <tr>\n",
       "      <th>11</th>\n",
       "      <td>La Coruña</td>\n",
       "      <td>Galicia</td>\n",
       "    </tr>\n",
       "    <tr>\n",
       "      <th>12</th>\n",
       "      <td>Santa Cruz de Tenerife</td>\n",
       "      <td>Canarias</td>\n",
       "    </tr>\n",
       "    <tr>\n",
       "      <th>13</th>\n",
       "      <td>Asturias</td>\n",
       "      <td>Asturias</td>\n",
       "    </tr>\n",
       "    <tr>\n",
       "      <th>14</th>\n",
       "      <td>Zaragoza</td>\n",
       "      <td>Aragón</td>\n",
       "    </tr>\n",
       "    <tr>\n",
       "      <th>15</th>\n",
       "      <td>Pontevedra</td>\n",
       "      <td>Galicia</td>\n",
       "    </tr>\n",
       "    <tr>\n",
       "      <th>16</th>\n",
       "      <td>Granada</td>\n",
       "      <td>Andalucía</td>\n",
       "    </tr>\n",
       "    <tr>\n",
       "      <th>17</th>\n",
       "      <td>Gerona</td>\n",
       "      <td>Cataluña</td>\n",
       "    </tr>\n",
       "    <tr>\n",
       "      <th>18</th>\n",
       "      <td>Tarragona</td>\n",
       "      <td>Cataluña</td>\n",
       "    </tr>\n",
       "    <tr>\n",
       "      <th>19</th>\n",
       "      <td>Córdoba</td>\n",
       "      <td>Andalucía</td>\n",
       "    </tr>\n",
       "    <tr>\n",
       "      <th>20</th>\n",
       "      <td>Almería</td>\n",
       "      <td>Andalucía</td>\n",
       "    </tr>\n",
       "    <tr>\n",
       "      <th>21</th>\n",
       "      <td>Guipúzcoa</td>\n",
       "      <td>País Vasco</td>\n",
       "    </tr>\n",
       "    <tr>\n",
       "      <th>22</th>\n",
       "      <td>Toledo</td>\n",
       "      <td>Castilla-La Mancha</td>\n",
       "    </tr>\n",
       "    <tr>\n",
       "      <th>23</th>\n",
       "      <td>Badajoz</td>\n",
       "      <td>Extremadura</td>\n",
       "    </tr>\n",
       "    <tr>\n",
       "      <th>24</th>\n",
       "      <td>Navarra</td>\n",
       "      <td>Navarra</td>\n",
       "    </tr>\n",
       "    <tr>\n",
       "      <th>25</th>\n",
       "      <td>Jaén</td>\n",
       "      <td>Andalucía</td>\n",
       "    </tr>\n",
       "    <tr>\n",
       "      <th>26</th>\n",
       "      <td>Castellón</td>\n",
       "      <td>Comunidad Valenciana</td>\n",
       "    </tr>\n",
       "    <tr>\n",
       "      <th>27</th>\n",
       "      <td>Cantabria</td>\n",
       "      <td>Cantabria</td>\n",
       "    </tr>\n",
       "    <tr>\n",
       "      <th>28</th>\n",
       "      <td>Huelva</td>\n",
       "      <td>Andalucía</td>\n",
       "    </tr>\n",
       "    <tr>\n",
       "      <th>29</th>\n",
       "      <td>Valladolid</td>\n",
       "      <td>Castilla y León</td>\n",
       "    </tr>\n",
       "    <tr>\n",
       "      <th>30</th>\n",
       "      <td>Ciudad Real</td>\n",
       "      <td>Castilla-La Mancha</td>\n",
       "    </tr>\n",
       "    <tr>\n",
       "      <th>31</th>\n",
       "      <td>León</td>\n",
       "      <td>Castilla y León</td>\n",
       "    </tr>\n",
       "    <tr>\n",
       "      <th>32</th>\n",
       "      <td>Lérida</td>\n",
       "      <td>Cataluña</td>\n",
       "    </tr>\n",
       "    <tr>\n",
       "      <th>33</th>\n",
       "      <td>Cáceres</td>\n",
       "      <td>Extremadura</td>\n",
       "    </tr>\n",
       "    <tr>\n",
       "      <th>34</th>\n",
       "      <td>Albacete</td>\n",
       "      <td>Castilla-La Mancha</td>\n",
       "    </tr>\n",
       "    <tr>\n",
       "      <th>35</th>\n",
       "      <td>Burgos</td>\n",
       "      <td>Castilla y León</td>\n",
       "    </tr>\n",
       "    <tr>\n",
       "      <th>36</th>\n",
       "      <td>Álava</td>\n",
       "      <td>País Vasco</td>\n",
       "    </tr>\n",
       "    <tr>\n",
       "      <th>37</th>\n",
       "      <td>Salamanca</td>\n",
       "      <td>Castilla y León</td>\n",
       "    </tr>\n",
       "    <tr>\n",
       "      <th>38</th>\n",
       "      <td>Lugo</td>\n",
       "      <td>Galicia</td>\n",
       "    </tr>\n",
       "    <tr>\n",
       "      <th>39</th>\n",
       "      <td>La Rioja</td>\n",
       "      <td>La Rioja</td>\n",
       "    </tr>\n",
       "    <tr>\n",
       "      <th>40</th>\n",
       "      <td>Orense</td>\n",
       "      <td>Galicia</td>\n",
       "    </tr>\n",
       "    <tr>\n",
       "      <th>41</th>\n",
       "      <td>Guadalajara</td>\n",
       "      <td>Castilla-La Mancha</td>\n",
       "    </tr>\n",
       "    <tr>\n",
       "      <th>42</th>\n",
       "      <td>Huesca</td>\n",
       "      <td>Aragón</td>\n",
       "    </tr>\n",
       "    <tr>\n",
       "      <th>43</th>\n",
       "      <td>Cuenca</td>\n",
       "      <td>Castilla-La Mancha</td>\n",
       "    </tr>\n",
       "    <tr>\n",
       "      <th>44</th>\n",
       "      <td>Zamora</td>\n",
       "      <td>Castilla y León</td>\n",
       "    </tr>\n",
       "    <tr>\n",
       "      <th>45</th>\n",
       "      <td>Palencia</td>\n",
       "      <td>Castilla y León</td>\n",
       "    </tr>\n",
       "    <tr>\n",
       "      <th>46</th>\n",
       "      <td>Ávila</td>\n",
       "      <td>Castilla y León</td>\n",
       "    </tr>\n",
       "    <tr>\n",
       "      <th>47</th>\n",
       "      <td>Segovia</td>\n",
       "      <td>Castilla y León</td>\n",
       "    </tr>\n",
       "    <tr>\n",
       "      <th>48</th>\n",
       "      <td>Teruel</td>\n",
       "      <td>Aragón</td>\n",
       "    </tr>\n",
       "    <tr>\n",
       "      <th>49</th>\n",
       "      <td>Soria</td>\n",
       "      <td>Castilla y León</td>\n",
       "    </tr>\n",
       "    <tr>\n",
       "      <th>50</th>\n",
       "      <td>Melilla</td>\n",
       "      <td>Melilla</td>\n",
       "    </tr>\n",
       "    <tr>\n",
       "      <th>51</th>\n",
       "      <td>Ceuta</td>\n",
       "      <td>Ceuta</td>\n",
       "    </tr>\n",
       "  </tbody>\n",
       "</table>\n",
       "</div>"
      ],
      "text/plain": [
       "                    Nombre    Comunidad autónoma\n",
       "0                   Madrid   Comunidad de Madrid\n",
       "1                Barcelona              Cataluña\n",
       "2                 Valencia  Comunidad Valenciana\n",
       "3                  Sevilla             Andalucía\n",
       "4                 Alicante  Comunidad Valenciana\n",
       "5                   Málaga             Andalucía\n",
       "6                   Murcia      Región de Murcia\n",
       "7                    Cádiz             Andalucía\n",
       "8                 Baleares        Islas Baleares\n",
       "9                  Vizcaya            País Vasco\n",
       "10              Las Palmas              Canarias\n",
       "11               La Coruña               Galicia\n",
       "12  Santa Cruz de Tenerife              Canarias\n",
       "13                Asturias              Asturias\n",
       "14                Zaragoza                Aragón\n",
       "15              Pontevedra               Galicia\n",
       "16                 Granada             Andalucía\n",
       "17                  Gerona              Cataluña\n",
       "18               Tarragona              Cataluña\n",
       "19                 Córdoba             Andalucía\n",
       "20                 Almería             Andalucía\n",
       "21               Guipúzcoa            País Vasco\n",
       "22                  Toledo    Castilla-La Mancha\n",
       "23                 Badajoz           Extremadura\n",
       "24                 Navarra               Navarra\n",
       "25                    Jaén             Andalucía\n",
       "26               Castellón  Comunidad Valenciana\n",
       "27               Cantabria             Cantabria\n",
       "28                  Huelva             Andalucía\n",
       "29              Valladolid       Castilla y León\n",
       "30             Ciudad Real    Castilla-La Mancha\n",
       "31                    León       Castilla y León\n",
       "32                  Lérida              Cataluña\n",
       "33                 Cáceres           Extremadura\n",
       "34                Albacete    Castilla-La Mancha\n",
       "35                  Burgos       Castilla y León\n",
       "36                   Álava            País Vasco\n",
       "37               Salamanca       Castilla y León\n",
       "38                    Lugo               Galicia\n",
       "39                La Rioja              La Rioja\n",
       "40                  Orense               Galicia\n",
       "41             Guadalajara    Castilla-La Mancha\n",
       "42                  Huesca                Aragón\n",
       "43                  Cuenca    Castilla-La Mancha\n",
       "44                  Zamora       Castilla y León\n",
       "45                Palencia       Castilla y León\n",
       "46                   Ávila       Castilla y León\n",
       "47                 Segovia       Castilla y León\n",
       "48                  Teruel                Aragón\n",
       "49                   Soria       Castilla y León\n",
       "50                 Melilla               Melilla\n",
       "51                   Ceuta                 Ceuta"
      ]
     },
     "execution_count": 41,
     "metadata": {},
     "output_type": "execute_result"
    }
   ],
   "source": [
    "# Borramos la fila 52 que es el total:\n",
    "df.drop([52],axis=0)"
   ]
  },
  {
   "cell_type": "code",
   "execution_count": 42,
   "metadata": {},
   "outputs": [],
   "source": [
    " result[\"provincias\"] = result[\"provincias\"].str.lower()"
   ]
  },
  {
   "cell_type": "code",
   "execution_count": 43,
   "metadata": {},
   "outputs": [],
   "source": [
    " df[\"comunidad\"] = df[\"Comunidad autónoma\"].str.lower()"
   ]
  },
  {
   "cell_type": "code",
   "execution_count": 44,
   "metadata": {},
   "outputs": [],
   "source": [
    " df[\"provincias\"] = df[\"Nombre\"].str.lower()"
   ]
  },
  {
   "cell_type": "code",
   "execution_count": 45,
   "metadata": {},
   "outputs": [],
   "source": [
    "df.drop(['Nombre', 'Comunidad autónoma'], axis = 'columns', inplace=True)"
   ]
  },
  {
   "cell_type": "code",
   "execution_count": 46,
   "metadata": {},
   "outputs": [
    {
     "data": {
      "text/html": [
       "<div>\n",
       "<style scoped>\n",
       "    .dataframe tbody tr th:only-of-type {\n",
       "        vertical-align: middle;\n",
       "    }\n",
       "\n",
       "    .dataframe tbody tr th {\n",
       "        vertical-align: top;\n",
       "    }\n",
       "\n",
       "    .dataframe thead th {\n",
       "        text-align: right;\n",
       "    }\n",
       "</style>\n",
       "<table border=\"1\" class=\"dataframe\">\n",
       "  <thead>\n",
       "    <tr style=\"text-align: right;\">\n",
       "      <th></th>\n",
       "      <th>comunidad</th>\n",
       "      <th>provincias</th>\n",
       "    </tr>\n",
       "  </thead>\n",
       "  <tbody>\n",
       "    <tr>\n",
       "      <th>0</th>\n",
       "      <td>comunidad de madrid</td>\n",
       "      <td>madrid</td>\n",
       "    </tr>\n",
       "    <tr>\n",
       "      <th>1</th>\n",
       "      <td>cataluña</td>\n",
       "      <td>barcelona</td>\n",
       "    </tr>\n",
       "    <tr>\n",
       "      <th>2</th>\n",
       "      <td>comunidad valenciana</td>\n",
       "      <td>valencia</td>\n",
       "    </tr>\n",
       "    <tr>\n",
       "      <th>3</th>\n",
       "      <td>andalucía</td>\n",
       "      <td>sevilla</td>\n",
       "    </tr>\n",
       "    <tr>\n",
       "      <th>4</th>\n",
       "      <td>comunidad valenciana</td>\n",
       "      <td>alicante</td>\n",
       "    </tr>\n",
       "  </tbody>\n",
       "</table>\n",
       "</div>"
      ],
      "text/plain": [
       "              comunidad provincias\n",
       "0   comunidad de madrid     madrid\n",
       "1              cataluña  barcelona\n",
       "2  comunidad valenciana   valencia\n",
       "3             andalucía    sevilla\n",
       "4  comunidad valenciana   alicante"
      ]
     },
     "execution_count": 46,
     "metadata": {},
     "output_type": "execute_result"
    }
   ],
   "source": [
    "df.head()"
   ]
  },
  {
   "cell_type": "code",
   "execution_count": 47,
   "metadata": {},
   "outputs": [
    {
     "data": {
      "text/plain": [
       "array(['madrid', 'barcelona', 'valencia', 'sevilla', 'alicante', 'málaga',\n",
       "       'murcia', 'cádiz', 'baleares', 'vizcaya', 'las palmas',\n",
       "       'la coruña', 'santa cruz de tenerife', 'asturias', 'zaragoza',\n",
       "       'pontevedra', 'granada', 'gerona', 'tarragona', 'córdoba',\n",
       "       'almería', 'guipúzcoa', 'toledo', 'badajoz', 'navarra', 'jaén',\n",
       "       'castellón', 'cantabria', 'huelva', 'valladolid', 'ciudad real',\n",
       "       'león', 'lérida', 'cáceres', 'albacete', 'burgos', 'álava',\n",
       "       'salamanca', 'lugo', 'la rioja', 'orense', 'guadalajara', 'huesca',\n",
       "       'cuenca', 'zamora', 'palencia', 'ávila', 'segovia', 'teruel',\n",
       "       'soria', 'melilla', 'ceuta', 'total'], dtype=object)"
      ]
     },
     "execution_count": 47,
     "metadata": {},
     "output_type": "execute_result"
    }
   ],
   "source": [
    "df.provincias.unique()"
   ]
  },
  {
   "cell_type": "code",
   "execution_count": 48,
   "metadata": {},
   "outputs": [
    {
     "data": {
      "text/plain": [
       "array(['la rioja', 'vizcaya', 'albacete', 'lugo', 'tarragona', 'huelva',\n",
       "       'lérida', 'la coruña', 'alicante', 'madrid', 'córdoba',\n",
       "       'las palmas', 'soria', 'zamora', 'valladolid', 'granada',\n",
       "       'palencia', 'burgos', 'teruel', 'navarra', 'guipúzcoa', 'valencia',\n",
       "       'málaga', 'sevilla', 'huesca', 'cádiz', 'jaén', 'cuenca',\n",
       "       'badajoz', 'almería', 'ciudad real', 'salamanca', 'pontevedra',\n",
       "       'segovia', 'asturias', 'islas baleares', 'álava', 'cáceres',\n",
       "       'orense', 'cantabria', 'zaragoza', 'murcia', 'león', 'toledo',\n",
       "       'guadalajara', 'ávila', 'santa cruz de tenerife', 'castellón',\n",
       "       'gerona', 'barcelona'], dtype=object)"
      ]
     },
     "execution_count": 48,
     "metadata": {},
     "output_type": "execute_result"
    }
   ],
   "source": [
    "result.provincias.unique()"
   ]
  },
  {
   "cell_type": "markdown",
   "metadata": {},
   "source": [
    "Analizando los nombres de las provincias de los dos df vemos que coinciden todas las provincias salvo islas baleares que en el caso de la tabla que hemos extraído de Wikipedia aparece como baleares y en nuestro df como islas baleares. "
   ]
  },
  {
   "cell_type": "code",
   "execution_count": 49,
   "metadata": {},
   "outputs": [],
   "source": [
    "result.provincias =  result['provincias'].replace('islas baleares', 'baleares')"
   ]
  },
  {
   "cell_type": "code",
   "execution_count": 50,
   "metadata": {},
   "outputs": [
    {
     "data": {
      "text/plain": [
       "(188178, 21)"
      ]
     },
     "execution_count": 50,
     "metadata": {},
     "output_type": "execute_result"
    }
   ],
   "source": [
    "result.shape"
   ]
  },
  {
   "cell_type": "code",
   "execution_count": 51,
   "metadata": {},
   "outputs": [
    {
     "data": {
      "text/plain": [
       "188178"
      ]
     },
     "execution_count": 51,
     "metadata": {},
     "output_type": "execute_result"
    }
   ],
   "source": [
    "sum(result['provincias'].isin(df['provincias']))"
   ]
  },
  {
   "cell_type": "markdown",
   "metadata": {},
   "source": [
    "Una vez limpios los datos y viendo que coinciden los nombres, se mergean las tablas por la columna provincia."
   ]
  },
  {
   "cell_type": "code",
   "execution_count": 52,
   "metadata": {},
   "outputs": [],
   "source": [
    "#JOIN\n",
    "result = pd.merge(result,df, on='provincias', how = 'left' )"
   ]
  },
  {
   "cell_type": "code",
   "execution_count": 53,
   "metadata": {},
   "outputs": [],
   "source": [
    "result.drop(['provincias'], axis= 1, inplace = True)"
   ]
  },
  {
   "cell_type": "code",
   "execution_count": 54,
   "metadata": {},
   "outputs": [
    {
     "data": {
      "text/html": [
       "<div>\n",
       "<style scoped>\n",
       "    .dataframe tbody tr th:only-of-type {\n",
       "        vertical-align: middle;\n",
       "    }\n",
       "\n",
       "    .dataframe tbody tr th {\n",
       "        vertical-align: top;\n",
       "    }\n",
       "\n",
       "    .dataframe thead th {\n",
       "        text-align: right;\n",
       "    }\n",
       "</style>\n",
       "<table border=\"1\" class=\"dataframe\">\n",
       "  <thead>\n",
       "    <tr style=\"text-align: right;\">\n",
       "      <th></th>\n",
       "      <th>id</th>\n",
       "      <th>edad</th>\n",
       "      <th>facturacion</th>\n",
       "      <th>antiguedad</th>\n",
       "      <th>provincia</th>\n",
       "      <th>num_lineas</th>\n",
       "      <th>num_dt</th>\n",
       "      <th>incidencia</th>\n",
       "      <th>num_llamad_ent</th>\n",
       "      <th>num_llamad_sal</th>\n",
       "      <th>...</th>\n",
       "      <th>seg_llamad_ent</th>\n",
       "      <th>seg_llamad_sal</th>\n",
       "      <th>financiacion</th>\n",
       "      <th>imp_financ</th>\n",
       "      <th>descuentos</th>\n",
       "      <th>conexion</th>\n",
       "      <th>vel_conexion</th>\n",
       "      <th>TV</th>\n",
       "      <th>mes</th>\n",
       "      <th>comunidad</th>\n",
       "    </tr>\n",
       "  </thead>\n",
       "  <tbody>\n",
       "    <tr>\n",
       "      <th>0</th>\n",
       "      <td>1</td>\n",
       "      <td>63</td>\n",
       "      <td>216.028109</td>\n",
       "      <td>2018-11-23 08:48:00</td>\n",
       "      <td>La Rioja</td>\n",
       "      <td>5</td>\n",
       "      <td>0.0</td>\n",
       "      <td>0</td>\n",
       "      <td>110</td>\n",
       "      <td>79</td>\n",
       "      <td>...</td>\n",
       "      <td>12806</td>\n",
       "      <td>13751</td>\n",
       "      <td>0</td>\n",
       "      <td>0.0</td>\n",
       "      <td>0</td>\n",
       "      <td>0</td>\n",
       "      <td>7</td>\n",
       "      <td>1</td>\n",
       "      <td>1</td>\n",
       "      <td>la rioja</td>\n",
       "    </tr>\n",
       "    <tr>\n",
       "      <th>1</th>\n",
       "      <td>2</td>\n",
       "      <td>84</td>\n",
       "      <td>255.830842</td>\n",
       "      <td>2017-08-22 03:19:00</td>\n",
       "      <td>Vizcaya</td>\n",
       "      <td>3</td>\n",
       "      <td>0.0</td>\n",
       "      <td>0</td>\n",
       "      <td>189</td>\n",
       "      <td>89</td>\n",
       "      <td>...</td>\n",
       "      <td>6499</td>\n",
       "      <td>10862</td>\n",
       "      <td>0</td>\n",
       "      <td>0.0</td>\n",
       "      <td>1</td>\n",
       "      <td>0</td>\n",
       "      <td>11</td>\n",
       "      <td>1</td>\n",
       "      <td>1</td>\n",
       "      <td>país vasco</td>\n",
       "    </tr>\n",
       "    <tr>\n",
       "      <th>2</th>\n",
       "      <td>3</td>\n",
       "      <td>66</td>\n",
       "      <td>135.768153</td>\n",
       "      <td>2001-12-27 13:50:00</td>\n",
       "      <td>Albacete</td>\n",
       "      <td>4</td>\n",
       "      <td>0.0</td>\n",
       "      <td>0</td>\n",
       "      <td>129</td>\n",
       "      <td>30</td>\n",
       "      <td>...</td>\n",
       "      <td>17013</td>\n",
       "      <td>16743</td>\n",
       "      <td>0</td>\n",
       "      <td>0.0</td>\n",
       "      <td>1</td>\n",
       "      <td>1</td>\n",
       "      <td>6</td>\n",
       "      <td>1</td>\n",
       "      <td>1</td>\n",
       "      <td>castilla-la mancha</td>\n",
       "    </tr>\n",
       "    <tr>\n",
       "      <th>3</th>\n",
       "      <td>4</td>\n",
       "      <td>69</td>\n",
       "      <td>255.658527</td>\n",
       "      <td>2015-08-08 10:53:00</td>\n",
       "      <td>Lugo</td>\n",
       "      <td>4</td>\n",
       "      <td>0.0</td>\n",
       "      <td>0</td>\n",
       "      <td>51</td>\n",
       "      <td>52</td>\n",
       "      <td>...</td>\n",
       "      <td>3393</td>\n",
       "      <td>6771</td>\n",
       "      <td>0</td>\n",
       "      <td>0.0</td>\n",
       "      <td>0</td>\n",
       "      <td>0</td>\n",
       "      <td>9</td>\n",
       "      <td>2</td>\n",
       "      <td>1</td>\n",
       "      <td>galicia</td>\n",
       "    </tr>\n",
       "    <tr>\n",
       "      <th>4</th>\n",
       "      <td>5</td>\n",
       "      <td>30</td>\n",
       "      <td>22.302845</td>\n",
       "      <td>1997-08-29 02:19:00</td>\n",
       "      <td>Tarragona</td>\n",
       "      <td>2</td>\n",
       "      <td>2.0</td>\n",
       "      <td>0</td>\n",
       "      <td>183</td>\n",
       "      <td>3</td>\n",
       "      <td>...</td>\n",
       "      <td>18436</td>\n",
       "      <td>4485</td>\n",
       "      <td>0</td>\n",
       "      <td>0.0</td>\n",
       "      <td>0</td>\n",
       "      <td>1</td>\n",
       "      <td>1</td>\n",
       "      <td>1</td>\n",
       "      <td>1</td>\n",
       "      <td>cataluña</td>\n",
       "    </tr>\n",
       "  </tbody>\n",
       "</table>\n",
       "<p>5 rows × 21 columns</p>\n",
       "</div>"
      ],
      "text/plain": [
       "   id  edad  facturacion           antiguedad  provincia  num_lineas  num_dt  \\\n",
       "0   1    63   216.028109  2018-11-23 08:48:00   La Rioja           5     0.0   \n",
       "1   2    84   255.830842  2017-08-22 03:19:00    Vizcaya           3     0.0   \n",
       "2   3    66   135.768153  2001-12-27 13:50:00   Albacete           4     0.0   \n",
       "3   4    69   255.658527  2015-08-08 10:53:00       Lugo           4     0.0   \n",
       "4   5    30    22.302845  1997-08-29 02:19:00  Tarragona           2     2.0   \n",
       "\n",
       "   incidencia  num_llamad_ent  num_llamad_sal  ...  seg_llamad_ent  \\\n",
       "0           0             110              79  ...           12806   \n",
       "1           0             189              89  ...            6499   \n",
       "2           0             129              30  ...           17013   \n",
       "3           0              51              52  ...            3393   \n",
       "4           0             183               3  ...           18436   \n",
       "\n",
       "   seg_llamad_sal  financiacion  imp_financ  descuentos  conexion  \\\n",
       "0           13751             0         0.0           0         0   \n",
       "1           10862             0         0.0           1         0   \n",
       "2           16743             0         0.0           1         1   \n",
       "3            6771             0         0.0           0         0   \n",
       "4            4485             0         0.0           0         1   \n",
       "\n",
       "   vel_conexion  TV  mes           comunidad  \n",
       "0             7   1    1            la rioja  \n",
       "1            11   1    1          país vasco  \n",
       "2             6   1    1  castilla-la mancha  \n",
       "3             9   2    1             galicia  \n",
       "4             1   1    1            cataluña  \n",
       "\n",
       "[5 rows x 21 columns]"
      ]
     },
     "execution_count": 54,
     "metadata": {},
     "output_type": "execute_result"
    }
   ],
   "source": [
    "result.head()"
   ]
  },
  {
   "cell_type": "markdown",
   "metadata": {},
   "source": [
    "Pasamos tanto las columnas comunidad como provincia a numéricas."
   ]
  },
  {
   "cell_type": "code",
   "execution_count": 55,
   "metadata": {},
   "outputs": [
    {
     "data": {
      "text/html": [
       "<div>\n",
       "<style scoped>\n",
       "    .dataframe tbody tr th:only-of-type {\n",
       "        vertical-align: middle;\n",
       "    }\n",
       "\n",
       "    .dataframe tbody tr th {\n",
       "        vertical-align: top;\n",
       "    }\n",
       "\n",
       "    .dataframe thead th {\n",
       "        text-align: right;\n",
       "    }\n",
       "</style>\n",
       "<table border=\"1\" class=\"dataframe\">\n",
       "  <thead>\n",
       "    <tr style=\"text-align: right;\">\n",
       "      <th></th>\n",
       "      <th>id</th>\n",
       "      <th>edad</th>\n",
       "      <th>facturacion</th>\n",
       "      <th>antiguedad</th>\n",
       "      <th>provincia</th>\n",
       "      <th>num_lineas</th>\n",
       "      <th>num_dt</th>\n",
       "      <th>incidencia</th>\n",
       "      <th>num_llamad_ent</th>\n",
       "      <th>num_llamad_sal</th>\n",
       "      <th>...</th>\n",
       "      <th>seg_llamad_ent</th>\n",
       "      <th>seg_llamad_sal</th>\n",
       "      <th>financiacion</th>\n",
       "      <th>imp_financ</th>\n",
       "      <th>descuentos</th>\n",
       "      <th>conexion</th>\n",
       "      <th>vel_conexion</th>\n",
       "      <th>TV</th>\n",
       "      <th>mes</th>\n",
       "      <th>comunidad</th>\n",
       "    </tr>\n",
       "  </thead>\n",
       "  <tbody>\n",
       "    <tr>\n",
       "      <th>0</th>\n",
       "      <td>1</td>\n",
       "      <td>63</td>\n",
       "      <td>216.028109</td>\n",
       "      <td>2018-11-23 08:48:00</td>\n",
       "      <td>La Rioja</td>\n",
       "      <td>5</td>\n",
       "      <td>0.0</td>\n",
       "      <td>0</td>\n",
       "      <td>110</td>\n",
       "      <td>79</td>\n",
       "      <td>...</td>\n",
       "      <td>12806</td>\n",
       "      <td>13751</td>\n",
       "      <td>0</td>\n",
       "      <td>0.0</td>\n",
       "      <td>0</td>\n",
       "      <td>0</td>\n",
       "      <td>7</td>\n",
       "      <td>1</td>\n",
       "      <td>1</td>\n",
       "      <td>13</td>\n",
       "    </tr>\n",
       "    <tr>\n",
       "      <th>1</th>\n",
       "      <td>2</td>\n",
       "      <td>84</td>\n",
       "      <td>255.830842</td>\n",
       "      <td>2017-08-22 03:19:00</td>\n",
       "      <td>Vizcaya</td>\n",
       "      <td>3</td>\n",
       "      <td>0.0</td>\n",
       "      <td>0</td>\n",
       "      <td>189</td>\n",
       "      <td>89</td>\n",
       "      <td>...</td>\n",
       "      <td>6499</td>\n",
       "      <td>10862</td>\n",
       "      <td>0</td>\n",
       "      <td>0.0</td>\n",
       "      <td>1</td>\n",
       "      <td>0</td>\n",
       "      <td>11</td>\n",
       "      <td>1</td>\n",
       "      <td>1</td>\n",
       "      <td>15</td>\n",
       "    </tr>\n",
       "    <tr>\n",
       "      <th>2</th>\n",
       "      <td>3</td>\n",
       "      <td>66</td>\n",
       "      <td>135.768153</td>\n",
       "      <td>2001-12-27 13:50:00</td>\n",
       "      <td>Albacete</td>\n",
       "      <td>4</td>\n",
       "      <td>0.0</td>\n",
       "      <td>0</td>\n",
       "      <td>129</td>\n",
       "      <td>30</td>\n",
       "      <td>...</td>\n",
       "      <td>17013</td>\n",
       "      <td>16743</td>\n",
       "      <td>0</td>\n",
       "      <td>0.0</td>\n",
       "      <td>1</td>\n",
       "      <td>1</td>\n",
       "      <td>6</td>\n",
       "      <td>1</td>\n",
       "      <td>1</td>\n",
       "      <td>6</td>\n",
       "    </tr>\n",
       "    <tr>\n",
       "      <th>3</th>\n",
       "      <td>4</td>\n",
       "      <td>69</td>\n",
       "      <td>255.658527</td>\n",
       "      <td>2015-08-08 10:53:00</td>\n",
       "      <td>Lugo</td>\n",
       "      <td>4</td>\n",
       "      <td>0.0</td>\n",
       "      <td>0</td>\n",
       "      <td>51</td>\n",
       "      <td>52</td>\n",
       "      <td>...</td>\n",
       "      <td>3393</td>\n",
       "      <td>6771</td>\n",
       "      <td>0</td>\n",
       "      <td>0.0</td>\n",
       "      <td>0</td>\n",
       "      <td>0</td>\n",
       "      <td>9</td>\n",
       "      <td>2</td>\n",
       "      <td>1</td>\n",
       "      <td>11</td>\n",
       "    </tr>\n",
       "    <tr>\n",
       "      <th>4</th>\n",
       "      <td>5</td>\n",
       "      <td>30</td>\n",
       "      <td>22.302845</td>\n",
       "      <td>1997-08-29 02:19:00</td>\n",
       "      <td>Tarragona</td>\n",
       "      <td>2</td>\n",
       "      <td>2.0</td>\n",
       "      <td>0</td>\n",
       "      <td>183</td>\n",
       "      <td>3</td>\n",
       "      <td>...</td>\n",
       "      <td>18436</td>\n",
       "      <td>4485</td>\n",
       "      <td>0</td>\n",
       "      <td>0.0</td>\n",
       "      <td>0</td>\n",
       "      <td>1</td>\n",
       "      <td>1</td>\n",
       "      <td>1</td>\n",
       "      <td>1</td>\n",
       "      <td>7</td>\n",
       "    </tr>\n",
       "  </tbody>\n",
       "</table>\n",
       "<p>5 rows × 21 columns</p>\n",
       "</div>"
      ],
      "text/plain": [
       "   id  edad  facturacion           antiguedad  provincia  num_lineas  num_dt  \\\n",
       "0   1    63   216.028109  2018-11-23 08:48:00   La Rioja           5     0.0   \n",
       "1   2    84   255.830842  2017-08-22 03:19:00    Vizcaya           3     0.0   \n",
       "2   3    66   135.768153  2001-12-27 13:50:00   Albacete           4     0.0   \n",
       "3   4    69   255.658527  2015-08-08 10:53:00       Lugo           4     0.0   \n",
       "4   5    30    22.302845  1997-08-29 02:19:00  Tarragona           2     2.0   \n",
       "\n",
       "   incidencia  num_llamad_ent  num_llamad_sal  ...  seg_llamad_ent  \\\n",
       "0           0             110              79  ...           12806   \n",
       "1           0             189              89  ...            6499   \n",
       "2           0             129              30  ...           17013   \n",
       "3           0              51              52  ...            3393   \n",
       "4           0             183               3  ...           18436   \n",
       "\n",
       "   seg_llamad_sal  financiacion  imp_financ  descuentos  conexion  \\\n",
       "0           13751             0         0.0           0         0   \n",
       "1           10862             0         0.0           1         0   \n",
       "2           16743             0         0.0           1         1   \n",
       "3            6771             0         0.0           0         0   \n",
       "4            4485             0         0.0           0         1   \n",
       "\n",
       "   vel_conexion  TV  mes  comunidad  \n",
       "0             7   1    1         13  \n",
       "1            11   1    1         15  \n",
       "2             6   1    1          6  \n",
       "3             9   2    1         11  \n",
       "4             1   1    1          7  \n",
       "\n",
       "[5 rows x 21 columns]"
      ]
     },
     "execution_count": 55,
     "metadata": {},
     "output_type": "execute_result"
    }
   ],
   "source": [
    "# Creamos una lista con las comunidades\n",
    "com = list(result.comunidad.unique())\n",
    "# La pasamos a numérica con LabelEncoder\n",
    "transform1 = LabelEncoder()\n",
    "transform1.fit_transform(com)\n",
    "prueba = transform1.transform(result['comunidad'])\n",
    "result['comunidad'] = prueba\n",
    "result.head()"
   ]
  },
  {
   "cell_type": "code",
   "execution_count": 56,
   "metadata": {},
   "outputs": [
    {
     "data": {
      "text/html": [
       "<div>\n",
       "<style scoped>\n",
       "    .dataframe tbody tr th:only-of-type {\n",
       "        vertical-align: middle;\n",
       "    }\n",
       "\n",
       "    .dataframe tbody tr th {\n",
       "        vertical-align: top;\n",
       "    }\n",
       "\n",
       "    .dataframe thead th {\n",
       "        text-align: right;\n",
       "    }\n",
       "</style>\n",
       "<table border=\"1\" class=\"dataframe\">\n",
       "  <thead>\n",
       "    <tr style=\"text-align: right;\">\n",
       "      <th></th>\n",
       "      <th>id</th>\n",
       "      <th>edad</th>\n",
       "      <th>facturacion</th>\n",
       "      <th>antiguedad</th>\n",
       "      <th>provincia</th>\n",
       "      <th>num_lineas</th>\n",
       "      <th>num_dt</th>\n",
       "      <th>incidencia</th>\n",
       "      <th>num_llamad_ent</th>\n",
       "      <th>num_llamad_sal</th>\n",
       "      <th>...</th>\n",
       "      <th>seg_llamad_ent</th>\n",
       "      <th>seg_llamad_sal</th>\n",
       "      <th>financiacion</th>\n",
       "      <th>imp_financ</th>\n",
       "      <th>descuentos</th>\n",
       "      <th>conexion</th>\n",
       "      <th>vel_conexion</th>\n",
       "      <th>TV</th>\n",
       "      <th>mes</th>\n",
       "      <th>comunidad</th>\n",
       "    </tr>\n",
       "  </thead>\n",
       "  <tbody>\n",
       "    <tr>\n",
       "      <th>0</th>\n",
       "      <td>1</td>\n",
       "      <td>63</td>\n",
       "      <td>216.028109</td>\n",
       "      <td>2018-11-23 08:48:00</td>\n",
       "      <td>23</td>\n",
       "      <td>5</td>\n",
       "      <td>0.0</td>\n",
       "      <td>0</td>\n",
       "      <td>110</td>\n",
       "      <td>79</td>\n",
       "      <td>...</td>\n",
       "      <td>12806</td>\n",
       "      <td>13751</td>\n",
       "      <td>0</td>\n",
       "      <td>0.0</td>\n",
       "      <td>0</td>\n",
       "      <td>0</td>\n",
       "      <td>7</td>\n",
       "      <td>1</td>\n",
       "      <td>1</td>\n",
       "      <td>13</td>\n",
       "    </tr>\n",
       "    <tr>\n",
       "      <th>1</th>\n",
       "      <td>2</td>\n",
       "      <td>84</td>\n",
       "      <td>255.830842</td>\n",
       "      <td>2017-08-22 03:19:00</td>\n",
       "      <td>45</td>\n",
       "      <td>3</td>\n",
       "      <td>0.0</td>\n",
       "      <td>0</td>\n",
       "      <td>189</td>\n",
       "      <td>89</td>\n",
       "      <td>...</td>\n",
       "      <td>6499</td>\n",
       "      <td>10862</td>\n",
       "      <td>0</td>\n",
       "      <td>0.0</td>\n",
       "      <td>1</td>\n",
       "      <td>0</td>\n",
       "      <td>11</td>\n",
       "      <td>1</td>\n",
       "      <td>1</td>\n",
       "      <td>15</td>\n",
       "    </tr>\n",
       "    <tr>\n",
       "      <th>2</th>\n",
       "      <td>3</td>\n",
       "      <td>66</td>\n",
       "      <td>135.768153</td>\n",
       "      <td>2001-12-27 13:50:00</td>\n",
       "      <td>0</td>\n",
       "      <td>4</td>\n",
       "      <td>0.0</td>\n",
       "      <td>0</td>\n",
       "      <td>129</td>\n",
       "      <td>30</td>\n",
       "      <td>...</td>\n",
       "      <td>17013</td>\n",
       "      <td>16743</td>\n",
       "      <td>0</td>\n",
       "      <td>0.0</td>\n",
       "      <td>1</td>\n",
       "      <td>1</td>\n",
       "      <td>6</td>\n",
       "      <td>1</td>\n",
       "      <td>1</td>\n",
       "      <td>6</td>\n",
       "    </tr>\n",
       "    <tr>\n",
       "      <th>3</th>\n",
       "      <td>4</td>\n",
       "      <td>69</td>\n",
       "      <td>255.658527</td>\n",
       "      <td>2015-08-08 10:53:00</td>\n",
       "      <td>26</td>\n",
       "      <td>4</td>\n",
       "      <td>0.0</td>\n",
       "      <td>0</td>\n",
       "      <td>51</td>\n",
       "      <td>52</td>\n",
       "      <td>...</td>\n",
       "      <td>3393</td>\n",
       "      <td>6771</td>\n",
       "      <td>0</td>\n",
       "      <td>0.0</td>\n",
       "      <td>0</td>\n",
       "      <td>0</td>\n",
       "      <td>9</td>\n",
       "      <td>2</td>\n",
       "      <td>1</td>\n",
       "      <td>11</td>\n",
       "    </tr>\n",
       "    <tr>\n",
       "      <th>4</th>\n",
       "      <td>5</td>\n",
       "      <td>30</td>\n",
       "      <td>22.302845</td>\n",
       "      <td>1997-08-29 02:19:00</td>\n",
       "      <td>40</td>\n",
       "      <td>2</td>\n",
       "      <td>2.0</td>\n",
       "      <td>0</td>\n",
       "      <td>183</td>\n",
       "      <td>3</td>\n",
       "      <td>...</td>\n",
       "      <td>18436</td>\n",
       "      <td>4485</td>\n",
       "      <td>0</td>\n",
       "      <td>0.0</td>\n",
       "      <td>0</td>\n",
       "      <td>1</td>\n",
       "      <td>1</td>\n",
       "      <td>1</td>\n",
       "      <td>1</td>\n",
       "      <td>7</td>\n",
       "    </tr>\n",
       "  </tbody>\n",
       "</table>\n",
       "<p>5 rows × 21 columns</p>\n",
       "</div>"
      ],
      "text/plain": [
       "   id  edad  facturacion           antiguedad  provincia  num_lineas  num_dt  \\\n",
       "0   1    63   216.028109  2018-11-23 08:48:00         23           5     0.0   \n",
       "1   2    84   255.830842  2017-08-22 03:19:00         45           3     0.0   \n",
       "2   3    66   135.768153  2001-12-27 13:50:00          0           4     0.0   \n",
       "3   4    69   255.658527  2015-08-08 10:53:00         26           4     0.0   \n",
       "4   5    30    22.302845  1997-08-29 02:19:00         40           2     2.0   \n",
       "\n",
       "   incidencia  num_llamad_ent  num_llamad_sal  ...  seg_llamad_ent  \\\n",
       "0           0             110              79  ...           12806   \n",
       "1           0             189              89  ...            6499   \n",
       "2           0             129              30  ...           17013   \n",
       "3           0              51              52  ...            3393   \n",
       "4           0             183               3  ...           18436   \n",
       "\n",
       "   seg_llamad_sal  financiacion  imp_financ  descuentos  conexion  \\\n",
       "0           13751             0         0.0           0         0   \n",
       "1           10862             0         0.0           1         0   \n",
       "2           16743             0         0.0           1         1   \n",
       "3            6771             0         0.0           0         0   \n",
       "4            4485             0         0.0           0         1   \n",
       "\n",
       "   vel_conexion  TV  mes  comunidad  \n",
       "0             7   1    1         13  \n",
       "1            11   1    1         15  \n",
       "2             6   1    1          6  \n",
       "3             9   2    1         11  \n",
       "4             1   1    1          7  \n",
       "\n",
       "[5 rows x 21 columns]"
      ]
     },
     "execution_count": 56,
     "metadata": {},
     "output_type": "execute_result"
    }
   ],
   "source": [
    "# Creamos una lista con las provincias\n",
    "prov = list(result.provincia.unique())\n",
    "\n",
    "# La pasamos a numérica con LabelEncoder\n",
    "transform1 = LabelEncoder()\n",
    "transform1.fit_transform(prov)\n",
    "prueba = transform1.transform(result['provincia'])\n",
    "result['provincia'] = prueba\n",
    "result.head()"
   ]
  },
  {
   "cell_type": "markdown",
   "metadata": {},
   "source": [
    "*ANTIGÜEDAD*.\n"
   ]
  },
  {
   "cell_type": "code",
   "execution_count": 57,
   "metadata": {},
   "outputs": [],
   "source": [
    "result.antiguedad = pd.to_datetime(result.antiguedad)"
   ]
  },
  {
   "cell_type": "code",
   "execution_count": 58,
   "metadata": {},
   "outputs": [],
   "source": [
    "diciembre = result[result.mes == 1]\n",
    "enero = result[result.mes == 0]"
   ]
  },
  {
   "cell_type": "code",
   "execution_count": 59,
   "metadata": {},
   "outputs": [],
   "source": [
    "# Diciembre\n",
    "fechaCadena = \"2019-12-31\"\n",
    "ahora = datetime.strptime(fechaCadena, '%Y-%m-%d')"
   ]
  },
  {
   "cell_type": "code",
   "execution_count": 60,
   "metadata": {},
   "outputs": [
    {
     "name": "stderr",
     "output_type": "stream",
     "text": [
      "C:\\Users\\carra\\anaconda3\\lib\\site-packages\\pandas\\core\\generic.py:5303: SettingWithCopyWarning: \n",
      "A value is trying to be set on a copy of a slice from a DataFrame.\n",
      "Try using .loc[row_indexer,col_indexer] = value instead\n",
      "\n",
      "See the caveats in the documentation: https://pandas.pydata.org/pandas-docs/stable/user_guide/indexing.html#returning-a-view-versus-a-copy\n",
      "  self[name] = value\n"
     ]
    }
   ],
   "source": [
    "diciembre.antiguedad= ahora - diciembre.antiguedad "
   ]
  },
  {
   "cell_type": "code",
   "execution_count": 61,
   "metadata": {},
   "outputs": [],
   "source": [
    "diciembre.antiguedad = diciembre.antiguedad.dt.days # pasar a days"
   ]
  },
  {
   "cell_type": "code",
   "execution_count": 62,
   "metadata": {},
   "outputs": [],
   "source": [
    "# Enero\n",
    "fechaCadena = \"2020-12-31\"\n",
    "ahora = datetime.strptime(fechaCadena, '%Y-%m-%d')"
   ]
  },
  {
   "cell_type": "code",
   "execution_count": 63,
   "metadata": {},
   "outputs": [],
   "source": [
    "enero.antiguedad= ahora - enero.antiguedad "
   ]
  },
  {
   "cell_type": "code",
   "execution_count": 64,
   "metadata": {},
   "outputs": [],
   "source": [
    "enero.antiguedad = enero.antiguedad.dt.days # pasar a days"
   ]
  },
  {
   "cell_type": "code",
   "execution_count": 65,
   "metadata": {},
   "outputs": [
    {
     "data": {
      "text/html": [
       "<div>\n",
       "<style scoped>\n",
       "    .dataframe tbody tr th:only-of-type {\n",
       "        vertical-align: middle;\n",
       "    }\n",
       "\n",
       "    .dataframe tbody tr th {\n",
       "        vertical-align: top;\n",
       "    }\n",
       "\n",
       "    .dataframe thead th {\n",
       "        text-align: right;\n",
       "    }\n",
       "</style>\n",
       "<table border=\"1\" class=\"dataframe\">\n",
       "  <thead>\n",
       "    <tr style=\"text-align: right;\">\n",
       "      <th></th>\n",
       "      <th>id</th>\n",
       "      <th>edad</th>\n",
       "      <th>facturacion</th>\n",
       "      <th>antiguedad</th>\n",
       "      <th>provincia</th>\n",
       "      <th>num_lineas</th>\n",
       "      <th>num_dt</th>\n",
       "      <th>incidencia</th>\n",
       "      <th>num_llamad_ent</th>\n",
       "      <th>num_llamad_sal</th>\n",
       "      <th>...</th>\n",
       "      <th>seg_llamad_ent</th>\n",
       "      <th>seg_llamad_sal</th>\n",
       "      <th>financiacion</th>\n",
       "      <th>imp_financ</th>\n",
       "      <th>descuentos</th>\n",
       "      <th>conexion</th>\n",
       "      <th>vel_conexion</th>\n",
       "      <th>TV</th>\n",
       "      <th>mes</th>\n",
       "      <th>comunidad</th>\n",
       "    </tr>\n",
       "  </thead>\n",
       "  <tbody>\n",
       "    <tr>\n",
       "      <th>13264</th>\n",
       "      <td>13884</td>\n",
       "      <td>24</td>\n",
       "      <td>262.410095</td>\n",
       "      <td>-1</td>\n",
       "      <td>18</td>\n",
       "      <td>5</td>\n",
       "      <td>0.0</td>\n",
       "      <td>0</td>\n",
       "      <td>100</td>\n",
       "      <td>95</td>\n",
       "      <td>...</td>\n",
       "      <td>12501</td>\n",
       "      <td>6209</td>\n",
       "      <td>0</td>\n",
       "      <td>0.0</td>\n",
       "      <td>0</td>\n",
       "      <td>0</td>\n",
       "      <td>9</td>\n",
       "      <td>1</td>\n",
       "      <td>1</td>\n",
       "      <td>0</td>\n",
       "    </tr>\n",
       "    <tr>\n",
       "      <th>55183</th>\n",
       "      <td>57789</td>\n",
       "      <td>29</td>\n",
       "      <td>136.313366</td>\n",
       "      <td>-1</td>\n",
       "      <td>6</td>\n",
       "      <td>2</td>\n",
       "      <td>0.0</td>\n",
       "      <td>0</td>\n",
       "      <td>121</td>\n",
       "      <td>34</td>\n",
       "      <td>...</td>\n",
       "      <td>4283</td>\n",
       "      <td>4029</td>\n",
       "      <td>0</td>\n",
       "      <td>0.0</td>\n",
       "      <td>0</td>\n",
       "      <td>1</td>\n",
       "      <td>3</td>\n",
       "      <td>1</td>\n",
       "      <td>1</td>\n",
       "      <td>5</td>\n",
       "    </tr>\n",
       "  </tbody>\n",
       "</table>\n",
       "<p>2 rows × 21 columns</p>\n",
       "</div>"
      ],
      "text/plain": [
       "          id  edad  facturacion  antiguedad  provincia  num_lineas  num_dt  \\\n",
       "13264  13884    24   262.410095          -1         18           5     0.0   \n",
       "55183  57789    29   136.313366          -1          6           2     0.0   \n",
       "\n",
       "       incidencia  num_llamad_ent  num_llamad_sal  ...  seg_llamad_ent  \\\n",
       "13264           0             100              95  ...           12501   \n",
       "55183           0             121              34  ...            4283   \n",
       "\n",
       "       seg_llamad_sal  financiacion  imp_financ  descuentos  conexion  \\\n",
       "13264            6209             0         0.0           0         0   \n",
       "55183            4029             0         0.0           0         1   \n",
       "\n",
       "       vel_conexion  TV  mes  comunidad  \n",
       "13264             9   1    1          0  \n",
       "55183             3   1    1          5  \n",
       "\n",
       "[2 rows x 21 columns]"
      ]
     },
     "execution_count": 65,
     "metadata": {},
     "output_type": "execute_result"
    }
   ],
   "source": [
    "diciembre[diciembre.antiguedad == -1]"
   ]
  },
  {
   "cell_type": "markdown",
   "metadata": {},
   "source": [
    "Vemos que al no incluir la hora estos dos indivios les pone un -1 en antigüedad. Previamente hemos comprobado que es por la hora, asi que los cambiamos por 0."
   ]
  },
  {
   "cell_type": "code",
   "execution_count": 66,
   "metadata": {},
   "outputs": [
    {
     "name": "stderr",
     "output_type": "stream",
     "text": [
      "<ipython-input-66-37a4ac4c6ce2>:1: SettingWithCopyWarning: \n",
      "A value is trying to be set on a copy of a slice from a DataFrame.\n",
      "Try using .loc[row_indexer,col_indexer] = value instead\n",
      "\n",
      "See the caveats in the documentation: https://pandas.pydata.org/pandas-docs/stable/user_guide/indexing.html#returning-a-view-versus-a-copy\n",
      "  diciembre['antiguedad']=  diciembre['antiguedad'].replace(-1, 0)\n"
     ]
    }
   ],
   "source": [
    "diciembre['antiguedad']=  diciembre['antiguedad'].replace(-1, 0)"
   ]
  },
  {
   "cell_type": "code",
   "execution_count": 67,
   "metadata": {},
   "outputs": [],
   "source": [
    "diciembre = diciembre.drop(['mes'], axis=1)\n",
    "enero = enero.drop(['mes'], axis=1)"
   ]
  },
  {
   "cell_type": "markdown",
   "metadata": {},
   "source": [
    "------------------------------------------"
   ]
  },
  {
   "cell_type": "markdown",
   "metadata": {},
   "source": [
    "## 4. Target"
   ]
  },
  {
   "cell_type": "markdown",
   "metadata": {},
   "source": [
    "Creamos la variable target. No la incluye el modelo asi que vamos a crearla nosotros. Como tenemos enero y diciembre podemos ver que individuos siguen en la compañía en enero y cuales no."
   ]
  },
  {
   "cell_type": "code",
   "execution_count": 68,
   "metadata": {},
   "outputs": [],
   "source": [
    "target = df_clientes['id'].isin(df_clientes_en['id'])"
   ]
  },
  {
   "cell_type": "code",
   "execution_count": 69,
   "metadata": {},
   "outputs": [],
   "source": [
    "target= target.apply(lambda x: 1 if x==True else 0)"
   ]
  },
  {
   "cell_type": "code",
   "execution_count": 70,
   "metadata": {},
   "outputs": [],
   "source": [
    "diciembre['target'] = target"
   ]
  },
  {
   "cell_type": "code",
   "execution_count": 71,
   "metadata": {},
   "outputs": [
    {
     "data": {
      "text/html": [
       "<div>\n",
       "<style scoped>\n",
       "    .dataframe tbody tr th:only-of-type {\n",
       "        vertical-align: middle;\n",
       "    }\n",
       "\n",
       "    .dataframe tbody tr th {\n",
       "        vertical-align: top;\n",
       "    }\n",
       "\n",
       "    .dataframe thead th {\n",
       "        text-align: right;\n",
       "    }\n",
       "</style>\n",
       "<table border=\"1\" class=\"dataframe\">\n",
       "  <thead>\n",
       "    <tr style=\"text-align: right;\">\n",
       "      <th></th>\n",
       "      <th>id</th>\n",
       "      <th>edad</th>\n",
       "      <th>facturacion</th>\n",
       "      <th>antiguedad</th>\n",
       "      <th>provincia</th>\n",
       "      <th>num_lineas</th>\n",
       "      <th>num_dt</th>\n",
       "      <th>incidencia</th>\n",
       "      <th>num_llamad_ent</th>\n",
       "      <th>num_llamad_sal</th>\n",
       "      <th>...</th>\n",
       "      <th>seg_llamad_ent</th>\n",
       "      <th>seg_llamad_sal</th>\n",
       "      <th>financiacion</th>\n",
       "      <th>imp_financ</th>\n",
       "      <th>descuentos</th>\n",
       "      <th>conexion</th>\n",
       "      <th>vel_conexion</th>\n",
       "      <th>TV</th>\n",
       "      <th>comunidad</th>\n",
       "      <th>target</th>\n",
       "    </tr>\n",
       "  </thead>\n",
       "  <tbody>\n",
       "    <tr>\n",
       "      <th>0</th>\n",
       "      <td>1</td>\n",
       "      <td>63</td>\n",
       "      <td>216.028109</td>\n",
       "      <td>402</td>\n",
       "      <td>23</td>\n",
       "      <td>5</td>\n",
       "      <td>0.0</td>\n",
       "      <td>0</td>\n",
       "      <td>110</td>\n",
       "      <td>79</td>\n",
       "      <td>...</td>\n",
       "      <td>12806</td>\n",
       "      <td>13751</td>\n",
       "      <td>0</td>\n",
       "      <td>0.0</td>\n",
       "      <td>0</td>\n",
       "      <td>0</td>\n",
       "      <td>7</td>\n",
       "      <td>1</td>\n",
       "      <td>13</td>\n",
       "      <td>1</td>\n",
       "    </tr>\n",
       "    <tr>\n",
       "      <th>1</th>\n",
       "      <td>2</td>\n",
       "      <td>84</td>\n",
       "      <td>255.830842</td>\n",
       "      <td>860</td>\n",
       "      <td>45</td>\n",
       "      <td>3</td>\n",
       "      <td>0.0</td>\n",
       "      <td>0</td>\n",
       "      <td>189</td>\n",
       "      <td>89</td>\n",
       "      <td>...</td>\n",
       "      <td>6499</td>\n",
       "      <td>10862</td>\n",
       "      <td>0</td>\n",
       "      <td>0.0</td>\n",
       "      <td>1</td>\n",
       "      <td>0</td>\n",
       "      <td>11</td>\n",
       "      <td>1</td>\n",
       "      <td>15</td>\n",
       "      <td>1</td>\n",
       "    </tr>\n",
       "    <tr>\n",
       "      <th>2</th>\n",
       "      <td>3</td>\n",
       "      <td>66</td>\n",
       "      <td>135.768153</td>\n",
       "      <td>6577</td>\n",
       "      <td>0</td>\n",
       "      <td>4</td>\n",
       "      <td>0.0</td>\n",
       "      <td>0</td>\n",
       "      <td>129</td>\n",
       "      <td>30</td>\n",
       "      <td>...</td>\n",
       "      <td>17013</td>\n",
       "      <td>16743</td>\n",
       "      <td>0</td>\n",
       "      <td>0.0</td>\n",
       "      <td>1</td>\n",
       "      <td>1</td>\n",
       "      <td>6</td>\n",
       "      <td>1</td>\n",
       "      <td>6</td>\n",
       "      <td>1</td>\n",
       "    </tr>\n",
       "    <tr>\n",
       "      <th>3</th>\n",
       "      <td>4</td>\n",
       "      <td>69</td>\n",
       "      <td>255.658527</td>\n",
       "      <td>1605</td>\n",
       "      <td>26</td>\n",
       "      <td>4</td>\n",
       "      <td>0.0</td>\n",
       "      <td>0</td>\n",
       "      <td>51</td>\n",
       "      <td>52</td>\n",
       "      <td>...</td>\n",
       "      <td>3393</td>\n",
       "      <td>6771</td>\n",
       "      <td>0</td>\n",
       "      <td>0.0</td>\n",
       "      <td>0</td>\n",
       "      <td>0</td>\n",
       "      <td>9</td>\n",
       "      <td>2</td>\n",
       "      <td>11</td>\n",
       "      <td>1</td>\n",
       "    </tr>\n",
       "    <tr>\n",
       "      <th>4</th>\n",
       "      <td>5</td>\n",
       "      <td>30</td>\n",
       "      <td>22.302845</td>\n",
       "      <td>8158</td>\n",
       "      <td>40</td>\n",
       "      <td>2</td>\n",
       "      <td>2.0</td>\n",
       "      <td>0</td>\n",
       "      <td>183</td>\n",
       "      <td>3</td>\n",
       "      <td>...</td>\n",
       "      <td>18436</td>\n",
       "      <td>4485</td>\n",
       "      <td>0</td>\n",
       "      <td>0.0</td>\n",
       "      <td>0</td>\n",
       "      <td>1</td>\n",
       "      <td>1</td>\n",
       "      <td>1</td>\n",
       "      <td>7</td>\n",
       "      <td>0</td>\n",
       "    </tr>\n",
       "  </tbody>\n",
       "</table>\n",
       "<p>5 rows × 21 columns</p>\n",
       "</div>"
      ],
      "text/plain": [
       "   id  edad  facturacion  antiguedad  provincia  num_lineas  num_dt  \\\n",
       "0   1    63   216.028109         402         23           5     0.0   \n",
       "1   2    84   255.830842         860         45           3     0.0   \n",
       "2   3    66   135.768153        6577          0           4     0.0   \n",
       "3   4    69   255.658527        1605         26           4     0.0   \n",
       "4   5    30    22.302845        8158         40           2     2.0   \n",
       "\n",
       "   incidencia  num_llamad_ent  num_llamad_sal  ...  seg_llamad_ent  \\\n",
       "0           0             110              79  ...           12806   \n",
       "1           0             189              89  ...            6499   \n",
       "2           0             129              30  ...           17013   \n",
       "3           0              51              52  ...            3393   \n",
       "4           0             183               3  ...           18436   \n",
       "\n",
       "   seg_llamad_sal  financiacion  imp_financ  descuentos  conexion  \\\n",
       "0           13751             0         0.0           0         0   \n",
       "1           10862             0         0.0           1         0   \n",
       "2           16743             0         0.0           1         1   \n",
       "3            6771             0         0.0           0         0   \n",
       "4            4485             0         0.0           0         1   \n",
       "\n",
       "   vel_conexion  TV  comunidad  target  \n",
       "0             7   1         13       1  \n",
       "1            11   1         15       1  \n",
       "2             6   1          6       1  \n",
       "3             9   2         11       1  \n",
       "4             1   1          7       0  \n",
       "\n",
       "[5 rows x 21 columns]"
      ]
     },
     "execution_count": 71,
     "metadata": {},
     "output_type": "execute_result"
    }
   ],
   "source": [
    "diciembre.head()"
   ]
  },
  {
   "cell_type": "markdown",
   "metadata": {},
   "source": [
    "-------------------------------------"
   ]
  },
  {
   "cell_type": "markdown",
   "metadata": {},
   "source": [
    "## 5. Modelo Inicial"
   ]
  },
  {
   "cell_type": "markdown",
   "metadata": {},
   "source": [
    "Antes de comenzar con el feature engineering probaremos los modelos iniciales con las variables sin modificar. No se va a incluir el odelo de regresión logística porque devolvía pésimos resultados."
   ]
  },
  {
   "cell_type": "code",
   "execution_count": 129,
   "metadata": {},
   "outputs": [],
   "source": [
    "# Sacamos target de diciembre\n",
    "diciembre = diciembre.drop(['target'], axis=1)"
   ]
  },
  {
   "cell_type": "code",
   "execution_count": 130,
   "metadata": {},
   "outputs": [],
   "source": [
    "# TRAIN Y TEST\n",
    "X_train, X_test, y_train, y_test = train_test_split(diciembre,\n",
    "                                                    target,\n",
    "                                                    test_size=0.2,\n",
    "                                                    random_state=42,\n",
    "                                                    stratify = target)"
   ]
  },
  {
   "cell_type": "code",
   "execution_count": 131,
   "metadata": {},
   "outputs": [],
   "source": [
    "def saca_metricas(y1, y2):\n",
    "    print('matriz de confusión')\n",
    "    print(confusion_matrix(y1, y2))\n",
    "    print('accuracy')\n",
    "    print(accuracy_score(y1, y2))\n",
    "    print('precision')\n",
    "    print(precision_score(y1, y2))\n",
    "    print('recall')\n",
    "    print(recall_score(y1, y2))\n",
    "    print('f1')\n",
    "    print(f1_score(y1, y2))\n",
    "    false_positive_rate, recall, thresholds = roc_curve(y1, y2)\n",
    "    roc_auc = auc(false_positive_rate, recall)\n",
    "    print('AUC')\n",
    "    print(roc_auc)\n",
    "    plt.plot(false_positive_rate, recall, 'b')\n",
    "    plt.plot([0, 1], [0, 1], 'r--')\n",
    "    plt.title('AUC = %0.2f' % roc_auc)  "
   ]
  },
  {
   "cell_type": "markdown",
   "metadata": {},
   "source": [
    "*RANDOM FOREST*"
   ]
  },
  {
   "cell_type": "code",
   "execution_count": 132,
   "metadata": {},
   "outputs": [],
   "source": [
    "classifier2 = RandomForestClassifier(max_depth = 10).fit(X_train, y_train)\n",
    "y_pred2    = classifier2.predict(X_test)"
   ]
  },
  {
   "cell_type": "code",
   "execution_count": 133,
   "metadata": {},
   "outputs": [
    {
     "name": "stdout",
     "output_type": "stream",
     "text": [
      "matriz de confusión\n",
      "[[  812   605]\n",
      " [   75 17602]]\n",
      "accuracy\n",
      "0.96438671834084\n",
      "precision\n",
      "0.966771022134344\n",
      "recall\n",
      "0.9957571986196753\n",
      "f1\n",
      "0.9810500501616319\n",
      "AUC\n",
      "0.784399417940748\n"
     ]
    },
    {
     "data": {
      "image/png": "[encoded data removed]",
      "text/plain": [
       "<Figure size 432x288 with 1 Axes>"
      ]
     },
     "metadata": {
      "needs_background": "light"
     },
     "output_type": "display_data"
    }
   ],
   "source": [
    "saca_metricas(y_test, y_pred2)"
   ]
  },
  {
   "cell_type": "markdown",
   "metadata": {},
   "source": [
    "*XGBOOST*"
   ]
  },
  {
   "cell_type": "code",
   "execution_count": 134,
   "metadata": {},
   "outputs": [
    {
     "name": "stderr",
     "output_type": "stream",
     "text": [
      "C:\\Users\\carra\\anaconda3\\lib\\site-packages\\xgboost\\sklearn.py:888: UserWarning: The use of label encoder in XGBClassifier is deprecated and will be removed in a future release. To remove this warning, do the following: 1) Pass option use_label_encoder=False when constructing XGBClassifier object; and 2) Encode your labels (y) as integers starting with 0, i.e. 0, 1, 2, ..., [num_class - 1].\n",
      "  warnings.warn(label_encoder_deprecation_msg, UserWarning)\n"
     ]
    },
    {
     "name": "stdout",
     "output_type": "stream",
     "text": [
      "[21:57:05] WARNING: C:/Users/Administrator/workspace/xgboost-win64_release_1.3.0/src/learner.cc:1061: Starting in XGBoost 1.3.0, the default evaluation metric used with the objective 'binary:logistic' was changed from 'error' to 'logloss'. Explicitly set eval_metric if you'd like to restore the old behavior.\n"
     ]
    }
   ],
   "source": [
    "classifier3 = XGBClassifier(n_estimators = 1000).fit(X_train, y_train)\n",
    "y_pred3    = classifier3.predict(X_test)"
   ]
  },
  {
   "cell_type": "code",
   "execution_count": 135,
   "metadata": {},
   "outputs": [
    {
     "name": "stdout",
     "output_type": "stream",
     "text": [
      "matriz de confusión\n",
      "[[  860   557]\n",
      " [  158 17519]]\n",
      "accuracy\n",
      "0.9625536817848539\n",
      "precision\n",
      "0.9691856605443683\n",
      "recall\n",
      "0.9910618317587826\n",
      "f1\n",
      "0.9800016781808519\n",
      "AUC\n",
      "0.7989889257594196\n"
     ]
    },
    {
     "data": {
      "image/png": "[encoded data removed]",
      "text/plain": [
       "<Figure size 432x288 with 1 Axes>"
      ]
     },
     "metadata": {
      "needs_background": "light"
     },
     "output_type": "display_data"
    }
   ],
   "source": [
    "saca_metricas(y_test, y_pred3)"
   ]
  },
  {
   "cell_type": "markdown",
   "metadata": {},
   "source": [
    "Hemos probado dos modelos de clasficación y, como vemos, tanto el modelo RandomForest como el XGBoost funcionan realmente bien sin feature engineer o grid search. Para las próximas mejoras elegiremos el modelo XGBoost."
   ]
  },
  {
   "cell_type": "markdown",
   "metadata": {},
   "source": [
    "-----------------------------------------------------------------"
   ]
  },
  {
   "cell_type": "markdown",
   "metadata": {},
   "source": [
    "## 6. Feature Engineering"
   ]
  },
  {
   "cell_type": "markdown",
   "metadata": {},
   "source": [
    "Vamos a intentar mejorar los modelos anteriores con FE. Para ello, observaremos como se distribuyen las distintas variables con la target para generar las mejores transformaciones. Además, crearemos ratios entre ellas."
   ]
  },
  {
   "cell_type": "code",
   "execution_count": 72,
   "metadata": {},
   "outputs": [],
   "source": [
    "diciembre['target'] = target"
   ]
  },
  {
   "cell_type": "code",
   "execution_count": 73,
   "metadata": {},
   "outputs": [],
   "source": [
    "def proporciones_final (var,target,df):\n",
    "\n",
    "    proporcion = pd.DataFrame()\n",
    "    \n",
    "    proporcion['%depositos'] = df[target].groupby(df[var]).mean()*100\n",
    "    proporcion['Conteo'] = df[target].groupby(df[var]).count()\n",
    "    proporcion= proporcion.round(3)   \n",
    "    proporcion_filtered = proporcion[(proporcion['%depositos']>0) & (proporcion['Conteo']>10)]\n",
    "        \n",
    "    if len(proporcion_filtered)<100 and len(proporcion_filtered)>1:\n",
    "        fig = plt.figure()\n",
    "        ax = proporcion_filtered['Conteo'].plot(kind='bar',grid=True)\n",
    "                \n",
    "        ax2 = ax.twinx()\n",
    "        ax2.plot(proporcion_filtered['%depositos'].values, linestyle='-', linewidth=2.0,color='g')\n",
    "        plt.tight_layout()        \n",
    "    else:        \n",
    "        proporcion_filtered.reset_index(inplace=True)\n",
    "        sns.lmplot(x = var,y ='%depositos',data=proporcion_filtered, fit_reg=True,ci=None)    \n"
   ]
  },
  {
   "cell_type": "code",
   "execution_count": 74,
   "metadata": {},
   "outputs": [
    {
     "name": "stderr",
     "output_type": "stream",
     "text": [
      "C:\\Users\\carra\\anaconda3\\lib\\site-packages\\seaborn\\axisgrid.py:318: RuntimeWarning: More than 20 figures have been opened. Figures created through the pyplot interface (`matplotlib.pyplot.figure`) are retained until explicitly closed and may consume too much memory. (To control this warning, see the rcParam `figure.max_open_warning`).\n",
      "  fig, axes = plt.subplots(nrow, ncol, **kwargs)\n"
     ]
    },
    {
     "data": {
      "image/png": "[encoded data removed]",
      "text/plain": [
       "<Figure size 360x360 with 1 Axes>"
      ]
     },
     "metadata": {
      "needs_background": "light"
     },
     "output_type": "display_data"
    },
    {
     "data": {
      "image/png": "[encoded data removed]",
      "text/plain": [
       "<Figure size 432x288 with 2 Axes>"
      ]
     },
     "metadata": {
      "needs_background": "light"
     },
     "output_type": "display_data"
    },
    {
     "data": {
      "image/png": "[encoded data removed]",
      "text/plain": [
       "<Figure size 360x360 with 1 Axes>"
      ]
     },
     "metadata": {
      "needs_background": "light"
     },
     "output_type": "display_data"
    },
    {
     "data": {
      "image/png": "[encoded data removed]",
      "text/plain": [
       "<Figure size 360x360 with 1 Axes>"
      ]
     },
     "metadata": {
      "needs_background": "light"
     },
     "output_type": "display_data"
    },
    {
     "data": {
      "image/png": "[encoded data removed]",
      "text/plain": [
       "<Figure size 432x288 with 2 Axes>"
      ]
     },
     "metadata": {
      "needs_background": "light"
     },
     "output_type": "display_data"
    },
    {
     "data": {
      "image/png": "[encoded data removed]",
      "text/plain": [
       "<Figure size 432x288 with 2 Axes>"
      ]
     },
     "metadata": {
      "needs_background": "light"
     },
     "output_type": "display_data"
    },
    {
     "data": {
      "image/png": "[encoded data removed]",
      "text/plain": [
       "<Figure size 432x288 with 2 Axes>"
      ]
     },
     "metadata": {
      "needs_background": "light"
     },
     "output_type": "display_data"
    },
    {
     "data": {
      "image/png": "[encoded data removed]",
      "text/plain": [
       "<Figure size 432x288 with 2 Axes>"
      ]
     },
     "metadata": {
      "needs_background": "light"
     },
     "output_type": "display_data"
    },
    {
     "data": {
      "image/png": "[encoded data removed]",
      "text/plain": [
       "<Figure size 360x360 with 1 Axes>"
      ]
     },
     "metadata": {
      "needs_background": "light"
     },
     "output_type": "display_data"
    },
    {
     "data": {
      "image/png": "[encoded data removed]",
      "text/plain": [
       "<Figure size 360x360 with 1 Axes>"
      ]
     },
     "metadata": {
      "needs_background": "light"
     },
     "output_type": "display_data"
    },
    {
     "data": {
      "image/png": "[encoded data removed]",
      "text/plain": [
       "<Figure size 432x288 with 2 Axes>"
      ]
     },
     "metadata": {
      "needs_background": "light"
     },
     "output_type": "display_data"
    },
    {
     "data": {
      "image/png": "[encoded data removed]",
      "text/plain": [
       "<Figure size 360x360 with 1 Axes>"
      ]
     },
     "metadata": {
      "needs_background": "light"
     },
     "output_type": "display_data"
    },
    {
     "data": {
      "image/png": "[encoded data removed]",
      "text/plain": [
       "<Figure size 360x360 with 1 Axes>"
      ]
     },
     "metadata": {
      "needs_background": "light"
     },
     "output_type": "display_data"
    },
    {
     "data": {
      "image/png": "[encoded data removed]",
      "text/plain": [
       "<Figure size 432x288 with 2 Axes>"
      ]
     },
     "metadata": {
      "needs_background": "light"
     },
     "output_type": "display_data"
    },
    {
     "data": {
      "image/png": "[encoded data removed]",
      "text/plain": [
       "<Figure size 360x360 with 1 Axes>"
      ]
     },
     "metadata": {
      "needs_background": "light"
     },
     "output_type": "display_data"
    },
    {
     "data": {
      "image/png": "[encoded data removed]",
      "text/plain": [
       "<Figure size 432x288 with 2 Axes>"
      ]
     },
     "metadata": {
      "needs_background": "light"
     },
     "output_type": "display_data"
    },
    {
     "data": {
      "image/png": "[encoded data removed]",
      "text/plain": [
       "<Figure size 432x288 with 2 Axes>"
      ]
     },
     "metadata": {
      "needs_background": "light"
     },
     "output_type": "display_data"
    },
    {
     "data": {
      "image/png": "[encoded data removed]",
      "text/plain": [
       "<Figure size 432x288 with 2 Axes>"
      ]
     },
     "metadata": {
      "needs_background": "light"
     },
     "output_type": "display_data"
    },
    {
     "data": {
      "image/png": "[encoded data removed]",
      "text/plain": [
       "<Figure size 432x288 with 2 Axes>"
      ]
     },
     "metadata": {
      "needs_background": "light"
     },
     "output_type": "display_data"
    },
    {
     "data": {
      "image/png": "[encoded data removed]",
      "text/plain": [
       "<Figure size 432x288 with 2 Axes>"
      ]
     },
     "metadata": {
      "needs_background": "light"
     },
     "output_type": "display_data"
    },
    {
     "data": {
      "image/png": "[encoded data removed]",
      "text/plain": [
       "<Figure size 360x360 with 1 Axes>"
      ]
     },
     "metadata": {
      "needs_background": "light"
     },
     "output_type": "display_data"
    }
   ],
   "source": [
    "for i in diciembre.columns:\n",
    "    proporciones_final (i, 'target', diciembre)"
   ]
  },
  {
   "cell_type": "markdown",
   "metadata": {},
   "source": [
    "**ANÁLISIS**\n",
    "- Edad: vemos que la target funciona mejor en mayores de 40 años. \n",
    "- Antigüedad: crearemos nuevas variables como meses de antigüedad o años de antigüedad.\n",
    "- Provincia: una nueva variable que recoja los picos.\n",
    "- Num_lineas: funciona muy bien con 5, podemos crear una binaria de 5 y lo demas o todas menos 1.\n",
    "- Num_dt: muchos más datos en 0 que en el resto -> binaria.\n",
    "- Mb_datos por tramos o algo.\n",
    "- Num_llamad_ent/Num_llamad_sal/Seg_llamad_ent/Seg_llamad_sal/mb_datos: tramos.\n",
    "- Vel_conexión: la 1 y 2 funcionan muy bien, 5 y 8 más o menos y 4, 6, 9 y 11 muy mal.\n",
    "- TV: podemos agrupar las categorías 1 y 2 para crear una binaria.\n",
    "- Comunidad: crearemos una variable que recoja los picos."
   ]
  },
  {
   "cell_type": "code",
   "execution_count": 75,
   "metadata": {},
   "outputs": [],
   "source": [
    "def tramos(varib,varib_destino,tamanio,maximo,df):\n",
    "    df[varib_destino]=np.where(df[varib]==0,-1,(df[varib]//tamanio)*tamanio)\n",
    "    df[varib_destino]=np.where(df[varib_destino]>=maximo,maximo,df[varib_destino])"
   ]
  },
  {
   "cell_type": "code",
   "execution_count": 76,
   "metadata": {},
   "outputs": [],
   "source": [
    "## AGE \n",
    "diciembre['edad_mayores'] = diciembre['edad'].apply(lambda x: 1 if x>=41 else 0)\n",
    "tramos('edad','edad_new',5,90,diciembre)\n",
    "\n",
    "## NUM_DT\n",
    "diciembre['num_dt_new'] = diciembre['num_dt'].apply(lambda x: 0 if x>=1 else 1)\n",
    "\n",
    "## NUM_LINEAS\n",
    "diciembre['num_lineas_new'] = diciembre['num_lineas'] .apply(lambda x: 0 if x==1 else 1) \n",
    "diciembre['num_lineas_new2'] = diciembre['num_lineas'] .apply(lambda x: 1 if x==5 else 0) \n",
    "\n",
    "## NUM_LLAMAD_ENT\n",
    "tramos('num_llamad_ent','num_llamad_ent_new',3,300,diciembre)\n",
    "tramos('num_llamad_ent','num_llamad_ent_new2',50,300,diciembre)\n",
    "\n",
    "## NUM_LLAMAD_SAL\n",
    "tramos('num_llamad_sal','num_llamad_sal_new',3,150,diciembre)\n",
    "tramos('num_llamad_sal','num_llamad_sal_new2',50,150,diciembre)\n",
    "\n",
    "## ANTIGÜEDAD\n",
    "tramos('antiguedad','antiguedad_new',3,9500,diciembre) # Tramos\n",
    "tramos('antiguedad','antiguedad_new2',20,9500,diciembre) # Tramos\n",
    "diciembre['antiguedad_new3'] = diciembre['antiguedad']//30 # Dividimos por los días de un mes\n",
    "diciembre['antiguedad_new4'] = diciembre['antiguedad']//365 # Dividimos por los días de un año\n",
    "\n",
    "## MB_DATOS\n",
    "tramos('mb_datos','mb_datos_new',10,25500,diciembre) # Tramos\n",
    "tramos('mb_datos','mb_datos_new2',100,25500,diciembre) # Tramos\n",
    "tramos('mb_datos','mb_datos_new3',5000,25500,diciembre) # Tramos\n",
    "\n",
    "## SEG_LLAMAD_ENT\n",
    "tramos('seg_llamad_ent','seg_llamad_ent_new',10,20500,diciembre) # Tramos\n",
    "tramos('seg_llamad_ent','seg_llamad_ent_new2',100,20500,diciembre) # Tramos\n",
    "tramos('seg_llamad_ent','seg_llamad_ent_new3',5000,20500,diciembre) # Tramos\n",
    "\n",
    "## SEG_LLAMAD_SAL\n",
    "tramos('seg_llamad_sal','seg_llamad_sal_new',10,20500,diciembre) # Tramos\n",
    "tramos('seg_llamad_sal','seg_llamad_sal_new2',100,20500,diciembre) # Tramos\n",
    "tramos('seg_llamad_sal','seg_llamad_sal_new3',5000,20500,diciembre) # Tramos\n",
    "\n",
    "## TV\n",
    "diciembre['TV_new'] = diciembre['TV'].apply(lambda x: 1 if x==3 else 0) #Contratado todo o no\n",
    "\n",
    "## VEL_CONEXION\n",
    "diciembre['vel_conexion_new'] = diciembre['vel_conexion'].apply(lambda x: 1 if x==1 or x==2 else 0) # Los dos más altos\n",
    "diciembre['vel_conexion_new2'] = diciembre['vel_conexion'].apply(lambda x: 1 if x==1 or x==2 or x==5 or x==8 else 0) #Contratado todo o no\n",
    "diciembre['vel_conexion_new3'] = diciembre['vel_conexion'].apply(lambda x: 1 if x==1 or x==2 or x==5 else 0) #Contratado todo o no\n",
    "\n",
    "## COMUNIDAD\n",
    "diciembre['comunidad_new'] = diciembre['comunidad'].apply(lambda x: 1 if x==2 or x==12 or x==16 else 0) \n",
    "diciembre['comunidad_new2'] = diciembre['comunidad'].apply(lambda x: 1 if x==2 else 0)\n",
    "\n",
    "## PROVINCIA\n",
    "diciembre['provincia_new'] = diciembre['provincia'].apply(lambda x: 1 if x==3 or x==4 or x==10 or x==46 else 0) \n"
   ]
  },
  {
   "cell_type": "code",
   "execution_count": 77,
   "metadata": {},
   "outputs": [],
   "source": [
    "# RATIOS\n",
    "diciembre['seg_total'] = diciembre['seg_llamad_ent'] + diciembre['seg_llamad_sal']\n",
    "diciembre['llam_total'] = diciembre['num_llamad_ent'] + diciembre['num_llamad_sal']"
   ]
  },
  {
   "cell_type": "code",
   "execution_count": 78,
   "metadata": {},
   "outputs": [],
   "source": [
    "diciembre['ratio_finanlineas'] = diciembre['imp_financ'] / diciembre['num_lineas'] \n",
    "diciembre['ratio_mblineas'] = diciembre['mb_datos'] / diciembre['num_lineas']\n",
    "diciembre['ratio_factlineas'] = diciembre['facturacion'] / diciembre['num_lineas']\n",
    "diciembre['ratio_ent'] = diciembre['seg_llamad_ent'] / diciembre['num_llamad_ent']\n",
    "diciembre['ratio_sal'] = diciembre['seg_llamad_sal'] / diciembre['num_llamad_sal']\n",
    "diciembre['ratio_dtlineas'] = diciembre['num_dt'] / diciembre['num_lineas']\n",
    "diciembre['ratio_dtantig'] = diciembre['num_dt']\n",
    "diciembre['ratio_factmb'] = diciembre['facturacion']\n",
    "diciembre['ratio_factllamad'] = diciembre['facturacion']\n",
    "diciembre['ratio_llamantig'] = diciembre['llam_total']\n",
    "diciembre['ratio_total'] = diciembre['seg_total']"
   ]
  },
  {
   "cell_type": "code",
   "execution_count": 79,
   "metadata": {},
   "outputs": [],
   "source": [
    "diciembre.ratio_factllamad = diciembre.num_llamad_ent[diciembre.num_llamad_ent == 0]\n",
    "diciembre.ratio_llamantig = diciembre.antiguedad[diciembre.antiguedad == 0]\n",
    "diciembre.ratio_factmb = diciembre.mb_datos[diciembre.mb_datos == 0]\n",
    "diciembre.ratio_dtantig = diciembre.antiguedad[diciembre.antiguedad == 0]\n",
    "diciembre.ratio_total = diciembre.llam_total[diciembre.llam_total == 0]"
   ]
  },
  {
   "cell_type": "code",
   "execution_count": 80,
   "metadata": {},
   "outputs": [],
   "source": [
    "diciembre.ratio_factllamad = diciembre.ratio_factllamad.fillna(diciembre.facturacion / diciembre.num_llamad_ent)\n",
    "diciembre.ratio_llamantig = diciembre.ratio_llamantig.fillna(diciembre.llam_total / diciembre.antiguedad)\n",
    "diciembre.ratio_dtantig= diciembre.ratio_llamantig.fillna(diciembre.num_dt / diciembre.antiguedad)\n",
    "diciembre.ratio_factmb = diciembre.ratio_factmb.fillna(diciembre.facturacion / diciembre.mb_datos)\n",
    "diciembre.ratio_total = diciembre.ratio_total.fillna(diciembre.seg_total / diciembre.llam_total)"
   ]
  },
  {
   "cell_type": "code",
   "execution_count": 81,
   "metadata": {},
   "outputs": [],
   "source": [
    "diciembre.ratio_ent = diciembre.ratio_ent.fillna(0)\n",
    "diciembre.ratio_sal= diciembre.ratio_sal.fillna(0)"
   ]
  },
  {
   "cell_type": "code",
   "execution_count": 82,
   "metadata": {},
   "outputs": [],
   "source": [
    "diciembre =  diciembre.replace(-1, 0)\n",
    "# No puede haber negativos, asi que a veces al hacer tramos me ha puesto -1 pues lo he replaceado con 0."
   ]
  },
  {
   "cell_type": "markdown",
   "metadata": {},
   "source": [
    "-----------------------------------------------------"
   ]
  },
  {
   "cell_type": "markdown",
   "metadata": {},
   "source": [
    "## 7. Selección de Variables"
   ]
  },
  {
   "cell_type": "markdown",
   "metadata": {},
   "source": [
    "Una vez finalizado el FE tenemos que seleccionar las variables que incluiremos en nuestro modelo. Miraremos varios criterios como la importancia de los predictores por pureza de nodos y con análisis univariante entre ellas. Solo lo haremos sobre el modelo de XGBoost ya que es el que mejores resultados obtuvo.\n",
    "\n",
    "Para mirar la importancia de los predictores por pureza de nodos previamente generaremos un modelo con todas las variables creadas."
   ]
  },
  {
   "cell_type": "code",
   "execution_count": 207,
   "metadata": {
    "scrolled": true
   },
   "outputs": [],
   "source": [
    "diciembre = diciembre.drop(['target'], axis = 1)"
   ]
  },
  {
   "cell_type": "code",
   "execution_count": 208,
   "metadata": {},
   "outputs": [],
   "source": [
    "X_train, X_test, y_train, y_test = train_test_split(diciembre,\n",
    "                                                    target,\n",
    "                                                    test_size=0.2,\n",
    "                                                    random_state=42,\n",
    "                                                    stratify = target)"
   ]
  },
  {
   "cell_type": "code",
   "execution_count": 209,
   "metadata": {},
   "outputs": [
    {
     "name": "stderr",
     "output_type": "stream",
     "text": [
      "C:\\Users\\carra\\anaconda3\\lib\\site-packages\\xgboost\\sklearn.py:888: UserWarning: The use of label encoder in XGBClassifier is deprecated and will be removed in a future release. To remove this warning, do the following: 1) Pass option use_label_encoder=False when constructing XGBClassifier object; and 2) Encode your labels (y) as integers starting with 0, i.e. 0, 1, 2, ..., [num_class - 1].\n",
      "  warnings.warn(label_encoder_deprecation_msg, UserWarning)\n"
     ]
    },
    {
     "name": "stdout",
     "output_type": "stream",
     "text": [
      "[19:00:40] WARNING: C:/Users/Administrator/workspace/xgboost-win64_release_1.3.0/src/learner.cc:1061: Starting in XGBoost 1.3.0, the default evaluation metric used with the objective 'binary:logistic' was changed from 'error' to 'logloss'. Explicitly set eval_metric if you'd like to restore the old behavior.\n"
     ]
    }
   ],
   "source": [
    "classifier6 = XGBClassifier(n_estimators = 1000).fit(X_train, y_train)\n",
    "y_pred6    = classifier6.predict(X_test)"
   ]
  },
  {
   "cell_type": "code",
   "execution_count": 210,
   "metadata": {},
   "outputs": [
    {
     "name": "stdout",
     "output_type": "stream",
     "text": [
      "matriz de confusión\n",
      "[[  864   553]\n",
      " [  163 17514]]\n",
      "accuracy\n",
      "0.9625013093118258\n",
      "precision\n",
      "0.969391708640062\n",
      "recall\n",
      "0.9907789783334277\n",
      "f1\n",
      "0.9799686660698299\n",
      "AUC\n",
      "0.8002589316508353\n"
     ]
    },
    {
     "data": {
      "image/png": "[encoded data removed]",
      "text/plain": [
       "<Figure size 432x288 with 1 Axes>"
      ]
     },
     "metadata": {
      "needs_background": "light"
     },
     "output_type": "display_data"
    }
   ],
   "source": [
    "saca_metricas(y_test, y_pred6)"
   ]
  },
  {
   "cell_type": "code",
   "execution_count": 211,
   "metadata": {},
   "outputs": [],
   "source": [
    "diciembre['target'] = target"
   ]
  },
  {
   "cell_type": "code",
   "execution_count": 212,
   "metadata": {},
   "outputs": [],
   "source": [
    "importancia_predictores = pd.DataFrame(\n",
    "                            {'predictor': diciembre.drop(columns = \"target\").columns,\n",
    "                             'importancia': classifier6.feature_importances_}\n",
    "                            )"
   ]
  },
  {
   "cell_type": "code",
   "execution_count": 213,
   "metadata": {},
   "outputs": [
    {
     "data": {
      "text/html": [
       "<div>\n",
       "<style scoped>\n",
       "    .dataframe tbody tr th:only-of-type {\n",
       "        vertical-align: middle;\n",
       "    }\n",
       "\n",
       "    .dataframe tbody tr th {\n",
       "        vertical-align: top;\n",
       "    }\n",
       "\n",
       "    .dataframe thead th {\n",
       "        text-align: right;\n",
       "    }\n",
       "</style>\n",
       "<table border=\"1\" class=\"dataframe\">\n",
       "  <thead>\n",
       "    <tr style=\"text-align: right;\">\n",
       "      <th></th>\n",
       "      <th>predictor</th>\n",
       "      <th>importancia</th>\n",
       "    </tr>\n",
       "  </thead>\n",
       "  <tbody>\n",
       "    <tr>\n",
       "      <th>15</th>\n",
       "      <td>descuentos</td>\n",
       "      <td>0.364009</td>\n",
       "    </tr>\n",
       "    <tr>\n",
       "      <th>13</th>\n",
       "      <td>financiacion</td>\n",
       "      <td>0.146710</td>\n",
       "    </tr>\n",
       "    <tr>\n",
       "      <th>7</th>\n",
       "      <td>incidencia</td>\n",
       "      <td>0.106348</td>\n",
       "    </tr>\n",
       "    <tr>\n",
       "      <th>6</th>\n",
       "      <td>num_dt</td>\n",
       "      <td>0.102259</td>\n",
       "    </tr>\n",
       "    <tr>\n",
       "      <th>1</th>\n",
       "      <td>edad</td>\n",
       "      <td>0.063686</td>\n",
       "    </tr>\n",
       "    <tr>\n",
       "      <th>18</th>\n",
       "      <td>TV</td>\n",
       "      <td>0.057758</td>\n",
       "    </tr>\n",
       "    <tr>\n",
       "      <th>16</th>\n",
       "      <td>conexion</td>\n",
       "      <td>0.020767</td>\n",
       "    </tr>\n",
       "    <tr>\n",
       "      <th>17</th>\n",
       "      <td>vel_conexion</td>\n",
       "      <td>0.014572</td>\n",
       "    </tr>\n",
       "    <tr>\n",
       "      <th>56</th>\n",
       "      <td>ratio_dtlineas</td>\n",
       "      <td>0.013391</td>\n",
       "    </tr>\n",
       "    <tr>\n",
       "      <th>51</th>\n",
       "      <td>ratio_finanlineas</td>\n",
       "      <td>0.011270</td>\n",
       "    </tr>\n",
       "    <tr>\n",
       "      <th>0</th>\n",
       "      <td>id</td>\n",
       "      <td>0.008982</td>\n",
       "    </tr>\n",
       "    <tr>\n",
       "      <th>14</th>\n",
       "      <td>imp_financ</td>\n",
       "      <td>0.005443</td>\n",
       "    </tr>\n",
       "    <tr>\n",
       "      <th>46</th>\n",
       "      <td>comunidad_new</td>\n",
       "      <td>0.005424</td>\n",
       "    </tr>\n",
       "    <tr>\n",
       "      <th>48</th>\n",
       "      <td>provincia_new</td>\n",
       "      <td>0.005220</td>\n",
       "    </tr>\n",
       "    <tr>\n",
       "      <th>2</th>\n",
       "      <td>facturacion</td>\n",
       "      <td>0.004006</td>\n",
       "    </tr>\n",
       "    <tr>\n",
       "      <th>53</th>\n",
       "      <td>ratio_factlineas</td>\n",
       "      <td>0.003665</td>\n",
       "    </tr>\n",
       "    <tr>\n",
       "      <th>3</th>\n",
       "      <td>antiguedad</td>\n",
       "      <td>0.003558</td>\n",
       "    </tr>\n",
       "  </tbody>\n",
       "</table>\n",
       "</div>"
      ],
      "text/plain": [
       "            predictor  importancia\n",
       "15         descuentos     0.364009\n",
       "13       financiacion     0.146710\n",
       "7          incidencia     0.106348\n",
       "6              num_dt     0.102259\n",
       "1                edad     0.063686\n",
       "18                 TV     0.057758\n",
       "16           conexion     0.020767\n",
       "17       vel_conexion     0.014572\n",
       "56     ratio_dtlineas     0.013391\n",
       "51  ratio_finanlineas     0.011270\n",
       "0                  id     0.008982\n",
       "14         imp_financ     0.005443\n",
       "46      comunidad_new     0.005424\n",
       "48      provincia_new     0.005220\n",
       "2         facturacion     0.004006\n",
       "53   ratio_factlineas     0.003665\n",
       "3          antiguedad     0.003558"
      ]
     },
     "execution_count": 213,
     "metadata": {},
     "output_type": "execute_result"
    }
   ],
   "source": [
    " importancia_predictores[importancia_predictores.importancia >= 0.0035].sort_values('importancia', ascending=False)"
   ]
  },
  {
   "cell_type": "code",
   "execution_count": 101,
   "metadata": {},
   "outputs": [
    {
     "data": {
      "text/plain": [
       "{'edad': 16.60201294715697,\n",
       " 'num_dt': 25.982730710680947,\n",
       " 'incidencia': 26.974066672603172,\n",
       " 'TV': 14.016369819922607,\n",
       " 'descuentos': 95.14461617514483,\n",
       " 'id': 2.268455111705779,\n",
       " 'financiacion': 37.0238527348681,\n",
       " 'seg_llamad_sal': 0.8293139816110405,\n",
       " 'num_llamad_sal': 0.88853622435463,\n",
       " 'conexion': 5.065776604548163,\n",
       " 'vel_conexion': 4.057830261266786,\n",
       " 'facturacion': 0.9784560522843786,\n",
       " 'ratio_dtlineas': 4.0667103106425,\n",
       " 'ratio_factlineas': 0.9191799110117278,\n",
       " 'mb_datos': 0.8795141527006453,\n",
       " 'ratio_factllamad': 0.8605954832978286,\n",
       " 'ratio_mblineas': 0.9290045774806439,\n",
       " 'provincia': 0.8109277836850146,\n",
       " 'seg_llamad_ent': 0.8837551498837642,\n",
       " 'llam_total': 0.846764663799399,\n",
       " 'ratio_ent': 0.7495659391047336,\n",
       " 'ratio_sal': 0.7275785441486755,\n",
       " 'ratio_dtantig': 0.8810776371768315,\n",
       " 'seg_total': 0.8427285094710553,\n",
       " 'provincia_new': 1.3339182248848485,\n",
       " 'antiguedad': 0.8976798099070911,\n",
       " 'ratio_total': 0.8704430800417133,\n",
       " 'num_llamad_ent': 0.8796978981949746,\n",
       " 'ratio_factmb': 0.8144906006663074,\n",
       " 'ratio_finanlineas': 3.138020352,\n",
       " 'comunidad': 0.8375528931492252,\n",
       " 'num_lineas': 0.6992491114716572,\n",
       " 'vel_conexion_new3': 0.9104115417517241,\n",
       " 'comunidad_new': 0.9641748175214285,\n",
       " 'vel_conexion_new2': 0.6578553284799027,\n",
       " 'imp_financ': 1.87704986,\n",
       " 'vel_conexion_new': 0.683718182695122,\n",
       " 'num_lineas_new2': 0.965601524}"
      ]
     },
     "execution_count": 101,
     "metadata": {},
     "output_type": "execute_result"
    }
   ],
   "source": [
    "classifier6.get_booster().get_score(importance_type=\"gain\")"
   ]
  },
  {
   "cell_type": "markdown",
   "metadata": {},
   "source": [
    "Teniendo en cuenta ambos criterios, seleccionamos las mejores variables:"
   ]
  },
  {
   "cell_type": "code",
   "execution_count": 83,
   "metadata": {},
   "outputs": [],
   "source": [
    "columnas2 = ['edad',\n",
    "             'num_dt',\n",
    "             'incidencia',\n",
    "             'financiacion',\n",
    "             'imp_financ',\n",
    "             'descuentos',\n",
    "             'conexion',\n",
    "             'vel_conexion',\n",
    "             'TV',\n",
    "             'id',\n",
    "             'ratio_finanlineas',\n",
    "             'ratio_dtlineas',\n",
    "             'provincia_new',\n",
    "             'facturacion'\n",
    "                         ]\n"
   ]
  },
  {
   "cell_type": "code",
   "execution_count": 84,
   "metadata": {},
   "outputs": [],
   "source": [
    "diciembre2 = diciembre[columnas2]"
   ]
  },
  {
   "cell_type": "markdown",
   "metadata": {},
   "source": [
    "-------------------------"
   ]
  },
  {
   "cell_type": "markdown",
   "metadata": {},
   "source": [
    "## 8. Modelo nuevo: XGBoost"
   ]
  },
  {
   "cell_type": "code",
   "execution_count": 216,
   "metadata": {},
   "outputs": [],
   "source": [
    "# TRAIN Y TEST\n",
    "X_train, X_test, y_train, y_test = train_test_split(diciembre2,\n",
    "                                                    target,\n",
    "                                                    test_size=0.2,\n",
    "                                                    random_state=42,\n",
    "                                                    stratify = target)"
   ]
  },
  {
   "cell_type": "code",
   "execution_count": 217,
   "metadata": {},
   "outputs": [
    {
     "name": "stderr",
     "output_type": "stream",
     "text": [
      "C:\\Users\\carra\\anaconda3\\lib\\site-packages\\xgboost\\sklearn.py:888: UserWarning: The use of label encoder in XGBClassifier is deprecated and will be removed in a future release. To remove this warning, do the following: 1) Pass option use_label_encoder=False when constructing XGBClassifier object; and 2) Encode your labels (y) as integers starting with 0, i.e. 0, 1, 2, ..., [num_class - 1].\n",
      "  warnings.warn(label_encoder_deprecation_msg, UserWarning)\n"
     ]
    },
    {
     "name": "stdout",
     "output_type": "stream",
     "text": [
      "[19:25:24] WARNING: C:/Users/Administrator/workspace/xgboost-win64_release_1.3.0/src/learner.cc:1061: Starting in XGBoost 1.3.0, the default evaluation metric used with the objective 'binary:logistic' was changed from 'error' to 'logloss'. Explicitly set eval_metric if you'd like to restore the old behavior.\n"
     ]
    }
   ],
   "source": [
    "#XGBOOST\n",
    "classifier61 = XGBClassifier(n_estimators = 1000).fit(X_train, y_train)\n",
    "y_pred61    = classifier61.predict(X_test)"
   ]
  },
  {
   "cell_type": "code",
   "execution_count": 218,
   "metadata": {},
   "outputs": [
    {
     "name": "stdout",
     "output_type": "stream",
     "text": [
      "matriz de confusión\n",
      "[[  909   508]\n",
      " [  212 17465]]\n",
      "accuracy\n",
      "0.962291819419713\n",
      "precision\n",
      "0.9717353808490513\n",
      "recall\n",
      "0.9880070147649488\n",
      "f1\n",
      "0.9798036465638148\n",
      "AUC\n",
      "0.8147515666626438\n"
     ]
    },
    {
     "data": {
      "image/png": "[encoded data removed]",
      "text/plain": [
       "<Figure size 432x288 with 1 Axes>"
      ]
     },
     "metadata": {
      "needs_background": "light"
     },
     "output_type": "display_data"
    }
   ],
   "source": [
    "saca_metricas(y_test, y_pred61)"
   ]
  },
  {
   "cell_type": "markdown",
   "metadata": {},
   "source": [
    "-------------------------------------------------------------------"
   ]
  },
  {
   "cell_type": "markdown",
   "metadata": {},
   "source": [
    "## 9. Balanceo de datos"
   ]
  },
  {
   "cell_type": "markdown",
   "metadata": {},
   "source": [
    "Vemos como la variable objetivo está desbalanceada. El 92,58% de los clientes continuan en el mes de enero con la compañía. Por tanto generaremos un modelo con los datos balanceados y elegiremos que modelo es el que mejores resultados obtiene."
   ]
  },
  {
   "cell_type": "code",
   "execution_count": 219,
   "metadata": {},
   "outputs": [
    {
     "data": {
      "text/plain": [
       "1    88382\n",
       "0     7085\n",
       "Name: id, dtype: int64"
      ]
     },
     "execution_count": 219,
     "metadata": {},
     "output_type": "execute_result"
    }
   ],
   "source": [
    "target.value_counts()"
   ]
  },
  {
   "cell_type": "code",
   "execution_count": 85,
   "metadata": {},
   "outputs": [
    {
     "name": "stdout",
     "output_type": "stream",
     "text": [
      "Before OverSampling, counts of label '1': 88382\n",
      "Before OverSampling, counts of label '0': 7085 \n",
      "\n"
     ]
    }
   ],
   "source": [
    "print(\"Before OverSampling, counts of label '1': {}\".format(sum(target==1)))\n",
    "print(\"Before OverSampling, counts of label '0': {} \\n\".format(sum(target==0)))\n",
    "\n",
    "sm = SMOTE(random_state=2)\n",
    "diciembre2_res, target_res = sm.fit_resample(diciembre2, target.ravel())\n"
   ]
  },
  {
   "cell_type": "code",
   "execution_count": 86,
   "metadata": {},
   "outputs": [],
   "source": [
    "X_train_res, X_test_res, y_train_res, y_test_res = train_test_split(diciembre2_res,\n",
    "                                                    target_res,\n",
    "                                                    test_size=0.2,\n",
    "                                                    random_state=42,\n",
    "                                                    stratify = target_res)"
   ]
  },
  {
   "cell_type": "code",
   "execution_count": 87,
   "metadata": {},
   "outputs": [
    {
     "name": "stdout",
     "output_type": "stream",
     "text": [
      "After OverSampling, the shape of train_X: (141411, 14)\n",
      "After OverSampling, the shape of train_y: (141411,) \n",
      "\n",
      "After OverSampling, counts of label '1': 70706\n",
      "After OverSampling, counts of label '0': 70705\n"
     ]
    }
   ],
   "source": [
    "\n",
    "print('After OverSampling, the shape of train_X: {}'.format(X_train_res.shape))\n",
    "print('After OverSampling, the shape of train_y: {} \\n'.format(y_train_res.shape))\n",
    "\n",
    "print(\"After OverSampling, counts of label '1': {}\".format(sum(y_train_res==1)))\n",
    "print(\"After OverSampling, counts of label '0': {}\".format(sum(y_train_res==0)))"
   ]
  },
  {
   "cell_type": "code",
   "execution_count": 223,
   "metadata": {},
   "outputs": [
    {
     "name": "stderr",
     "output_type": "stream",
     "text": [
      "C:\\Users\\carra\\anaconda3\\lib\\site-packages\\xgboost\\sklearn.py:888: UserWarning: The use of label encoder in XGBClassifier is deprecated and will be removed in a future release. To remove this warning, do the following: 1) Pass option use_label_encoder=False when constructing XGBClassifier object; and 2) Encode your labels (y) as integers starting with 0, i.e. 0, 1, 2, ..., [num_class - 1].\n",
      "  warnings.warn(label_encoder_deprecation_msg, UserWarning)\n"
     ]
    },
    {
     "name": "stdout",
     "output_type": "stream",
     "text": [
      "[19:33:09] WARNING: C:/Users/Administrator/workspace/xgboost-win64_release_1.3.0/src/learner.cc:1061: Starting in XGBoost 1.3.0, the default evaluation metric used with the objective 'binary:logistic' was changed from 'error' to 'logloss'. Explicitly set eval_metric if you'd like to restore the old behavior.\n"
     ]
    }
   ],
   "source": [
    "classifier62 = XGBClassifier(n_estimators = 1000).fit(X_train_res, y_train_res)\n",
    "y_pred62    = classifier62.predict(X_test_res)"
   ]
  },
  {
   "cell_type": "code",
   "execution_count": 224,
   "metadata": {},
   "outputs": [
    {
     "name": "stdout",
     "output_type": "stream",
     "text": [
      "matriz de confusión\n",
      "[[17351   326]\n",
      " [  826 16850]]\n",
      "accuracy\n",
      "0.9674143637032218\n",
      "precision\n",
      "0.9810200279459711\n",
      "recall\n",
      "0.9532699705815796\n",
      "f1\n",
      "0.9669459428440262\n",
      "AUC\n",
      "0.9674139636242174\n"
     ]
    },
    {
     "data": {
      "image/png": "[encoded data removed]",
      "text/plain": [
       "<Figure size 432x288 with 1 Axes>"
      ]
     },
     "metadata": {
      "needs_background": "light"
     },
     "output_type": "display_data"
    }
   ],
   "source": [
    "saca_metricas(y_test_res, y_pred62)"
   ]
  },
  {
   "cell_type": "code",
   "execution_count": 124,
   "metadata": {
    "scrolled": true
   },
   "outputs": [
    {
     "name": "stderr",
     "output_type": "stream",
     "text": [
      "C:\\Users\\carra\\anaconda3\\lib\\site-packages\\xgboost\\sklearn.py:888: UserWarning: The use of label encoder in XGBClassifier is deprecated and will be removed in a future release. To remove this warning, do the following: 1) Pass option use_label_encoder=False when constructing XGBClassifier object; and 2) Encode your labels (y) as integers starting with 0, i.e. 0, 1, 2, ..., [num_class - 1].\n",
      "  warnings.warn(label_encoder_deprecation_msg, UserWarning)\n"
     ]
    },
    {
     "name": "stdout",
     "output_type": "stream",
     "text": [
      "[11:05:11] WARNING: C:/Users/Administrator/workspace/xgboost-win64_release_1.3.0/src/learner.cc:1061: Starting in XGBoost 1.3.0, the default evaluation metric used with the objective 'binary:logistic' was changed from 'error' to 'logloss'. Explicitly set eval_metric if you'd like to restore the old behavior.\n"
     ]
    },
    {
     "name": "stderr",
     "output_type": "stream",
     "text": [
      "C:\\Users\\carra\\anaconda3\\lib\\site-packages\\xgboost\\sklearn.py:888: UserWarning: The use of label encoder in XGBClassifier is deprecated and will be removed in a future release. To remove this warning, do the following: 1) Pass option use_label_encoder=False when constructing XGBClassifier object; and 2) Encode your labels (y) as integers starting with 0, i.e. 0, 1, 2, ..., [num_class - 1].\n",
      "  warnings.warn(label_encoder_deprecation_msg, UserWarning)\n"
     ]
    },
    {
     "name": "stdout",
     "output_type": "stream",
     "text": [
      "[11:17:06] WARNING: C:/Users/Administrator/workspace/xgboost-win64_release_1.3.0/src/learner.cc:1061: Starting in XGBoost 1.3.0, the default evaluation metric used with the objective 'binary:logistic' was changed from 'error' to 'logloss'. Explicitly set eval_metric if you'd like to restore the old behavior.\n"
     ]
    },
    {
     "name": "stderr",
     "output_type": "stream",
     "text": [
      "C:\\Users\\carra\\anaconda3\\lib\\site-packages\\xgboost\\sklearn.py:888: UserWarning: The use of label encoder in XGBClassifier is deprecated and will be removed in a future release. To remove this warning, do the following: 1) Pass option use_label_encoder=False when constructing XGBClassifier object; and 2) Encode your labels (y) as integers starting with 0, i.e. 0, 1, 2, ..., [num_class - 1].\n",
      "  warnings.warn(label_encoder_deprecation_msg, UserWarning)\n"
     ]
    },
    {
     "name": "stdout",
     "output_type": "stream",
     "text": [
      "[11:26:35] WARNING: C:/Users/Administrator/workspace/xgboost-win64_release_1.3.0/src/learner.cc:1061: Starting in XGBoost 1.3.0, the default evaluation metric used with the objective 'binary:logistic' was changed from 'error' to 'logloss'. Explicitly set eval_metric if you'd like to restore the old behavior.\n"
     ]
    },
    {
     "name": "stderr",
     "output_type": "stream",
     "text": [
      "C:\\Users\\carra\\anaconda3\\lib\\site-packages\\xgboost\\sklearn.py:888: UserWarning: The use of label encoder in XGBClassifier is deprecated and will be removed in a future release. To remove this warning, do the following: 1) Pass option use_label_encoder=False when constructing XGBClassifier object; and 2) Encode your labels (y) as integers starting with 0, i.e. 0, 1, 2, ..., [num_class - 1].\n",
      "  warnings.warn(label_encoder_deprecation_msg, UserWarning)\n"
     ]
    },
    {
     "name": "stdout",
     "output_type": "stream",
     "text": [
      "[11:34:52] WARNING: C:/Users/Administrator/workspace/xgboost-win64_release_1.3.0/src/learner.cc:1061: Starting in XGBoost 1.3.0, the default evaluation metric used with the objective 'binary:logistic' was changed from 'error' to 'logloss'. Explicitly set eval_metric if you'd like to restore the old behavior.\n"
     ]
    },
    {
     "name": "stderr",
     "output_type": "stream",
     "text": [
      "C:\\Users\\carra\\anaconda3\\lib\\site-packages\\xgboost\\sklearn.py:888: UserWarning: The use of label encoder in XGBClassifier is deprecated and will be removed in a future release. To remove this warning, do the following: 1) Pass option use_label_encoder=False when constructing XGBClassifier object; and 2) Encode your labels (y) as integers starting with 0, i.e. 0, 1, 2, ..., [num_class - 1].\n",
      "  warnings.warn(label_encoder_deprecation_msg, UserWarning)\n"
     ]
    },
    {
     "name": "stdout",
     "output_type": "stream",
     "text": [
      "[11:43:11] WARNING: C:/Users/Administrator/workspace/xgboost-win64_release_1.3.0/src/learner.cc:1061: Starting in XGBoost 1.3.0, the default evaluation metric used with the objective 'binary:logistic' was changed from 'error' to 'logloss'. Explicitly set eval_metric if you'd like to restore the old behavior.\n"
     ]
    }
   ],
   "source": [
    "final = cross_val_score(estimator=classifier62, X=X_train_res, y=y_train_res, cv=5)"
   ]
  },
  {
   "cell_type": "code",
   "execution_count": 125,
   "metadata": {},
   "outputs": [
    {
     "data": {
      "text/plain": [
       "array([0.96644628, 0.96686939, 0.96916767, 0.96824836, 0.96754119])"
      ]
     },
     "execution_count": 125,
     "metadata": {},
     "output_type": "execute_result"
    }
   ],
   "source": [
    "final"
   ]
  },
  {
   "cell_type": "code",
   "execution_count": 126,
   "metadata": {},
   "outputs": [
    {
     "name": "stdout",
     "output_type": "stream",
     "text": [
      "0.9676545757282007\n"
     ]
    }
   ],
   "source": [
    "print(final.mean())"
   ]
  },
  {
   "cell_type": "code",
   "execution_count": 128,
   "metadata": {},
   "outputs": [
    {
     "name": "stdout",
     "output_type": "stream",
     "text": [
      "0.0009727684329063521\n"
     ]
    }
   ],
   "source": [
    "print(final.std())"
   ]
  },
  {
   "cell_type": "markdown",
   "metadata": {},
   "source": [
    "Como la media es similar al valor en las 5 cv y la desviación, como vemos, es relativamente pequeña podemos ver que no hay overfitting en los datos y, por tanto, que es el modelo que mejor predice. Para intentar mejorarlo un poco vamos a hacer un grid search tuneando los parámetros."
   ]
  },
  {
   "cell_type": "markdown",
   "metadata": {},
   "source": [
    "---------------------------------------------------------------------------------"
   ]
  },
  {
   "cell_type": "markdown",
   "metadata": {},
   "source": [
    "## 10. Grid Search"
   ]
  },
  {
   "cell_type": "code",
   "execution_count": 225,
   "metadata": {},
   "outputs": [
    {
     "data": {
      "text/plain": [
       "{'objective': 'binary:logistic',\n",
       " 'use_label_encoder': True,\n",
       " 'base_score': 0.5,\n",
       " 'booster': 'gbtree',\n",
       " 'colsample_bylevel': 1,\n",
       " 'colsample_bynode': 1,\n",
       " 'colsample_bytree': 1,\n",
       " 'gamma': 0,\n",
       " 'gpu_id': -1,\n",
       " 'importance_type': 'gain',\n",
       " 'interaction_constraints': '',\n",
       " 'learning_rate': 0.300000012,\n",
       " 'max_delta_step': 0,\n",
       " 'max_depth': 6,\n",
       " 'min_child_weight': 1,\n",
       " 'missing': nan,\n",
       " 'monotone_constraints': '()',\n",
       " 'n_estimators': 1000,\n",
       " 'n_jobs': 2,\n",
       " 'num_parallel_tree': 1,\n",
       " 'random_state': 0,\n",
       " 'reg_alpha': 0,\n",
       " 'reg_lambda': 1,\n",
       " 'scale_pos_weight': 1,\n",
       " 'subsample': 1,\n",
       " 'tree_method': 'exact',\n",
       " 'validate_parameters': 1,\n",
       " 'verbosity': None}"
      ]
     },
     "execution_count": 225,
     "metadata": {},
     "output_type": "execute_result"
    }
   ],
   "source": [
    "classifier62.get_params()"
   ]
  },
  {
   "cell_type": "markdown",
   "metadata": {},
   "source": [
    "*Al ser un XGBoost y no tener un ordenador muy potente, se probaron varios modelos con diferentes combinaciones que no se muestran aquí por el exceso de tiempo de ejecución.*"
   ]
  },
  {
   "cell_type": "code",
   "execution_count": 226,
   "metadata": {},
   "outputs": [],
   "source": [
    "grid_param = {\n",
    "    #'eta': [ 0.01, 0.05, 0.1, 0.15, 0.2],\n",
    "    'max_depth': [8, 10],\n",
    "    #'subsample': [ 0.5, 0.8, 1],\n",
    "    #'colsample_bytree': [0.5, 0.8, 1],\n",
    "    #'n_estimators': [500,1000]\n",
    "}"
   ]
  },
  {
   "cell_type": "markdown",
   "metadata": {},
   "source": [
    "Para evitar el overfitting, dentro del GridSearch metemos cv = 4."
   ]
  },
  {
   "cell_type": "code",
   "execution_count": 227,
   "metadata": {},
   "outputs": [],
   "source": [
    "model_grid = GridSearchCV(estimator=classifier62,\n",
    "                     param_grid=grid_param,\n",
    "                     scoring='recall',\n",
    "                     cv=4)"
   ]
  },
  {
   "cell_type": "code",
   "execution_count": 228,
   "metadata": {},
   "outputs": [
    {
     "name": "stderr",
     "output_type": "stream",
     "text": [
      "C:\\Users\\carra\\anaconda3\\lib\\site-packages\\xgboost\\sklearn.py:888: UserWarning: The use of label encoder in XGBClassifier is deprecated and will be removed in a future release. To remove this warning, do the following: 1) Pass option use_label_encoder=False when constructing XGBClassifier object; and 2) Encode your labels (y) as integers starting with 0, i.e. 0, 1, 2, ..., [num_class - 1].\n",
      "  warnings.warn(label_encoder_deprecation_msg, UserWarning)\n"
     ]
    },
    {
     "name": "stdout",
     "output_type": "stream",
     "text": [
      "[19:47:48] WARNING: C:/Users/Administrator/workspace/xgboost-win64_release_1.3.0/src/learner.cc:1061: Starting in XGBoost 1.3.0, the default evaluation metric used with the objective 'binary:logistic' was changed from 'error' to 'logloss'. Explicitly set eval_metric if you'd like to restore the old behavior.\n",
      "[19:54:45] WARNING: C:/Users/Administrator/workspace/xgboost-win64_release_1.3.0/src/learner.cc:1061: Starting in XGBoost 1.3.0, the default evaluation metric used with the objective 'binary:logistic' was changed from 'error' to 'logloss'. Explicitly set eval_metric if you'd like to restore the old behavior.\n",
      "[20:01:14] WARNING: C:/Users/Administrator/workspace/xgboost-win64_release_1.3.0/src/learner.cc:1061: Starting in XGBoost 1.3.0, the default evaluation metric used with the objective 'binary:logistic' was changed from 'error' to 'logloss'. Explicitly set eval_metric if you'd like to restore the old behavior.\n",
      "[20:07:31] WARNING: C:/Users/Administrator/workspace/xgboost-win64_release_1.3.0/src/learner.cc:1061: Starting in XGBoost 1.3.0, the default evaluation metric used with the objective 'binary:logistic' was changed from 'error' to 'logloss'. Explicitly set eval_metric if you'd like to restore the old behavior.\n",
      "[20:13:23] WARNING: C:/Users/Administrator/workspace/xgboost-win64_release_1.3.0/src/learner.cc:1061: Starting in XGBoost 1.3.0, the default evaluation metric used with the objective 'binary:logistic' was changed from 'error' to 'logloss'. Explicitly set eval_metric if you'd like to restore the old behavior.\n",
      "[20:20:37] WARNING: C:/Users/Administrator/workspace/xgboost-win64_release_1.3.0/src/learner.cc:1061: Starting in XGBoost 1.3.0, the default evaluation metric used with the objective 'binary:logistic' was changed from 'error' to 'logloss'. Explicitly set eval_metric if you'd like to restore the old behavior.\n",
      "[20:27:53] WARNING: C:/Users/Administrator/workspace/xgboost-win64_release_1.3.0/src/learner.cc:1061: Starting in XGBoost 1.3.0, the default evaluation metric used with the objective 'binary:logistic' was changed from 'error' to 'logloss'. Explicitly set eval_metric if you'd like to restore the old behavior.\n",
      "[20:35:08] WARNING: C:/Users/Administrator/workspace/xgboost-win64_release_1.3.0/src/learner.cc:1061: Starting in XGBoost 1.3.0, the default evaluation metric used with the objective 'binary:logistic' was changed from 'error' to 'logloss'. Explicitly set eval_metric if you'd like to restore the old behavior.\n",
      "[20:42:29] WARNING: C:/Users/Administrator/workspace/xgboost-win64_release_1.3.0/src/learner.cc:1061: Starting in XGBoost 1.3.0, the default evaluation metric used with the objective 'binary:logistic' was changed from 'error' to 'logloss'. Explicitly set eval_metric if you'd like to restore the old behavior.\n"
     ]
    },
    {
     "data": {
      "text/plain": [
       "GridSearchCV(cv=4,\n",
       "             estimator=XGBClassifier(base_score=0.5, booster='gbtree',\n",
       "                                     colsample_bylevel=1, colsample_bynode=1,\n",
       "                                     colsample_bytree=1, gamma=0, gpu_id=-1,\n",
       "                                     importance_type='gain',\n",
       "                                     interaction_constraints='',\n",
       "                                     learning_rate=0.300000012,\n",
       "                                     max_delta_step=0, max_depth=6,\n",
       "                                     min_child_weight=1, missing=nan,\n",
       "                                     monotone_constraints='()',\n",
       "                                     n_estimators=1000, n_jobs=2,\n",
       "                                     num_parallel_tree=1, random_state=0,\n",
       "                                     reg_alpha=0, reg_lambda=1,\n",
       "                                     scale_pos_weight=1, subsample=1,\n",
       "                                     tree_method='exact', validate_parameters=1,\n",
       "                                     verbosity=None),\n",
       "             param_grid={'max_depth': [8, 10]}, scoring='recall')"
      ]
     },
     "execution_count": 228,
     "metadata": {},
     "output_type": "execute_result"
    }
   ],
   "source": [
    "model_grid.fit(X_train_res, y_train_res)"
   ]
  },
  {
   "cell_type": "code",
   "execution_count": 229,
   "metadata": {},
   "outputs": [
    {
     "data": {
      "text/plain": [
       "{'max_depth': 10}"
      ]
     },
     "execution_count": 229,
     "metadata": {},
     "output_type": "execute_result"
    }
   ],
   "source": [
    "model_grid.best_params_"
   ]
  },
  {
   "cell_type": "code",
   "execution_count": 230,
   "metadata": {},
   "outputs": [
    {
     "name": "stdout",
     "output_type": "stream",
     "text": [
      "[20:58:48] WARNING: C:/Users/Administrator/workspace/xgboost-win64_release_1.3.0/src/learner.cc:1061: Starting in XGBoost 1.3.0, the default evaluation metric used with the objective 'binary:logistic' was changed from 'error' to 'logloss'. Explicitly set eval_metric if you'd like to restore the old behavior.\n"
     ]
    }
   ],
   "source": [
    "classifier63 = XGBClassifier(n_estimators = 1000, max_depth= 10).fit(X_train_res, y_train_res)\n",
    "y_pred63    = classifier63.predict(X_test_res)"
   ]
  },
  {
   "cell_type": "code",
   "execution_count": 231,
   "metadata": {},
   "outputs": [
    {
     "name": "stdout",
     "output_type": "stream",
     "text": [
      "matriz de confusión\n",
      "[[17379   298]\n",
      " [  778 16898]]\n",
      "accuracy\n",
      "0.9695641105422453\n",
      "precision\n",
      "0.9826703884624332\n",
      "recall\n",
      "0.9559855170853134\n",
      "f1\n",
      "0.9691442991511815\n",
      "AUC\n",
      "0.9695637264670782\n"
     ]
    },
    {
     "data": {
      "image/png": "[encoded data removed]",
      "text/plain": [
       "<Figure size 432x288 with 1 Axes>"
      ]
     },
     "metadata": {
      "needs_background": "light"
     },
     "output_type": "display_data"
    }
   ],
   "source": [
    "saca_metricas(y_test_res, y_pred63)"
   ]
  },
  {
   "cell_type": "markdown",
   "metadata": {},
   "source": [
    "Se ha conseguido mejorar ligeramente el modelo."
   ]
  },
  {
   "cell_type": "markdown",
   "metadata": {},
   "source": [
    "---------------------------------------------------------"
   ]
  },
  {
   "cell_type": "markdown",
   "metadata": {},
   "source": [
    "## 11. Predicción"
   ]
  },
  {
   "cell_type": "markdown",
   "metadata": {},
   "source": [
    "Una vez elegido el modelo, creamos las variables nuevas que habíamos generado con FE y que están incluídas en ese modelo. Obtendremos un modelo con las predicciones sobre el mes de enero con las variables seleccionadas"
   ]
  },
  {
   "cell_type": "code",
   "execution_count": 88,
   "metadata": {},
   "outputs": [],
   "source": [
    "enero['ratio_dtlineas'] = enero['num_dt'] / enero['num_lineas']\n",
    "enero['ratio_finanlineas'] = enero['imp_financ'] / enero['num_lineas'] \n",
    "enero['provincia_new'] = enero['provincia'].apply(lambda x: 1 if x==3 or x==4 or x==10 or x==46 else 0) "
   ]
  },
  {
   "cell_type": "code",
   "execution_count": 89,
   "metadata": {},
   "outputs": [],
   "source": [
    "columnas2 = ['edad',\n",
    "             'num_dt',\n",
    "             'incidencia',\n",
    "             'financiacion',\n",
    "             'imp_financ',\n",
    "             'descuentos',\n",
    "             'conexion',\n",
    "             'vel_conexion',\n",
    "             'TV',\n",
    "             'id',\n",
    "             'ratio_finanlineas',\n",
    "             'ratio_dtlineas',\n",
    "             'provincia_new',\n",
    "             'facturacion'\n",
    "                         ]"
   ]
  },
  {
   "cell_type": "code",
   "execution_count": 90,
   "metadata": {},
   "outputs": [],
   "source": [
    "enero2 = enero[columnas2]"
   ]
  },
  {
   "cell_type": "code",
   "execution_count": 91,
   "metadata": {},
   "outputs": [
    {
     "name": "stderr",
     "output_type": "stream",
     "text": [
      "C:\\Users\\carra\\anaconda3\\lib\\site-packages\\xgboost\\sklearn.py:888: UserWarning: The use of label encoder in XGBClassifier is deprecated and will be removed in a future release. To remove this warning, do the following: 1) Pass option use_label_encoder=False when constructing XGBClassifier object; and 2) Encode your labels (y) as integers starting with 0, i.e. 0, 1, 2, ..., [num_class - 1].\n",
      "  warnings.warn(label_encoder_deprecation_msg, UserWarning)\n"
     ]
    },
    {
     "name": "stdout",
     "output_type": "stream",
     "text": [
      "[18:27:29] WARNING: C:/Users/Administrator/workspace/xgboost-win64_release_1.3.0/src/learner.cc:1061: Starting in XGBoost 1.3.0, the default evaluation metric used with the objective 'binary:logistic' was changed from 'error' to 'logloss'. Explicitly set eval_metric if you'd like to restore the old behavior.\n"
     ]
    }
   ],
   "source": [
    "# Estimación para enero\n",
    "classifier64 = XGBClassifier(n_estimators = 1000, max_depth= 10).fit(diciembre2_res, target_res)\n",
    "y_pred64    = classifier64.predict(enero2)"
   ]
  },
  {
   "cell_type": "code",
   "execution_count": 92,
   "metadata": {},
   "outputs": [
    {
     "data": {
      "text/plain": [
       "array([1, 1, 1, ..., 1, 1, 1], dtype=int64)"
      ]
     },
     "execution_count": 92,
     "metadata": {},
     "output_type": "execute_result"
    }
   ],
   "source": [
    "y_pred64"
   ]
  },
  {
   "cell_type": "code",
   "execution_count": 93,
   "metadata": {},
   "outputs": [],
   "source": [
    "modelo_proba = classifier64.predict_proba(enero2)[:,1]"
   ]
  },
  {
   "cell_type": "code",
   "execution_count": 94,
   "metadata": {},
   "outputs": [],
   "source": [
    "modelo_proba = (pd.DataFrame(modelo_proba,columns=['probabilidad'],index=enero2.index)) # Le mete al test la columana con las probabilidades\n",
    "modelo_proba.sort_values(by=['probabilidad'],ascending=False,axis=0,inplace=True)"
   ]
  },
  {
   "cell_type": "code",
   "execution_count": 95,
   "metadata": {},
   "outputs": [],
   "source": [
    "enero2.reset_index(inplace=True)"
   ]
  },
  {
   "cell_type": "code",
   "execution_count": 96,
   "metadata": {},
   "outputs": [],
   "source": [
    "modelo_proba.reset_index(inplace=True)"
   ]
  },
  {
   "cell_type": "code",
   "execution_count": 97,
   "metadata": {},
   "outputs": [],
   "source": [
    "resultado = pd.merge(enero2, modelo_proba, on= ['index'])"
   ]
  },
  {
   "cell_type": "code",
   "execution_count": 98,
   "metadata": {},
   "outputs": [
    {
     "data": {
      "text/html": [
       "<div>\n",
       "<style scoped>\n",
       "    .dataframe tbody tr th:only-of-type {\n",
       "        vertical-align: middle;\n",
       "    }\n",
       "\n",
       "    .dataframe tbody tr th {\n",
       "        vertical-align: top;\n",
       "    }\n",
       "\n",
       "    .dataframe thead th {\n",
       "        text-align: right;\n",
       "    }\n",
       "</style>\n",
       "<table border=\"1\" class=\"dataframe\">\n",
       "  <thead>\n",
       "    <tr style=\"text-align: right;\">\n",
       "      <th></th>\n",
       "      <th>index</th>\n",
       "      <th>edad</th>\n",
       "      <th>num_dt</th>\n",
       "      <th>incidencia</th>\n",
       "      <th>financiacion</th>\n",
       "      <th>imp_financ</th>\n",
       "      <th>descuentos</th>\n",
       "      <th>conexion</th>\n",
       "      <th>vel_conexion</th>\n",
       "      <th>TV</th>\n",
       "      <th>id</th>\n",
       "      <th>ratio_finanlineas</th>\n",
       "      <th>ratio_dtlineas</th>\n",
       "      <th>provincia_new</th>\n",
       "      <th>facturacion</th>\n",
       "      <th>probabilidad</th>\n",
       "    </tr>\n",
       "  </thead>\n",
       "  <tbody>\n",
       "    <tr>\n",
       "      <th>0</th>\n",
       "      <td>95467</td>\n",
       "      <td>63</td>\n",
       "      <td>0.0</td>\n",
       "      <td>0</td>\n",
       "      <td>0</td>\n",
       "      <td>0.0</td>\n",
       "      <td>0</td>\n",
       "      <td>0</td>\n",
       "      <td>7</td>\n",
       "      <td>1</td>\n",
       "      <td>1</td>\n",
       "      <td>0.0</td>\n",
       "      <td>0.0</td>\n",
       "      <td>0</td>\n",
       "      <td>216.028109</td>\n",
       "      <td>1.000000</td>\n",
       "    </tr>\n",
       "    <tr>\n",
       "      <th>48547</th>\n",
       "      <td>144014</td>\n",
       "      <td>36</td>\n",
       "      <td>0.0</td>\n",
       "      <td>0</td>\n",
       "      <td>0</td>\n",
       "      <td>0.0</td>\n",
       "      <td>0</td>\n",
       "      <td>1</td>\n",
       "      <td>4</td>\n",
       "      <td>3</td>\n",
       "      <td>52367</td>\n",
       "      <td>0.0</td>\n",
       "      <td>0.0</td>\n",
       "      <td>0</td>\n",
       "      <td>386.468584</td>\n",
       "      <td>1.000000</td>\n",
       "    </tr>\n",
       "    <tr>\n",
       "      <th>48511</th>\n",
       "      <td>143978</td>\n",
       "      <td>61</td>\n",
       "      <td>0.0</td>\n",
       "      <td>0</td>\n",
       "      <td>0</td>\n",
       "      <td>0.0</td>\n",
       "      <td>1</td>\n",
       "      <td>1</td>\n",
       "      <td>2</td>\n",
       "      <td>3</td>\n",
       "      <td>52329</td>\n",
       "      <td>0.0</td>\n",
       "      <td>0.0</td>\n",
       "      <td>0</td>\n",
       "      <td>340.190769</td>\n",
       "      <td>1.000000</td>\n",
       "    </tr>\n",
       "    <tr>\n",
       "      <th>48512</th>\n",
       "      <td>143979</td>\n",
       "      <td>52</td>\n",
       "      <td>0.0</td>\n",
       "      <td>0</td>\n",
       "      <td>0</td>\n",
       "      <td>0.0</td>\n",
       "      <td>0</td>\n",
       "      <td>0</td>\n",
       "      <td>7</td>\n",
       "      <td>3</td>\n",
       "      <td>52330</td>\n",
       "      <td>0.0</td>\n",
       "      <td>0.0</td>\n",
       "      <td>0</td>\n",
       "      <td>393.435993</td>\n",
       "      <td>1.000000</td>\n",
       "    </tr>\n",
       "    <tr>\n",
       "      <th>48515</th>\n",
       "      <td>143982</td>\n",
       "      <td>76</td>\n",
       "      <td>0.0</td>\n",
       "      <td>0</td>\n",
       "      <td>0</td>\n",
       "      <td>0.0</td>\n",
       "      <td>0</td>\n",
       "      <td>0</td>\n",
       "      <td>11</td>\n",
       "      <td>3</td>\n",
       "      <td>52333</td>\n",
       "      <td>0.0</td>\n",
       "      <td>0.0</td>\n",
       "      <td>0</td>\n",
       "      <td>309.541963</td>\n",
       "      <td>1.000000</td>\n",
       "    </tr>\n",
       "    <tr>\n",
       "      <th>...</th>\n",
       "      <td>...</td>\n",
       "      <td>...</td>\n",
       "      <td>...</td>\n",
       "      <td>...</td>\n",
       "      <td>...</td>\n",
       "      <td>...</td>\n",
       "      <td>...</td>\n",
       "      <td>...</td>\n",
       "      <td>...</td>\n",
       "      <td>...</td>\n",
       "      <td>...</td>\n",
       "      <td>...</td>\n",
       "      <td>...</td>\n",
       "      <td>...</td>\n",
       "      <td>...</td>\n",
       "      <td>...</td>\n",
       "    </tr>\n",
       "    <tr>\n",
       "      <th>41536</th>\n",
       "      <td>137003</td>\n",
       "      <td>28</td>\n",
       "      <td>0.0</td>\n",
       "      <td>0</td>\n",
       "      <td>0</td>\n",
       "      <td>0.0</td>\n",
       "      <td>0</td>\n",
       "      <td>0</td>\n",
       "      <td>7</td>\n",
       "      <td>1</td>\n",
       "      <td>44798</td>\n",
       "      <td>0.0</td>\n",
       "      <td>0.0</td>\n",
       "      <td>0</td>\n",
       "      <td>37.681998</td>\n",
       "      <td>0.000634</td>\n",
       "    </tr>\n",
       "    <tr>\n",
       "      <th>82507</th>\n",
       "      <td>177974</td>\n",
       "      <td>32</td>\n",
       "      <td>4.0</td>\n",
       "      <td>0</td>\n",
       "      <td>0</td>\n",
       "      <td>0.0</td>\n",
       "      <td>0</td>\n",
       "      <td>1</td>\n",
       "      <td>3</td>\n",
       "      <td>1</td>\n",
       "      <td>88968</td>\n",
       "      <td>0.0</td>\n",
       "      <td>1.0</td>\n",
       "      <td>0</td>\n",
       "      <td>274.630457</td>\n",
       "      <td>0.000266</td>\n",
       "    </tr>\n",
       "    <tr>\n",
       "      <th>774</th>\n",
       "      <td>96241</td>\n",
       "      <td>24</td>\n",
       "      <td>0.0</td>\n",
       "      <td>0</td>\n",
       "      <td>0</td>\n",
       "      <td>0.0</td>\n",
       "      <td>0</td>\n",
       "      <td>1</td>\n",
       "      <td>4</td>\n",
       "      <td>1</td>\n",
       "      <td>842</td>\n",
       "      <td>0.0</td>\n",
       "      <td>0.0</td>\n",
       "      <td>0</td>\n",
       "      <td>233.311908</td>\n",
       "      <td>0.000256</td>\n",
       "    </tr>\n",
       "    <tr>\n",
       "      <th>34997</th>\n",
       "      <td>130464</td>\n",
       "      <td>28</td>\n",
       "      <td>4.0</td>\n",
       "      <td>0</td>\n",
       "      <td>0</td>\n",
       "      <td>0.0</td>\n",
       "      <td>0</td>\n",
       "      <td>0</td>\n",
       "      <td>9</td>\n",
       "      <td>1</td>\n",
       "      <td>37713</td>\n",
       "      <td>0.0</td>\n",
       "      <td>4.0</td>\n",
       "      <td>0</td>\n",
       "      <td>23.989383</td>\n",
       "      <td>0.000245</td>\n",
       "    </tr>\n",
       "    <tr>\n",
       "      <th>64287</th>\n",
       "      <td>159754</td>\n",
       "      <td>32</td>\n",
       "      <td>2.0</td>\n",
       "      <td>0</td>\n",
       "      <td>0</td>\n",
       "      <td>0.0</td>\n",
       "      <td>0</td>\n",
       "      <td>1</td>\n",
       "      <td>4</td>\n",
       "      <td>2</td>\n",
       "      <td>69369</td>\n",
       "      <td>0.0</td>\n",
       "      <td>1.0</td>\n",
       "      <td>0</td>\n",
       "      <td>42.570850</td>\n",
       "      <td>0.000175</td>\n",
       "    </tr>\n",
       "  </tbody>\n",
       "</table>\n",
       "<p>92711 rows × 16 columns</p>\n",
       "</div>"
      ],
      "text/plain": [
       "        index  edad  num_dt  incidencia  financiacion  imp_financ  descuentos  \\\n",
       "0       95467    63     0.0           0             0         0.0           0   \n",
       "48547  144014    36     0.0           0             0         0.0           0   \n",
       "48511  143978    61     0.0           0             0         0.0           1   \n",
       "48512  143979    52     0.0           0             0         0.0           0   \n",
       "48515  143982    76     0.0           0             0         0.0           0   \n",
       "...       ...   ...     ...         ...           ...         ...         ...   \n",
       "41536  137003    28     0.0           0             0         0.0           0   \n",
       "82507  177974    32     4.0           0             0         0.0           0   \n",
       "774     96241    24     0.0           0             0         0.0           0   \n",
       "34997  130464    28     4.0           0             0         0.0           0   \n",
       "64287  159754    32     2.0           0             0         0.0           0   \n",
       "\n",
       "       conexion  vel_conexion  TV     id  ratio_finanlineas  ratio_dtlineas  \\\n",
       "0             0             7   1      1                0.0             0.0   \n",
       "48547         1             4   3  52367                0.0             0.0   \n",
       "48511         1             2   3  52329                0.0             0.0   \n",
       "48512         0             7   3  52330                0.0             0.0   \n",
       "48515         0            11   3  52333                0.0             0.0   \n",
       "...         ...           ...  ..    ...                ...             ...   \n",
       "41536         0             7   1  44798                0.0             0.0   \n",
       "82507         1             3   1  88968                0.0             1.0   \n",
       "774           1             4   1    842                0.0             0.0   \n",
       "34997         0             9   1  37713                0.0             4.0   \n",
       "64287         1             4   2  69369                0.0             1.0   \n",
       "\n",
       "       provincia_new  facturacion  probabilidad  \n",
       "0                  0   216.028109      1.000000  \n",
       "48547              0   386.468584      1.000000  \n",
       "48511              0   340.190769      1.000000  \n",
       "48512              0   393.435993      1.000000  \n",
       "48515              0   309.541963      1.000000  \n",
       "...              ...          ...           ...  \n",
       "41536              0    37.681998      0.000634  \n",
       "82507              0   274.630457      0.000266  \n",
       "774                0   233.311908      0.000256  \n",
       "34997              0    23.989383      0.000245  \n",
       "64287              0    42.570850      0.000175  \n",
       "\n",
       "[92711 rows x 16 columns]"
      ]
     },
     "execution_count": 98,
     "metadata": {},
     "output_type": "execute_result"
    }
   ],
   "source": [
    "resultado.sort_values(by='probabilidad', ascending= False)"
   ]
  },
  {
   "cell_type": "code",
   "execution_count": 100,
   "metadata": {},
   "outputs": [],
   "source": [
    "resultado.to_excel('resultado.xlsx', index = False)"
   ]
  },
  {
   "cell_type": "markdown",
   "metadata": {},
   "source": [
    "-------------------------------------------------------------------------------------------------------------------"
   ]
  },
  {
   "cell_type": "markdown",
   "metadata": {},
   "source": [
    "## 12. Claves"
   ]
  },
  {
   "cell_type": "markdown",
   "metadata": {},
   "source": [
    "*Cuanta más elevada la probabilidad, mayor probabilidad de seguir en la compañía.*\n",
    "\n",
    "- Descuentos: si el cliente no cuenta con descuentos es más probable que se marche de la compañía.\n",
    "- Incidencia: si el cliente ha tenido alguna incidencia o reclamación es menos probable que se marche de la compañía.\n",
    "- Financiación: los clientes no tienen financiado algún terminal es más probable que se marche de la compañía. \n",
    "- Num_dt: cuantas más líneas impagadas menos probabilidad tiene de irse de la compañía.\n",
    "- Edad: los jóvenes (menores de 38 años) tienen una mayor probabilidad de dejar la compañía.\n",
    "- Ratio finan_lineas: cuanto menor importe de financiación medio por número de líneas mayor probabilidad de dejar la compañía.\n",
    "- Ratio dtlineas: cuanto menor sea, es decir, cuanto menor sea le número de líneas impagadas en relación a las líneas que tenga contratadas el cliente, mayor probabilidad de marcharse de la compañía.\n",
    "- TV: los clientes que tienen contratado unicamente el fútbol tienen más probabilidad de irse."
   ]
  }
 ],
 "metadata": {
  "kernelspec": {
   "display_name": "Python 3",
   "language": "python",
   "name": "python3"
  },
  "language_info": {
   "codemirror_mode": {
    "name": "ipython",
    "version": 3
   },
   "file_extension": ".py",
   "mimetype": "text/x-python",
   "name": "python",
   "nbconvert_exporter": "python",
   "pygments_lexer": "ipython3",
   "version": "3.8.3"
  }
 },
 "nbformat": 4,
 "nbformat_minor": 4
}
